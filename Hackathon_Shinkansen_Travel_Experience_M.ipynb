{
 "cells": [
  {
   "cell_type": "code",
   "execution_count": 1,
   "id": "bf1a4438",
   "metadata": {},
   "outputs": [],
   "source": [
    "#import libraries\n",
    "import os\n",
    "import numpy as np\n",
    "import pandas as pd\n",
    "import matplotlib.pyplot as plt\n",
    "%matplotlib inline\n",
    "import seaborn as sns\n",
    "from warnings import filterwarnings \n",
    "filterwarnings(\"ignore\")\n",
    "\n",
    "from sklearn.model_selection import train_test_split, GridSearchCV\n",
    "# Import machine learning libraries\n",
    "from sklearn.ensemble import RandomForestClassifier\n",
    "from sklearn.linear_model import LogisticRegression\n",
    "from sklearn.discriminant_analysis import LinearDiscriminantAnalysis\n",
    "from sklearn.neighbors import KNeighborsClassifier\n",
    "from sklearn.naive_bayes import GaussianNB\n",
    "from sklearn.ensemble import BaggingClassifier\n",
    "from sklearn.ensemble import GradientBoostingClassifier\n",
    "from sklearn.ensemble import AdaBoostClassifier\n",
    "from imblearn.over_sampling import SMOTE\n",
    "from sklearn.tree import DecisionTreeClassifier\n",
    "from sklearn.ensemble import VotingClassifier\n",
    "from sklearn.svm import SVC\n",
    "from sklearn.metrics import classification_report,confusion_matrix, plot_confusion_matrix,roc_curve, roc_auc_score,accuracy_score"
   ]
  },
  {
   "cell_type": "code",
   "execution_count": 2,
   "id": "52fa9d7a",
   "metadata": {},
   "outputs": [],
   "source": [
    "#Read all csv files\n",
    "df_Surveydata_train = pd.read_csv('Surveydata_train.csv')\n",
    "df_Traveldata_train = pd.read_csv('Traveldata_train.csv')"
   ]
  },
  {
   "cell_type": "code",
   "execution_count": 3,
   "id": "9c983c35",
   "metadata": {},
   "outputs": [
    {
     "data": {
      "text/html": [
       "<div>\n",
       "<style scoped>\n",
       "    .dataframe tbody tr th:only-of-type {\n",
       "        vertical-align: middle;\n",
       "    }\n",
       "\n",
       "    .dataframe tbody tr th {\n",
       "        vertical-align: top;\n",
       "    }\n",
       "\n",
       "    .dataframe thead th {\n",
       "        text-align: right;\n",
       "    }\n",
       "</style>\n",
       "<table border=\"1\" class=\"dataframe\">\n",
       "  <thead>\n",
       "    <tr style=\"text-align: right;\">\n",
       "      <th></th>\n",
       "      <th>ID</th>\n",
       "      <th>Overall_Experience</th>\n",
       "      <th>Seat_comfort</th>\n",
       "      <th>Seat_Class</th>\n",
       "      <th>Arrival_time_convenient</th>\n",
       "      <th>Catering</th>\n",
       "      <th>Platform_location</th>\n",
       "      <th>Onboardwifi_service</th>\n",
       "      <th>Onboard_entertainment</th>\n",
       "      <th>Online_support</th>\n",
       "      <th>Onlinebooking_Ease</th>\n",
       "      <th>Onboard_service</th>\n",
       "      <th>Leg_room</th>\n",
       "      <th>Baggage_handling</th>\n",
       "      <th>Checkin_service</th>\n",
       "      <th>Cleanliness</th>\n",
       "      <th>Online_boarding</th>\n",
       "    </tr>\n",
       "  </thead>\n",
       "  <tbody>\n",
       "    <tr>\n",
       "      <th>0</th>\n",
       "      <td>98800001</td>\n",
       "      <td>0</td>\n",
       "      <td>need improvement</td>\n",
       "      <td>Green Car</td>\n",
       "      <td>excellent</td>\n",
       "      <td>excellent</td>\n",
       "      <td>very convinient</td>\n",
       "      <td>good</td>\n",
       "      <td>need improvement</td>\n",
       "      <td>acceptable</td>\n",
       "      <td>need improvement</td>\n",
       "      <td>need improvement</td>\n",
       "      <td>acceptable</td>\n",
       "      <td>need improvement</td>\n",
       "      <td>good</td>\n",
       "      <td>need improvement</td>\n",
       "      <td>poor</td>\n",
       "    </tr>\n",
       "    <tr>\n",
       "      <th>1</th>\n",
       "      <td>98800002</td>\n",
       "      <td>0</td>\n",
       "      <td>poor</td>\n",
       "      <td>Ordinary</td>\n",
       "      <td>excellent</td>\n",
       "      <td>poor</td>\n",
       "      <td>need improvement</td>\n",
       "      <td>good</td>\n",
       "      <td>poor</td>\n",
       "      <td>good</td>\n",
       "      <td>good</td>\n",
       "      <td>excellent</td>\n",
       "      <td>need improvement</td>\n",
       "      <td>poor</td>\n",
       "      <td>need improvement</td>\n",
       "      <td>good</td>\n",
       "      <td>good</td>\n",
       "    </tr>\n",
       "    <tr>\n",
       "      <th>2</th>\n",
       "      <td>98800003</td>\n",
       "      <td>1</td>\n",
       "      <td>need improvement</td>\n",
       "      <td>Green Car</td>\n",
       "      <td>need improvement</td>\n",
       "      <td>need improvement</td>\n",
       "      <td>need improvement</td>\n",
       "      <td>need improvement</td>\n",
       "      <td>good</td>\n",
       "      <td>excellent</td>\n",
       "      <td>excellent</td>\n",
       "      <td>excellent</td>\n",
       "      <td>excellent</td>\n",
       "      <td>excellent</td>\n",
       "      <td>good</td>\n",
       "      <td>excellent</td>\n",
       "      <td>excellent</td>\n",
       "    </tr>\n",
       "    <tr>\n",
       "      <th>3</th>\n",
       "      <td>98800004</td>\n",
       "      <td>0</td>\n",
       "      <td>acceptable</td>\n",
       "      <td>Ordinary</td>\n",
       "      <td>need improvement</td>\n",
       "      <td>NaN</td>\n",
       "      <td>need improvement</td>\n",
       "      <td>acceptable</td>\n",
       "      <td>need improvement</td>\n",
       "      <td>acceptable</td>\n",
       "      <td>acceptable</td>\n",
       "      <td>acceptable</td>\n",
       "      <td>acceptable</td>\n",
       "      <td>acceptable</td>\n",
       "      <td>good</td>\n",
       "      <td>acceptable</td>\n",
       "      <td>acceptable</td>\n",
       "    </tr>\n",
       "    <tr>\n",
       "      <th>4</th>\n",
       "      <td>98800005</td>\n",
       "      <td>1</td>\n",
       "      <td>acceptable</td>\n",
       "      <td>Ordinary</td>\n",
       "      <td>acceptable</td>\n",
       "      <td>acceptable</td>\n",
       "      <td>manageable</td>\n",
       "      <td>need improvement</td>\n",
       "      <td>good</td>\n",
       "      <td>excellent</td>\n",
       "      <td>good</td>\n",
       "      <td>good</td>\n",
       "      <td>good</td>\n",
       "      <td>good</td>\n",
       "      <td>good</td>\n",
       "      <td>good</td>\n",
       "      <td>good</td>\n",
       "    </tr>\n",
       "  </tbody>\n",
       "</table>\n",
       "</div>"
      ],
      "text/plain": [
       "         ID  Overall_Experience      Seat_comfort Seat_Class  \\\n",
       "0  98800001                   0  need improvement  Green Car   \n",
       "1  98800002                   0              poor   Ordinary   \n",
       "2  98800003                   1  need improvement  Green Car   \n",
       "3  98800004                   0        acceptable   Ordinary   \n",
       "4  98800005                   1        acceptable   Ordinary   \n",
       "\n",
       "  Arrival_time_convenient          Catering Platform_location  \\\n",
       "0               excellent         excellent   very convinient   \n",
       "1               excellent              poor  need improvement   \n",
       "2        need improvement  need improvement  need improvement   \n",
       "3        need improvement               NaN  need improvement   \n",
       "4              acceptable        acceptable        manageable   \n",
       "\n",
       "  Onboardwifi_service Onboard_entertainment Online_support Onlinebooking_Ease  \\\n",
       "0                good      need improvement     acceptable   need improvement   \n",
       "1                good                  poor           good               good   \n",
       "2    need improvement                  good      excellent          excellent   \n",
       "3          acceptable      need improvement     acceptable         acceptable   \n",
       "4    need improvement                  good      excellent               good   \n",
       "\n",
       "    Onboard_service          Leg_room  Baggage_handling   Checkin_service  \\\n",
       "0  need improvement        acceptable  need improvement              good   \n",
       "1         excellent  need improvement              poor  need improvement   \n",
       "2         excellent         excellent         excellent              good   \n",
       "3        acceptable        acceptable        acceptable              good   \n",
       "4              good              good              good              good   \n",
       "\n",
       "        Cleanliness Online_boarding  \n",
       "0  need improvement            poor  \n",
       "1              good            good  \n",
       "2         excellent       excellent  \n",
       "3        acceptable      acceptable  \n",
       "4              good            good  "
      ]
     },
     "execution_count": 3,
     "metadata": {},
     "output_type": "execute_result"
    }
   ],
   "source": [
    "# Surveydata_train_Head\n",
    "df_Surveydata_train.head()"
   ]
  },
  {
   "cell_type": "code",
   "execution_count": 4,
   "id": "a05fc2b9",
   "metadata": {},
   "outputs": [
    {
     "data": {
      "text/html": [
       "<div>\n",
       "<style scoped>\n",
       "    .dataframe tbody tr th:only-of-type {\n",
       "        vertical-align: middle;\n",
       "    }\n",
       "\n",
       "    .dataframe tbody tr th {\n",
       "        vertical-align: top;\n",
       "    }\n",
       "\n",
       "    .dataframe thead th {\n",
       "        text-align: right;\n",
       "    }\n",
       "</style>\n",
       "<table border=\"1\" class=\"dataframe\">\n",
       "  <thead>\n",
       "    <tr style=\"text-align: right;\">\n",
       "      <th></th>\n",
       "      <th>ID</th>\n",
       "      <th>Overall_Experience</th>\n",
       "      <th>Seat_comfort</th>\n",
       "      <th>Seat_Class</th>\n",
       "      <th>Arrival_time_convenient</th>\n",
       "      <th>Catering</th>\n",
       "      <th>Platform_location</th>\n",
       "      <th>Onboardwifi_service</th>\n",
       "      <th>Onboard_entertainment</th>\n",
       "      <th>Online_support</th>\n",
       "      <th>Onlinebooking_Ease</th>\n",
       "      <th>Onboard_service</th>\n",
       "      <th>Leg_room</th>\n",
       "      <th>Baggage_handling</th>\n",
       "      <th>Checkin_service</th>\n",
       "      <th>Cleanliness</th>\n",
       "      <th>Online_boarding</th>\n",
       "    </tr>\n",
       "  </thead>\n",
       "  <tbody>\n",
       "    <tr>\n",
       "      <th>94374</th>\n",
       "      <td>98894375</td>\n",
       "      <td>0</td>\n",
       "      <td>poor</td>\n",
       "      <td>Ordinary</td>\n",
       "      <td>good</td>\n",
       "      <td>good</td>\n",
       "      <td>Convinient</td>\n",
       "      <td>poor</td>\n",
       "      <td>poor</td>\n",
       "      <td>poor</td>\n",
       "      <td>poor</td>\n",
       "      <td>good</td>\n",
       "      <td>good</td>\n",
       "      <td>good</td>\n",
       "      <td>need improvement</td>\n",
       "      <td>good</td>\n",
       "      <td>poor</td>\n",
       "    </tr>\n",
       "    <tr>\n",
       "      <th>94375</th>\n",
       "      <td>98894376</td>\n",
       "      <td>1</td>\n",
       "      <td>good</td>\n",
       "      <td>Ordinary</td>\n",
       "      <td>good</td>\n",
       "      <td>good</td>\n",
       "      <td>Convinient</td>\n",
       "      <td>need improvement</td>\n",
       "      <td>excellent</td>\n",
       "      <td>excellent</td>\n",
       "      <td>acceptable</td>\n",
       "      <td>acceptable</td>\n",
       "      <td>acceptable</td>\n",
       "      <td>acceptable</td>\n",
       "      <td>good</td>\n",
       "      <td>acceptable</td>\n",
       "      <td>good</td>\n",
       "    </tr>\n",
       "    <tr>\n",
       "      <th>94376</th>\n",
       "      <td>98894377</td>\n",
       "      <td>1</td>\n",
       "      <td>need improvement</td>\n",
       "      <td>Green Car</td>\n",
       "      <td>need improvement</td>\n",
       "      <td>need improvement</td>\n",
       "      <td>need improvement</td>\n",
       "      <td>good</td>\n",
       "      <td>excellent</td>\n",
       "      <td>good</td>\n",
       "      <td>good</td>\n",
       "      <td>good</td>\n",
       "      <td>good</td>\n",
       "      <td>good</td>\n",
       "      <td>acceptable</td>\n",
       "      <td>good</td>\n",
       "      <td>acceptable</td>\n",
       "    </tr>\n",
       "    <tr>\n",
       "      <th>94377</th>\n",
       "      <td>98894378</td>\n",
       "      <td>0</td>\n",
       "      <td>need improvement</td>\n",
       "      <td>Ordinary</td>\n",
       "      <td>NaN</td>\n",
       "      <td>need improvement</td>\n",
       "      <td>Convinient</td>\n",
       "      <td>good</td>\n",
       "      <td>need improvement</td>\n",
       "      <td>good</td>\n",
       "      <td>good</td>\n",
       "      <td>acceptable</td>\n",
       "      <td>good</td>\n",
       "      <td>good</td>\n",
       "      <td>good</td>\n",
       "      <td>excellent</td>\n",
       "      <td>good</td>\n",
       "    </tr>\n",
       "    <tr>\n",
       "      <th>94378</th>\n",
       "      <td>98894379</td>\n",
       "      <td>0</td>\n",
       "      <td>acceptable</td>\n",
       "      <td>Ordinary</td>\n",
       "      <td>poor</td>\n",
       "      <td>acceptable</td>\n",
       "      <td>manageable</td>\n",
       "      <td>acceptable</td>\n",
       "      <td>acceptable</td>\n",
       "      <td>acceptable</td>\n",
       "      <td>acceptable</td>\n",
       "      <td>poor</td>\n",
       "      <td>good</td>\n",
       "      <td>good</td>\n",
       "      <td>poor</td>\n",
       "      <td>good</td>\n",
       "      <td>acceptable</td>\n",
       "    </tr>\n",
       "  </tbody>\n",
       "</table>\n",
       "</div>"
      ],
      "text/plain": [
       "             ID  Overall_Experience      Seat_comfort Seat_Class  \\\n",
       "94374  98894375                   0              poor   Ordinary   \n",
       "94375  98894376                   1              good   Ordinary   \n",
       "94376  98894377                   1  need improvement  Green Car   \n",
       "94377  98894378                   0  need improvement   Ordinary   \n",
       "94378  98894379                   0        acceptable   Ordinary   \n",
       "\n",
       "      Arrival_time_convenient          Catering Platform_location  \\\n",
       "94374                    good              good        Convinient   \n",
       "94375                    good              good        Convinient   \n",
       "94376        need improvement  need improvement  need improvement   \n",
       "94377                     NaN  need improvement        Convinient   \n",
       "94378                    poor        acceptable        manageable   \n",
       "\n",
       "      Onboardwifi_service Onboard_entertainment Online_support  \\\n",
       "94374                poor                  poor           poor   \n",
       "94375    need improvement             excellent      excellent   \n",
       "94376                good             excellent           good   \n",
       "94377                good      need improvement           good   \n",
       "94378          acceptable            acceptable     acceptable   \n",
       "\n",
       "      Onlinebooking_Ease Onboard_service    Leg_room Baggage_handling  \\\n",
       "94374               poor            good        good             good   \n",
       "94375         acceptable      acceptable  acceptable       acceptable   \n",
       "94376               good            good        good             good   \n",
       "94377               good      acceptable        good             good   \n",
       "94378         acceptable            poor        good             good   \n",
       "\n",
       "        Checkin_service Cleanliness Online_boarding  \n",
       "94374  need improvement        good            poor  \n",
       "94375              good  acceptable            good  \n",
       "94376        acceptable        good      acceptable  \n",
       "94377              good   excellent            good  \n",
       "94378              poor        good      acceptable  "
      ]
     },
     "execution_count": 4,
     "metadata": {},
     "output_type": "execute_result"
    }
   ],
   "source": [
    "# Surveydata_train_tail\n",
    "df_Surveydata_train.tail()"
   ]
  },
  {
   "cell_type": "code",
   "execution_count": 5,
   "id": "7471b13c",
   "metadata": {},
   "outputs": [
    {
     "data": {
      "text/html": [
       "<div>\n",
       "<style scoped>\n",
       "    .dataframe tbody tr th:only-of-type {\n",
       "        vertical-align: middle;\n",
       "    }\n",
       "\n",
       "    .dataframe tbody tr th {\n",
       "        vertical-align: top;\n",
       "    }\n",
       "\n",
       "    .dataframe thead th {\n",
       "        text-align: right;\n",
       "    }\n",
       "</style>\n",
       "<table border=\"1\" class=\"dataframe\">\n",
       "  <thead>\n",
       "    <tr style=\"text-align: right;\">\n",
       "      <th></th>\n",
       "      <th>ID</th>\n",
       "      <th>Gender</th>\n",
       "      <th>CustomerType</th>\n",
       "      <th>Age</th>\n",
       "      <th>TypeTravel</th>\n",
       "      <th>Travel_Class</th>\n",
       "      <th>Travel_Distance</th>\n",
       "      <th>DepartureDelay_in_Mins</th>\n",
       "      <th>ArrivalDelay_in_Mins</th>\n",
       "    </tr>\n",
       "  </thead>\n",
       "  <tbody>\n",
       "    <tr>\n",
       "      <th>0</th>\n",
       "      <td>98800001</td>\n",
       "      <td>Female</td>\n",
       "      <td>Loyal Customer</td>\n",
       "      <td>52.0</td>\n",
       "      <td>NaN</td>\n",
       "      <td>Business</td>\n",
       "      <td>272</td>\n",
       "      <td>0.0</td>\n",
       "      <td>5.0</td>\n",
       "    </tr>\n",
       "    <tr>\n",
       "      <th>1</th>\n",
       "      <td>98800002</td>\n",
       "      <td>Male</td>\n",
       "      <td>Loyal Customer</td>\n",
       "      <td>48.0</td>\n",
       "      <td>Personal Travel</td>\n",
       "      <td>Eco</td>\n",
       "      <td>2200</td>\n",
       "      <td>9.0</td>\n",
       "      <td>0.0</td>\n",
       "    </tr>\n",
       "    <tr>\n",
       "      <th>2</th>\n",
       "      <td>98800003</td>\n",
       "      <td>Female</td>\n",
       "      <td>Loyal Customer</td>\n",
       "      <td>43.0</td>\n",
       "      <td>Business travel</td>\n",
       "      <td>Business</td>\n",
       "      <td>1061</td>\n",
       "      <td>77.0</td>\n",
       "      <td>119.0</td>\n",
       "    </tr>\n",
       "    <tr>\n",
       "      <th>3</th>\n",
       "      <td>98800004</td>\n",
       "      <td>Female</td>\n",
       "      <td>Loyal Customer</td>\n",
       "      <td>44.0</td>\n",
       "      <td>Business travel</td>\n",
       "      <td>Business</td>\n",
       "      <td>780</td>\n",
       "      <td>13.0</td>\n",
       "      <td>18.0</td>\n",
       "    </tr>\n",
       "    <tr>\n",
       "      <th>4</th>\n",
       "      <td>98800005</td>\n",
       "      <td>Female</td>\n",
       "      <td>Loyal Customer</td>\n",
       "      <td>50.0</td>\n",
       "      <td>Business travel</td>\n",
       "      <td>Business</td>\n",
       "      <td>1981</td>\n",
       "      <td>0.0</td>\n",
       "      <td>0.0</td>\n",
       "    </tr>\n",
       "  </tbody>\n",
       "</table>\n",
       "</div>"
      ],
      "text/plain": [
       "         ID  Gender    CustomerType   Age       TypeTravel Travel_Class  \\\n",
       "0  98800001  Female  Loyal Customer  52.0              NaN     Business   \n",
       "1  98800002    Male  Loyal Customer  48.0  Personal Travel          Eco   \n",
       "2  98800003  Female  Loyal Customer  43.0  Business travel     Business   \n",
       "3  98800004  Female  Loyal Customer  44.0  Business travel     Business   \n",
       "4  98800005  Female  Loyal Customer  50.0  Business travel     Business   \n",
       "\n",
       "   Travel_Distance  DepartureDelay_in_Mins  ArrivalDelay_in_Mins  \n",
       "0              272                     0.0                   5.0  \n",
       "1             2200                     9.0                   0.0  \n",
       "2             1061                    77.0                 119.0  \n",
       "3              780                    13.0                  18.0  \n",
       "4             1981                     0.0                   0.0  "
      ]
     },
     "execution_count": 5,
     "metadata": {},
     "output_type": "execute_result"
    }
   ],
   "source": [
    "# Travel data_train_Head\n",
    "df_Traveldata_train.head()"
   ]
  },
  {
   "cell_type": "code",
   "execution_count": 6,
   "id": "10530a5a",
   "metadata": {},
   "outputs": [
    {
     "data": {
      "text/html": [
       "<div>\n",
       "<style scoped>\n",
       "    .dataframe tbody tr th:only-of-type {\n",
       "        vertical-align: middle;\n",
       "    }\n",
       "\n",
       "    .dataframe tbody tr th {\n",
       "        vertical-align: top;\n",
       "    }\n",
       "\n",
       "    .dataframe thead th {\n",
       "        text-align: right;\n",
       "    }\n",
       "</style>\n",
       "<table border=\"1\" class=\"dataframe\">\n",
       "  <thead>\n",
       "    <tr style=\"text-align: right;\">\n",
       "      <th></th>\n",
       "      <th>ID</th>\n",
       "      <th>Gender</th>\n",
       "      <th>CustomerType</th>\n",
       "      <th>Age</th>\n",
       "      <th>TypeTravel</th>\n",
       "      <th>Travel_Class</th>\n",
       "      <th>Travel_Distance</th>\n",
       "      <th>DepartureDelay_in_Mins</th>\n",
       "      <th>ArrivalDelay_in_Mins</th>\n",
       "    </tr>\n",
       "  </thead>\n",
       "  <tbody>\n",
       "    <tr>\n",
       "      <th>94374</th>\n",
       "      <td>98894375</td>\n",
       "      <td>Male</td>\n",
       "      <td>Loyal Customer</td>\n",
       "      <td>32.0</td>\n",
       "      <td>Business travel</td>\n",
       "      <td>Business</td>\n",
       "      <td>1357</td>\n",
       "      <td>83.0</td>\n",
       "      <td>125.0</td>\n",
       "    </tr>\n",
       "    <tr>\n",
       "      <th>94375</th>\n",
       "      <td>98894376</td>\n",
       "      <td>Male</td>\n",
       "      <td>Loyal Customer</td>\n",
       "      <td>44.0</td>\n",
       "      <td>Business travel</td>\n",
       "      <td>Business</td>\n",
       "      <td>592</td>\n",
       "      <td>5.0</td>\n",
       "      <td>11.0</td>\n",
       "    </tr>\n",
       "    <tr>\n",
       "      <th>94376</th>\n",
       "      <td>98894377</td>\n",
       "      <td>Male</td>\n",
       "      <td>NaN</td>\n",
       "      <td>63.0</td>\n",
       "      <td>Business travel</td>\n",
       "      <td>Business</td>\n",
       "      <td>2794</td>\n",
       "      <td>0.0</td>\n",
       "      <td>0.0</td>\n",
       "    </tr>\n",
       "    <tr>\n",
       "      <th>94377</th>\n",
       "      <td>98894378</td>\n",
       "      <td>Male</td>\n",
       "      <td>Loyal Customer</td>\n",
       "      <td>16.0</td>\n",
       "      <td>Personal Travel</td>\n",
       "      <td>Eco</td>\n",
       "      <td>2744</td>\n",
       "      <td>0.0</td>\n",
       "      <td>0.0</td>\n",
       "    </tr>\n",
       "    <tr>\n",
       "      <th>94378</th>\n",
       "      <td>98894379</td>\n",
       "      <td>Male</td>\n",
       "      <td>Loyal Customer</td>\n",
       "      <td>54.0</td>\n",
       "      <td>NaN</td>\n",
       "      <td>Eco</td>\n",
       "      <td>2107</td>\n",
       "      <td>28.0</td>\n",
       "      <td>28.0</td>\n",
       "    </tr>\n",
       "  </tbody>\n",
       "</table>\n",
       "</div>"
      ],
      "text/plain": [
       "             ID Gender    CustomerType   Age       TypeTravel Travel_Class  \\\n",
       "94374  98894375   Male  Loyal Customer  32.0  Business travel     Business   \n",
       "94375  98894376   Male  Loyal Customer  44.0  Business travel     Business   \n",
       "94376  98894377   Male             NaN  63.0  Business travel     Business   \n",
       "94377  98894378   Male  Loyal Customer  16.0  Personal Travel          Eco   \n",
       "94378  98894379   Male  Loyal Customer  54.0              NaN          Eco   \n",
       "\n",
       "       Travel_Distance  DepartureDelay_in_Mins  ArrivalDelay_in_Mins  \n",
       "94374             1357                    83.0                 125.0  \n",
       "94375              592                     5.0                  11.0  \n",
       "94376             2794                     0.0                   0.0  \n",
       "94377             2744                     0.0                   0.0  \n",
       "94378             2107                    28.0                  28.0  "
      ]
     },
     "execution_count": 6,
     "metadata": {},
     "output_type": "execute_result"
    }
   ],
   "source": [
    "# Travel data_train_tail\n",
    "df_Traveldata_train.tail()"
   ]
  },
  {
   "cell_type": "code",
   "execution_count": 7,
   "id": "6650be2b",
   "metadata": {},
   "outputs": [
    {
     "data": {
      "text/plain": [
       "(94379, 17)"
      ]
     },
     "execution_count": 7,
     "metadata": {},
     "output_type": "execute_result"
    }
   ],
   "source": [
    "# shape of surveydata train\n",
    "df_Surveydata_train.shape"
   ]
  },
  {
   "cell_type": "code",
   "execution_count": 8,
   "id": "dfc55969",
   "metadata": {},
   "outputs": [
    {
     "data": {
      "text/plain": [
       "(94379, 9)"
      ]
     },
     "execution_count": 8,
     "metadata": {},
     "output_type": "execute_result"
    }
   ],
   "source": [
    "# shape of traveldata train\n",
    "df_Traveldata_train.shape"
   ]
  },
  {
   "cell_type": "code",
   "execution_count": 9,
   "id": "ee5a9a45",
   "metadata": {},
   "outputs": [],
   "source": [
    "# merge Surveydata & travel data for Train and testset\n",
    "df_train = pd.merge (df_Surveydata_train, df_Traveldata_train, on = 'ID' , how = 'outer')"
   ]
  },
  {
   "cell_type": "code",
   "execution_count": 10,
   "id": "dada7769",
   "metadata": {},
   "outputs": [
    {
     "data": {
      "text/html": [
       "<div>\n",
       "<style scoped>\n",
       "    .dataframe tbody tr th:only-of-type {\n",
       "        vertical-align: middle;\n",
       "    }\n",
       "\n",
       "    .dataframe tbody tr th {\n",
       "        vertical-align: top;\n",
       "    }\n",
       "\n",
       "    .dataframe thead th {\n",
       "        text-align: right;\n",
       "    }\n",
       "</style>\n",
       "<table border=\"1\" class=\"dataframe\">\n",
       "  <thead>\n",
       "    <tr style=\"text-align: right;\">\n",
       "      <th></th>\n",
       "      <th>ID</th>\n",
       "      <th>Overall_Experience</th>\n",
       "      <th>Seat_comfort</th>\n",
       "      <th>Seat_Class</th>\n",
       "      <th>Arrival_time_convenient</th>\n",
       "      <th>Catering</th>\n",
       "      <th>Platform_location</th>\n",
       "      <th>Onboardwifi_service</th>\n",
       "      <th>Onboard_entertainment</th>\n",
       "      <th>Online_support</th>\n",
       "      <th>...</th>\n",
       "      <th>Cleanliness</th>\n",
       "      <th>Online_boarding</th>\n",
       "      <th>Gender</th>\n",
       "      <th>CustomerType</th>\n",
       "      <th>Age</th>\n",
       "      <th>TypeTravel</th>\n",
       "      <th>Travel_Class</th>\n",
       "      <th>Travel_Distance</th>\n",
       "      <th>DepartureDelay_in_Mins</th>\n",
       "      <th>ArrivalDelay_in_Mins</th>\n",
       "    </tr>\n",
       "  </thead>\n",
       "  <tbody>\n",
       "    <tr>\n",
       "      <th>0</th>\n",
       "      <td>98800001</td>\n",
       "      <td>0</td>\n",
       "      <td>need improvement</td>\n",
       "      <td>Green Car</td>\n",
       "      <td>excellent</td>\n",
       "      <td>excellent</td>\n",
       "      <td>very convinient</td>\n",
       "      <td>good</td>\n",
       "      <td>need improvement</td>\n",
       "      <td>acceptable</td>\n",
       "      <td>...</td>\n",
       "      <td>need improvement</td>\n",
       "      <td>poor</td>\n",
       "      <td>Female</td>\n",
       "      <td>Loyal Customer</td>\n",
       "      <td>52.0</td>\n",
       "      <td>NaN</td>\n",
       "      <td>Business</td>\n",
       "      <td>272</td>\n",
       "      <td>0.0</td>\n",
       "      <td>5.0</td>\n",
       "    </tr>\n",
       "    <tr>\n",
       "      <th>1</th>\n",
       "      <td>98800002</td>\n",
       "      <td>0</td>\n",
       "      <td>poor</td>\n",
       "      <td>Ordinary</td>\n",
       "      <td>excellent</td>\n",
       "      <td>poor</td>\n",
       "      <td>need improvement</td>\n",
       "      <td>good</td>\n",
       "      <td>poor</td>\n",
       "      <td>good</td>\n",
       "      <td>...</td>\n",
       "      <td>good</td>\n",
       "      <td>good</td>\n",
       "      <td>Male</td>\n",
       "      <td>Loyal Customer</td>\n",
       "      <td>48.0</td>\n",
       "      <td>Personal Travel</td>\n",
       "      <td>Eco</td>\n",
       "      <td>2200</td>\n",
       "      <td>9.0</td>\n",
       "      <td>0.0</td>\n",
       "    </tr>\n",
       "    <tr>\n",
       "      <th>2</th>\n",
       "      <td>98800003</td>\n",
       "      <td>1</td>\n",
       "      <td>need improvement</td>\n",
       "      <td>Green Car</td>\n",
       "      <td>need improvement</td>\n",
       "      <td>need improvement</td>\n",
       "      <td>need improvement</td>\n",
       "      <td>need improvement</td>\n",
       "      <td>good</td>\n",
       "      <td>excellent</td>\n",
       "      <td>...</td>\n",
       "      <td>excellent</td>\n",
       "      <td>excellent</td>\n",
       "      <td>Female</td>\n",
       "      <td>Loyal Customer</td>\n",
       "      <td>43.0</td>\n",
       "      <td>Business travel</td>\n",
       "      <td>Business</td>\n",
       "      <td>1061</td>\n",
       "      <td>77.0</td>\n",
       "      <td>119.0</td>\n",
       "    </tr>\n",
       "    <tr>\n",
       "      <th>3</th>\n",
       "      <td>98800004</td>\n",
       "      <td>0</td>\n",
       "      <td>acceptable</td>\n",
       "      <td>Ordinary</td>\n",
       "      <td>need improvement</td>\n",
       "      <td>NaN</td>\n",
       "      <td>need improvement</td>\n",
       "      <td>acceptable</td>\n",
       "      <td>need improvement</td>\n",
       "      <td>acceptable</td>\n",
       "      <td>...</td>\n",
       "      <td>acceptable</td>\n",
       "      <td>acceptable</td>\n",
       "      <td>Female</td>\n",
       "      <td>Loyal Customer</td>\n",
       "      <td>44.0</td>\n",
       "      <td>Business travel</td>\n",
       "      <td>Business</td>\n",
       "      <td>780</td>\n",
       "      <td>13.0</td>\n",
       "      <td>18.0</td>\n",
       "    </tr>\n",
       "    <tr>\n",
       "      <th>4</th>\n",
       "      <td>98800005</td>\n",
       "      <td>1</td>\n",
       "      <td>acceptable</td>\n",
       "      <td>Ordinary</td>\n",
       "      <td>acceptable</td>\n",
       "      <td>acceptable</td>\n",
       "      <td>manageable</td>\n",
       "      <td>need improvement</td>\n",
       "      <td>good</td>\n",
       "      <td>excellent</td>\n",
       "      <td>...</td>\n",
       "      <td>good</td>\n",
       "      <td>good</td>\n",
       "      <td>Female</td>\n",
       "      <td>Loyal Customer</td>\n",
       "      <td>50.0</td>\n",
       "      <td>Business travel</td>\n",
       "      <td>Business</td>\n",
       "      <td>1981</td>\n",
       "      <td>0.0</td>\n",
       "      <td>0.0</td>\n",
       "    </tr>\n",
       "  </tbody>\n",
       "</table>\n",
       "<p>5 rows × 25 columns</p>\n",
       "</div>"
      ],
      "text/plain": [
       "         ID  Overall_Experience      Seat_comfort Seat_Class  \\\n",
       "0  98800001                   0  need improvement  Green Car   \n",
       "1  98800002                   0              poor   Ordinary   \n",
       "2  98800003                   1  need improvement  Green Car   \n",
       "3  98800004                   0        acceptable   Ordinary   \n",
       "4  98800005                   1        acceptable   Ordinary   \n",
       "\n",
       "  Arrival_time_convenient          Catering Platform_location  \\\n",
       "0               excellent         excellent   very convinient   \n",
       "1               excellent              poor  need improvement   \n",
       "2        need improvement  need improvement  need improvement   \n",
       "3        need improvement               NaN  need improvement   \n",
       "4              acceptable        acceptable        manageable   \n",
       "\n",
       "  Onboardwifi_service Onboard_entertainment Online_support  ...  \\\n",
       "0                good      need improvement     acceptable  ...   \n",
       "1                good                  poor           good  ...   \n",
       "2    need improvement                  good      excellent  ...   \n",
       "3          acceptable      need improvement     acceptable  ...   \n",
       "4    need improvement                  good      excellent  ...   \n",
       "\n",
       "        Cleanliness Online_boarding  Gender    CustomerType   Age  \\\n",
       "0  need improvement            poor  Female  Loyal Customer  52.0   \n",
       "1              good            good    Male  Loyal Customer  48.0   \n",
       "2         excellent       excellent  Female  Loyal Customer  43.0   \n",
       "3        acceptable      acceptable  Female  Loyal Customer  44.0   \n",
       "4              good            good  Female  Loyal Customer  50.0   \n",
       "\n",
       "        TypeTravel Travel_Class Travel_Distance DepartureDelay_in_Mins  \\\n",
       "0              NaN     Business             272                    0.0   \n",
       "1  Personal Travel          Eco            2200                    9.0   \n",
       "2  Business travel     Business            1061                   77.0   \n",
       "3  Business travel     Business             780                   13.0   \n",
       "4  Business travel     Business            1981                    0.0   \n",
       "\n",
       "   ArrivalDelay_in_Mins  \n",
       "0                   5.0  \n",
       "1                   0.0  \n",
       "2                 119.0  \n",
       "3                  18.0  \n",
       "4                   0.0  \n",
       "\n",
       "[5 rows x 25 columns]"
      ]
     },
     "execution_count": 10,
     "metadata": {},
     "output_type": "execute_result"
    }
   ],
   "source": [
    "# merged trainset first 5 rows\n",
    "df_train.head()"
   ]
  },
  {
   "cell_type": "code",
   "execution_count": 11,
   "id": "2ce1ceb5",
   "metadata": {},
   "outputs": [
    {
     "data": {
      "text/html": [
       "<div>\n",
       "<style scoped>\n",
       "    .dataframe tbody tr th:only-of-type {\n",
       "        vertical-align: middle;\n",
       "    }\n",
       "\n",
       "    .dataframe tbody tr th {\n",
       "        vertical-align: top;\n",
       "    }\n",
       "\n",
       "    .dataframe thead th {\n",
       "        text-align: right;\n",
       "    }\n",
       "</style>\n",
       "<table border=\"1\" class=\"dataframe\">\n",
       "  <thead>\n",
       "    <tr style=\"text-align: right;\">\n",
       "      <th></th>\n",
       "      <th>ID</th>\n",
       "      <th>Overall_Experience</th>\n",
       "      <th>Seat_comfort</th>\n",
       "      <th>Seat_Class</th>\n",
       "      <th>Arrival_time_convenient</th>\n",
       "      <th>Catering</th>\n",
       "      <th>Platform_location</th>\n",
       "      <th>Onboardwifi_service</th>\n",
       "      <th>Onboard_entertainment</th>\n",
       "      <th>Online_support</th>\n",
       "      <th>...</th>\n",
       "      <th>Cleanliness</th>\n",
       "      <th>Online_boarding</th>\n",
       "      <th>Gender</th>\n",
       "      <th>CustomerType</th>\n",
       "      <th>Age</th>\n",
       "      <th>TypeTravel</th>\n",
       "      <th>Travel_Class</th>\n",
       "      <th>Travel_Distance</th>\n",
       "      <th>DepartureDelay_in_Mins</th>\n",
       "      <th>ArrivalDelay_in_Mins</th>\n",
       "    </tr>\n",
       "  </thead>\n",
       "  <tbody>\n",
       "    <tr>\n",
       "      <th>94374</th>\n",
       "      <td>98894375</td>\n",
       "      <td>0</td>\n",
       "      <td>poor</td>\n",
       "      <td>Ordinary</td>\n",
       "      <td>good</td>\n",
       "      <td>good</td>\n",
       "      <td>Convinient</td>\n",
       "      <td>poor</td>\n",
       "      <td>poor</td>\n",
       "      <td>poor</td>\n",
       "      <td>...</td>\n",
       "      <td>good</td>\n",
       "      <td>poor</td>\n",
       "      <td>Male</td>\n",
       "      <td>Loyal Customer</td>\n",
       "      <td>32.0</td>\n",
       "      <td>Business travel</td>\n",
       "      <td>Business</td>\n",
       "      <td>1357</td>\n",
       "      <td>83.0</td>\n",
       "      <td>125.0</td>\n",
       "    </tr>\n",
       "    <tr>\n",
       "      <th>94375</th>\n",
       "      <td>98894376</td>\n",
       "      <td>1</td>\n",
       "      <td>good</td>\n",
       "      <td>Ordinary</td>\n",
       "      <td>good</td>\n",
       "      <td>good</td>\n",
       "      <td>Convinient</td>\n",
       "      <td>need improvement</td>\n",
       "      <td>excellent</td>\n",
       "      <td>excellent</td>\n",
       "      <td>...</td>\n",
       "      <td>acceptable</td>\n",
       "      <td>good</td>\n",
       "      <td>Male</td>\n",
       "      <td>Loyal Customer</td>\n",
       "      <td>44.0</td>\n",
       "      <td>Business travel</td>\n",
       "      <td>Business</td>\n",
       "      <td>592</td>\n",
       "      <td>5.0</td>\n",
       "      <td>11.0</td>\n",
       "    </tr>\n",
       "    <tr>\n",
       "      <th>94376</th>\n",
       "      <td>98894377</td>\n",
       "      <td>1</td>\n",
       "      <td>need improvement</td>\n",
       "      <td>Green Car</td>\n",
       "      <td>need improvement</td>\n",
       "      <td>need improvement</td>\n",
       "      <td>need improvement</td>\n",
       "      <td>good</td>\n",
       "      <td>excellent</td>\n",
       "      <td>good</td>\n",
       "      <td>...</td>\n",
       "      <td>good</td>\n",
       "      <td>acceptable</td>\n",
       "      <td>Male</td>\n",
       "      <td>NaN</td>\n",
       "      <td>63.0</td>\n",
       "      <td>Business travel</td>\n",
       "      <td>Business</td>\n",
       "      <td>2794</td>\n",
       "      <td>0.0</td>\n",
       "      <td>0.0</td>\n",
       "    </tr>\n",
       "    <tr>\n",
       "      <th>94377</th>\n",
       "      <td>98894378</td>\n",
       "      <td>0</td>\n",
       "      <td>need improvement</td>\n",
       "      <td>Ordinary</td>\n",
       "      <td>NaN</td>\n",
       "      <td>need improvement</td>\n",
       "      <td>Convinient</td>\n",
       "      <td>good</td>\n",
       "      <td>need improvement</td>\n",
       "      <td>good</td>\n",
       "      <td>...</td>\n",
       "      <td>excellent</td>\n",
       "      <td>good</td>\n",
       "      <td>Male</td>\n",
       "      <td>Loyal Customer</td>\n",
       "      <td>16.0</td>\n",
       "      <td>Personal Travel</td>\n",
       "      <td>Eco</td>\n",
       "      <td>2744</td>\n",
       "      <td>0.0</td>\n",
       "      <td>0.0</td>\n",
       "    </tr>\n",
       "    <tr>\n",
       "      <th>94378</th>\n",
       "      <td>98894379</td>\n",
       "      <td>0</td>\n",
       "      <td>acceptable</td>\n",
       "      <td>Ordinary</td>\n",
       "      <td>poor</td>\n",
       "      <td>acceptable</td>\n",
       "      <td>manageable</td>\n",
       "      <td>acceptable</td>\n",
       "      <td>acceptable</td>\n",
       "      <td>acceptable</td>\n",
       "      <td>...</td>\n",
       "      <td>good</td>\n",
       "      <td>acceptable</td>\n",
       "      <td>Male</td>\n",
       "      <td>Loyal Customer</td>\n",
       "      <td>54.0</td>\n",
       "      <td>NaN</td>\n",
       "      <td>Eco</td>\n",
       "      <td>2107</td>\n",
       "      <td>28.0</td>\n",
       "      <td>28.0</td>\n",
       "    </tr>\n",
       "  </tbody>\n",
       "</table>\n",
       "<p>5 rows × 25 columns</p>\n",
       "</div>"
      ],
      "text/plain": [
       "             ID  Overall_Experience      Seat_comfort Seat_Class  \\\n",
       "94374  98894375                   0              poor   Ordinary   \n",
       "94375  98894376                   1              good   Ordinary   \n",
       "94376  98894377                   1  need improvement  Green Car   \n",
       "94377  98894378                   0  need improvement   Ordinary   \n",
       "94378  98894379                   0        acceptable   Ordinary   \n",
       "\n",
       "      Arrival_time_convenient          Catering Platform_location  \\\n",
       "94374                    good              good        Convinient   \n",
       "94375                    good              good        Convinient   \n",
       "94376        need improvement  need improvement  need improvement   \n",
       "94377                     NaN  need improvement        Convinient   \n",
       "94378                    poor        acceptable        manageable   \n",
       "\n",
       "      Onboardwifi_service Onboard_entertainment Online_support  ...  \\\n",
       "94374                poor                  poor           poor  ...   \n",
       "94375    need improvement             excellent      excellent  ...   \n",
       "94376                good             excellent           good  ...   \n",
       "94377                good      need improvement           good  ...   \n",
       "94378          acceptable            acceptable     acceptable  ...   \n",
       "\n",
       "      Cleanliness Online_boarding Gender    CustomerType   Age  \\\n",
       "94374        good            poor   Male  Loyal Customer  32.0   \n",
       "94375  acceptable            good   Male  Loyal Customer  44.0   \n",
       "94376        good      acceptable   Male             NaN  63.0   \n",
       "94377   excellent            good   Male  Loyal Customer  16.0   \n",
       "94378        good      acceptable   Male  Loyal Customer  54.0   \n",
       "\n",
       "            TypeTravel Travel_Class Travel_Distance DepartureDelay_in_Mins  \\\n",
       "94374  Business travel     Business            1357                   83.0   \n",
       "94375  Business travel     Business             592                    5.0   \n",
       "94376  Business travel     Business            2794                    0.0   \n",
       "94377  Personal Travel          Eco            2744                    0.0   \n",
       "94378              NaN          Eco            2107                   28.0   \n",
       "\n",
       "       ArrivalDelay_in_Mins  \n",
       "94374                 125.0  \n",
       "94375                  11.0  \n",
       "94376                   0.0  \n",
       "94377                   0.0  \n",
       "94378                  28.0  \n",
       "\n",
       "[5 rows x 25 columns]"
      ]
     },
     "execution_count": 11,
     "metadata": {},
     "output_type": "execute_result"
    }
   ],
   "source": [
    "# merged trainset last 5 rows\n",
    "df_train.tail()"
   ]
  },
  {
   "cell_type": "code",
   "execution_count": 12,
   "id": "b46b231f",
   "metadata": {},
   "outputs": [
    {
     "data": {
      "text/plain": [
       "(94379, 25)"
      ]
     },
     "execution_count": 12,
     "metadata": {},
     "output_type": "execute_result"
    }
   ],
   "source": [
    "#shape of merged train dataset\n",
    "df_train.shape"
   ]
  },
  {
   "cell_type": "code",
   "execution_count": 13,
   "id": "943f7a0c",
   "metadata": {},
   "outputs": [
    {
     "name": "stdout",
     "output_type": "stream",
     "text": [
      "<class 'pandas.core.frame.DataFrame'>\n",
      "Int64Index: 94379 entries, 0 to 94378\n",
      "Data columns (total 25 columns):\n",
      " #   Column                   Non-Null Count  Dtype  \n",
      "---  ------                   --------------  -----  \n",
      " 0   ID                       94379 non-null  int64  \n",
      " 1   Overall_Experience       94379 non-null  int64  \n",
      " 2   Seat_comfort             94318 non-null  object \n",
      " 3   Seat_Class               94379 non-null  object \n",
      " 4   Arrival_time_convenient  85449 non-null  object \n",
      " 5   Catering                 85638 non-null  object \n",
      " 6   Platform_location        94349 non-null  object \n",
      " 7   Onboardwifi_service      94349 non-null  object \n",
      " 8   Onboard_entertainment    94361 non-null  object \n",
      " 9   Online_support           94288 non-null  object \n",
      " 10  Onlinebooking_Ease       94306 non-null  object \n",
      " 11  Onboard_service          86778 non-null  object \n",
      " 12  Leg_room                 94289 non-null  object \n",
      " 13  Baggage_handling         94237 non-null  object \n",
      " 14  Checkin_service          94302 non-null  object \n",
      " 15  Cleanliness              94373 non-null  object \n",
      " 16  Online_boarding          94373 non-null  object \n",
      " 17  Gender                   94302 non-null  object \n",
      " 18  CustomerType             85428 non-null  object \n",
      " 19  Age                      94346 non-null  float64\n",
      " 20  TypeTravel               85153 non-null  object \n",
      " 21  Travel_Class             94379 non-null  object \n",
      " 22  Travel_Distance          94379 non-null  int64  \n",
      " 23  DepartureDelay_in_Mins   94322 non-null  float64\n",
      " 24  ArrivalDelay_in_Mins     94022 non-null  float64\n",
      "dtypes: float64(3), int64(3), object(19)\n",
      "memory usage: 18.7+ MB\n"
     ]
    }
   ],
   "source": [
    "#info of merged train dataset\n",
    "df_train.info()"
   ]
  },
  {
   "cell_type": "code",
   "execution_count": 14,
   "id": "b78f5c06",
   "metadata": {},
   "outputs": [
    {
     "data": {
      "text/html": [
       "<div>\n",
       "<style scoped>\n",
       "    .dataframe tbody tr th:only-of-type {\n",
       "        vertical-align: middle;\n",
       "    }\n",
       "\n",
       "    .dataframe tbody tr th {\n",
       "        vertical-align: top;\n",
       "    }\n",
       "\n",
       "    .dataframe thead th {\n",
       "        text-align: right;\n",
       "    }\n",
       "</style>\n",
       "<table border=\"1\" class=\"dataframe\">\n",
       "  <thead>\n",
       "    <tr style=\"text-align: right;\">\n",
       "      <th></th>\n",
       "      <th>count</th>\n",
       "      <th>mean</th>\n",
       "      <th>std</th>\n",
       "      <th>min</th>\n",
       "      <th>25%</th>\n",
       "      <th>50%</th>\n",
       "      <th>75%</th>\n",
       "      <th>max</th>\n",
       "    </tr>\n",
       "  </thead>\n",
       "  <tbody>\n",
       "    <tr>\n",
       "      <th>ID</th>\n",
       "      <td>94379.0</td>\n",
       "      <td>9.884719e+07</td>\n",
       "      <td>27245.014865</td>\n",
       "      <td>98800001.0</td>\n",
       "      <td>98823595.5</td>\n",
       "      <td>98847190.0</td>\n",
       "      <td>98870784.5</td>\n",
       "      <td>98894379.0</td>\n",
       "    </tr>\n",
       "    <tr>\n",
       "      <th>Overall_Experience</th>\n",
       "      <td>94379.0</td>\n",
       "      <td>5.466576e-01</td>\n",
       "      <td>0.497821</td>\n",
       "      <td>0.0</td>\n",
       "      <td>0.0</td>\n",
       "      <td>1.0</td>\n",
       "      <td>1.0</td>\n",
       "      <td>1.0</td>\n",
       "    </tr>\n",
       "    <tr>\n",
       "      <th>Age</th>\n",
       "      <td>94346.0</td>\n",
       "      <td>3.941965e+01</td>\n",
       "      <td>15.116632</td>\n",
       "      <td>7.0</td>\n",
       "      <td>27.0</td>\n",
       "      <td>40.0</td>\n",
       "      <td>51.0</td>\n",
       "      <td>85.0</td>\n",
       "    </tr>\n",
       "    <tr>\n",
       "      <th>Travel_Distance</th>\n",
       "      <td>94379.0</td>\n",
       "      <td>1.978888e+03</td>\n",
       "      <td>1027.961019</td>\n",
       "      <td>50.0</td>\n",
       "      <td>1359.0</td>\n",
       "      <td>1923.0</td>\n",
       "      <td>2538.0</td>\n",
       "      <td>6951.0</td>\n",
       "    </tr>\n",
       "    <tr>\n",
       "      <th>DepartureDelay_in_Mins</th>\n",
       "      <td>94322.0</td>\n",
       "      <td>1.464709e+01</td>\n",
       "      <td>38.138781</td>\n",
       "      <td>0.0</td>\n",
       "      <td>0.0</td>\n",
       "      <td>0.0</td>\n",
       "      <td>12.0</td>\n",
       "      <td>1592.0</td>\n",
       "    </tr>\n",
       "    <tr>\n",
       "      <th>ArrivalDelay_in_Mins</th>\n",
       "      <td>94022.0</td>\n",
       "      <td>1.500522e+01</td>\n",
       "      <td>38.439409</td>\n",
       "      <td>0.0</td>\n",
       "      <td>0.0</td>\n",
       "      <td>0.0</td>\n",
       "      <td>13.0</td>\n",
       "      <td>1584.0</td>\n",
       "    </tr>\n",
       "  </tbody>\n",
       "</table>\n",
       "</div>"
      ],
      "text/plain": [
       "                          count          mean           std         min  \\\n",
       "ID                      94379.0  9.884719e+07  27245.014865  98800001.0   \n",
       "Overall_Experience      94379.0  5.466576e-01      0.497821         0.0   \n",
       "Age                     94346.0  3.941965e+01     15.116632         7.0   \n",
       "Travel_Distance         94379.0  1.978888e+03   1027.961019        50.0   \n",
       "DepartureDelay_in_Mins  94322.0  1.464709e+01     38.138781         0.0   \n",
       "ArrivalDelay_in_Mins    94022.0  1.500522e+01     38.439409         0.0   \n",
       "\n",
       "                               25%         50%         75%         max  \n",
       "ID                      98823595.5  98847190.0  98870784.5  98894379.0  \n",
       "Overall_Experience             0.0         1.0         1.0         1.0  \n",
       "Age                           27.0        40.0        51.0        85.0  \n",
       "Travel_Distance             1359.0      1923.0      2538.0      6951.0  \n",
       "DepartureDelay_in_Mins         0.0         0.0        12.0      1592.0  \n",
       "ArrivalDelay_in_Mins           0.0         0.0        13.0      1584.0  "
      ]
     },
     "execution_count": 14,
     "metadata": {},
     "output_type": "execute_result"
    }
   ],
   "source": [
    "#five point summary of numerical features of merged train dataset\n",
    "df_train.describe().T"
   ]
  },
  {
   "cell_type": "code",
   "execution_count": 15,
   "id": "934749a7",
   "metadata": {},
   "outputs": [
    {
     "data": {
      "text/html": [
       "<div>\n",
       "<style scoped>\n",
       "    .dataframe tbody tr th:only-of-type {\n",
       "        vertical-align: middle;\n",
       "    }\n",
       "\n",
       "    .dataframe tbody tr th {\n",
       "        vertical-align: top;\n",
       "    }\n",
       "\n",
       "    .dataframe thead th {\n",
       "        text-align: right;\n",
       "    }\n",
       "</style>\n",
       "<table border=\"1\" class=\"dataframe\">\n",
       "  <thead>\n",
       "    <tr style=\"text-align: right;\">\n",
       "      <th></th>\n",
       "      <th>count</th>\n",
       "      <th>unique</th>\n",
       "      <th>top</th>\n",
       "      <th>freq</th>\n",
       "    </tr>\n",
       "  </thead>\n",
       "  <tbody>\n",
       "    <tr>\n",
       "      <th>Seat_comfort</th>\n",
       "      <td>94318</td>\n",
       "      <td>6</td>\n",
       "      <td>acceptable</td>\n",
       "      <td>21158</td>\n",
       "    </tr>\n",
       "    <tr>\n",
       "      <th>Seat_Class</th>\n",
       "      <td>94379</td>\n",
       "      <td>2</td>\n",
       "      <td>Green Car</td>\n",
       "      <td>47435</td>\n",
       "    </tr>\n",
       "    <tr>\n",
       "      <th>Arrival_time_convenient</th>\n",
       "      <td>85449</td>\n",
       "      <td>6</td>\n",
       "      <td>good</td>\n",
       "      <td>19574</td>\n",
       "    </tr>\n",
       "    <tr>\n",
       "      <th>Catering</th>\n",
       "      <td>85638</td>\n",
       "      <td>6</td>\n",
       "      <td>acceptable</td>\n",
       "      <td>18468</td>\n",
       "    </tr>\n",
       "    <tr>\n",
       "      <th>Platform_location</th>\n",
       "      <td>94349</td>\n",
       "      <td>6</td>\n",
       "      <td>manageable</td>\n",
       "      <td>24173</td>\n",
       "    </tr>\n",
       "    <tr>\n",
       "      <th>Onboardwifi_service</th>\n",
       "      <td>94349</td>\n",
       "      <td>6</td>\n",
       "      <td>good</td>\n",
       "      <td>22835</td>\n",
       "    </tr>\n",
       "    <tr>\n",
       "      <th>Onboard_entertainment</th>\n",
       "      <td>94361</td>\n",
       "      <td>6</td>\n",
       "      <td>good</td>\n",
       "      <td>30446</td>\n",
       "    </tr>\n",
       "    <tr>\n",
       "      <th>Online_support</th>\n",
       "      <td>94288</td>\n",
       "      <td>6</td>\n",
       "      <td>good</td>\n",
       "      <td>30016</td>\n",
       "    </tr>\n",
       "    <tr>\n",
       "      <th>Onlinebooking_Ease</th>\n",
       "      <td>94306</td>\n",
       "      <td>6</td>\n",
       "      <td>good</td>\n",
       "      <td>28909</td>\n",
       "    </tr>\n",
       "    <tr>\n",
       "      <th>Onboard_service</th>\n",
       "      <td>86778</td>\n",
       "      <td>6</td>\n",
       "      <td>good</td>\n",
       "      <td>27265</td>\n",
       "    </tr>\n",
       "    <tr>\n",
       "      <th>Leg_room</th>\n",
       "      <td>94289</td>\n",
       "      <td>6</td>\n",
       "      <td>good</td>\n",
       "      <td>28870</td>\n",
       "    </tr>\n",
       "    <tr>\n",
       "      <th>Baggage_handling</th>\n",
       "      <td>94237</td>\n",
       "      <td>5</td>\n",
       "      <td>good</td>\n",
       "      <td>34944</td>\n",
       "    </tr>\n",
       "    <tr>\n",
       "      <th>Checkin_service</th>\n",
       "      <td>94302</td>\n",
       "      <td>6</td>\n",
       "      <td>good</td>\n",
       "      <td>26502</td>\n",
       "    </tr>\n",
       "    <tr>\n",
       "      <th>Cleanliness</th>\n",
       "      <td>94373</td>\n",
       "      <td>6</td>\n",
       "      <td>good</td>\n",
       "      <td>35427</td>\n",
       "    </tr>\n",
       "    <tr>\n",
       "      <th>Online_boarding</th>\n",
       "      <td>94373</td>\n",
       "      <td>6</td>\n",
       "      <td>good</td>\n",
       "      <td>25533</td>\n",
       "    </tr>\n",
       "    <tr>\n",
       "      <th>Gender</th>\n",
       "      <td>94302</td>\n",
       "      <td>2</td>\n",
       "      <td>Female</td>\n",
       "      <td>47815</td>\n",
       "    </tr>\n",
       "    <tr>\n",
       "      <th>CustomerType</th>\n",
       "      <td>85428</td>\n",
       "      <td>2</td>\n",
       "      <td>Loyal Customer</td>\n",
       "      <td>69823</td>\n",
       "    </tr>\n",
       "    <tr>\n",
       "      <th>TypeTravel</th>\n",
       "      <td>85153</td>\n",
       "      <td>2</td>\n",
       "      <td>Business travel</td>\n",
       "      <td>58617</td>\n",
       "    </tr>\n",
       "    <tr>\n",
       "      <th>Travel_Class</th>\n",
       "      <td>94379</td>\n",
       "      <td>2</td>\n",
       "      <td>Eco</td>\n",
       "      <td>49342</td>\n",
       "    </tr>\n",
       "  </tbody>\n",
       "</table>\n",
       "</div>"
      ],
      "text/plain": [
       "                         count unique              top   freq\n",
       "Seat_comfort             94318      6       acceptable  21158\n",
       "Seat_Class               94379      2        Green Car  47435\n",
       "Arrival_time_convenient  85449      6             good  19574\n",
       "Catering                 85638      6       acceptable  18468\n",
       "Platform_location        94349      6       manageable  24173\n",
       "Onboardwifi_service      94349      6             good  22835\n",
       "Onboard_entertainment    94361      6             good  30446\n",
       "Online_support           94288      6             good  30016\n",
       "Onlinebooking_Ease       94306      6             good  28909\n",
       "Onboard_service          86778      6             good  27265\n",
       "Leg_room                 94289      6             good  28870\n",
       "Baggage_handling         94237      5             good  34944\n",
       "Checkin_service          94302      6             good  26502\n",
       "Cleanliness              94373      6             good  35427\n",
       "Online_boarding          94373      6             good  25533\n",
       "Gender                   94302      2           Female  47815\n",
       "CustomerType             85428      2   Loyal Customer  69823\n",
       "TypeTravel               85153      2  Business travel  58617\n",
       "Travel_Class             94379      2              Eco  49342"
      ]
     },
     "execution_count": 15,
     "metadata": {},
     "output_type": "execute_result"
    }
   ],
   "source": [
    "#five point summary of Categorical features of merged train dataset\n",
    "df_train.describe(include = ['object']).T"
   ]
  },
  {
   "cell_type": "markdown",
   "id": "7ff97677",
   "metadata": {},
   "source": [
    "## Checking for duplicate records in the Train dataset"
   ]
  },
  {
   "cell_type": "code",
   "execution_count": 16,
   "id": "ba5a398d",
   "metadata": {},
   "outputs": [
    {
     "name": "stdout",
     "output_type": "stream",
     "text": [
      "Number of duplicate row = 0\n"
     ]
    }
   ],
   "source": [
    "#check for duplicate\n",
    "dups = df_train.duplicated()\n",
    "print('Number of duplicate row = %d' %(dups.sum()))"
   ]
  },
  {
   "cell_type": "code",
   "execution_count": 17,
   "id": "ca2d0736",
   "metadata": {},
   "outputs": [],
   "source": [
    "df_train_num = df_train.select_dtypes(['float64','int64'])\n",
    "df_train_cat = df_train.select_dtypes(['object'])"
   ]
  },
  {
   "cell_type": "code",
   "execution_count": 18,
   "id": "01ada93c",
   "metadata": {},
   "outputs": [
    {
     "data": {
      "text/plain": [
       "ID                          0\n",
       "Overall_Experience          0\n",
       "Age                        33\n",
       "Travel_Distance             0\n",
       "DepartureDelay_in_Mins     57\n",
       "ArrivalDelay_in_Mins      357\n",
       "dtype: int64"
      ]
     },
     "execution_count": 18,
     "metadata": {},
     "output_type": "execute_result"
    }
   ],
   "source": [
    "df_train_num.isnull().sum()"
   ]
  },
  {
   "cell_type": "code",
   "execution_count": 19,
   "id": "b1bb4d0a",
   "metadata": {},
   "outputs": [],
   "source": [
    "from sklearn.impute import SimpleImputer"
   ]
  },
  {
   "cell_type": "code",
   "execution_count": 20,
   "id": "8036bc53",
   "metadata": {},
   "outputs": [],
   "source": [
    "imputer = SimpleImputer(missing_values= np.nan, strategy='median')\n",
    "imr = imputer.fit(df_train_num)\n",
    "df_train_num = pd.DataFrame(imr.transform(df_train_num), columns=df_train_num.columns)"
   ]
  },
  {
   "cell_type": "code",
   "execution_count": 21,
   "id": "f7752011",
   "metadata": {},
   "outputs": [
    {
     "data": {
      "text/plain": [
       "ID                        0\n",
       "Overall_Experience        0\n",
       "Age                       0\n",
       "Travel_Distance           0\n",
       "DepartureDelay_in_Mins    0\n",
       "ArrivalDelay_in_Mins      0\n",
       "dtype: int64"
      ]
     },
     "execution_count": 21,
     "metadata": {},
     "output_type": "execute_result"
    }
   ],
   "source": [
    "df_train_num.isnull().sum()"
   ]
  },
  {
   "cell_type": "code",
   "execution_count": 22,
   "id": "ebf4a09f",
   "metadata": {},
   "outputs": [
    {
     "data": {
      "text/plain": [
       "Seat_comfort                 61\n",
       "Seat_Class                    0\n",
       "Arrival_time_convenient    8930\n",
       "Catering                   8741\n",
       "Platform_location            30\n",
       "Onboardwifi_service          30\n",
       "Onboard_entertainment        18\n",
       "Online_support               91\n",
       "Onlinebooking_Ease           73\n",
       "Onboard_service            7601\n",
       "Leg_room                     90\n",
       "Baggage_handling            142\n",
       "Checkin_service              77\n",
       "Cleanliness                   6\n",
       "Online_boarding               6\n",
       "Gender                       77\n",
       "CustomerType               8951\n",
       "TypeTravel                 9226\n",
       "Travel_Class                  0\n",
       "dtype: int64"
      ]
     },
     "execution_count": 22,
     "metadata": {},
     "output_type": "execute_result"
    }
   ],
   "source": [
    "df_train_cat.isnull().sum()"
   ]
  },
  {
   "cell_type": "code",
   "execution_count": 23,
   "id": "694a34ed",
   "metadata": {},
   "outputs": [],
   "source": [
    "df_train_cat = df_train_cat.apply(lambda x: x.fillna(x.value_counts().index[0]))"
   ]
  },
  {
   "cell_type": "code",
   "execution_count": 24,
   "id": "eab56bcf",
   "metadata": {},
   "outputs": [
    {
     "data": {
      "text/plain": [
       "Seat_comfort               0\n",
       "Seat_Class                 0\n",
       "Arrival_time_convenient    0\n",
       "Catering                   0\n",
       "Platform_location          0\n",
       "Onboardwifi_service        0\n",
       "Onboard_entertainment      0\n",
       "Online_support             0\n",
       "Onlinebooking_Ease         0\n",
       "Onboard_service            0\n",
       "Leg_room                   0\n",
       "Baggage_handling           0\n",
       "Checkin_service            0\n",
       "Cleanliness                0\n",
       "Online_boarding            0\n",
       "Gender                     0\n",
       "CustomerType               0\n",
       "TypeTravel                 0\n",
       "Travel_Class               0\n",
       "dtype: int64"
      ]
     },
     "execution_count": 24,
     "metadata": {},
     "output_type": "execute_result"
    }
   ],
   "source": [
    "df_train_cat.isnull().sum()"
   ]
  },
  {
   "cell_type": "code",
   "execution_count": 25,
   "id": "68e07465",
   "metadata": {},
   "outputs": [
    {
     "data": {
      "text/html": [
       "<div>\n",
       "<style scoped>\n",
       "    .dataframe tbody tr th:only-of-type {\n",
       "        vertical-align: middle;\n",
       "    }\n",
       "\n",
       "    .dataframe tbody tr th {\n",
       "        vertical-align: top;\n",
       "    }\n",
       "\n",
       "    .dataframe thead th {\n",
       "        text-align: right;\n",
       "    }\n",
       "</style>\n",
       "<table border=\"1\" class=\"dataframe\">\n",
       "  <thead>\n",
       "    <tr style=\"text-align: right;\">\n",
       "      <th></th>\n",
       "      <th>Seat_comfort</th>\n",
       "      <th>Seat_Class</th>\n",
       "      <th>Arrival_time_convenient</th>\n",
       "      <th>Catering</th>\n",
       "      <th>Platform_location</th>\n",
       "      <th>Onboardwifi_service</th>\n",
       "      <th>Onboard_entertainment</th>\n",
       "      <th>Online_support</th>\n",
       "      <th>Onlinebooking_Ease</th>\n",
       "      <th>Onboard_service</th>\n",
       "      <th>Leg_room</th>\n",
       "      <th>Baggage_handling</th>\n",
       "      <th>Checkin_service</th>\n",
       "      <th>Cleanliness</th>\n",
       "      <th>Online_boarding</th>\n",
       "      <th>Gender</th>\n",
       "      <th>CustomerType</th>\n",
       "      <th>TypeTravel</th>\n",
       "      <th>Travel_Class</th>\n",
       "    </tr>\n",
       "  </thead>\n",
       "  <tbody>\n",
       "    <tr>\n",
       "      <th>0</th>\n",
       "      <td>need improvement</td>\n",
       "      <td>Green Car</td>\n",
       "      <td>excellent</td>\n",
       "      <td>excellent</td>\n",
       "      <td>very convinient</td>\n",
       "      <td>good</td>\n",
       "      <td>need improvement</td>\n",
       "      <td>acceptable</td>\n",
       "      <td>need improvement</td>\n",
       "      <td>need improvement</td>\n",
       "      <td>acceptable</td>\n",
       "      <td>need improvement</td>\n",
       "      <td>good</td>\n",
       "      <td>need improvement</td>\n",
       "      <td>poor</td>\n",
       "      <td>Female</td>\n",
       "      <td>Loyal Customer</td>\n",
       "      <td>Business travel</td>\n",
       "      <td>Business</td>\n",
       "    </tr>\n",
       "    <tr>\n",
       "      <th>1</th>\n",
       "      <td>poor</td>\n",
       "      <td>Ordinary</td>\n",
       "      <td>excellent</td>\n",
       "      <td>poor</td>\n",
       "      <td>need improvement</td>\n",
       "      <td>good</td>\n",
       "      <td>poor</td>\n",
       "      <td>good</td>\n",
       "      <td>good</td>\n",
       "      <td>excellent</td>\n",
       "      <td>need improvement</td>\n",
       "      <td>poor</td>\n",
       "      <td>need improvement</td>\n",
       "      <td>good</td>\n",
       "      <td>good</td>\n",
       "      <td>Male</td>\n",
       "      <td>Loyal Customer</td>\n",
       "      <td>Personal Travel</td>\n",
       "      <td>Eco</td>\n",
       "    </tr>\n",
       "    <tr>\n",
       "      <th>2</th>\n",
       "      <td>need improvement</td>\n",
       "      <td>Green Car</td>\n",
       "      <td>need improvement</td>\n",
       "      <td>need improvement</td>\n",
       "      <td>need improvement</td>\n",
       "      <td>need improvement</td>\n",
       "      <td>good</td>\n",
       "      <td>excellent</td>\n",
       "      <td>excellent</td>\n",
       "      <td>excellent</td>\n",
       "      <td>excellent</td>\n",
       "      <td>excellent</td>\n",
       "      <td>good</td>\n",
       "      <td>excellent</td>\n",
       "      <td>excellent</td>\n",
       "      <td>Female</td>\n",
       "      <td>Loyal Customer</td>\n",
       "      <td>Business travel</td>\n",
       "      <td>Business</td>\n",
       "    </tr>\n",
       "    <tr>\n",
       "      <th>3</th>\n",
       "      <td>acceptable</td>\n",
       "      <td>Ordinary</td>\n",
       "      <td>need improvement</td>\n",
       "      <td>acceptable</td>\n",
       "      <td>need improvement</td>\n",
       "      <td>acceptable</td>\n",
       "      <td>need improvement</td>\n",
       "      <td>acceptable</td>\n",
       "      <td>acceptable</td>\n",
       "      <td>acceptable</td>\n",
       "      <td>acceptable</td>\n",
       "      <td>acceptable</td>\n",
       "      <td>good</td>\n",
       "      <td>acceptable</td>\n",
       "      <td>acceptable</td>\n",
       "      <td>Female</td>\n",
       "      <td>Loyal Customer</td>\n",
       "      <td>Business travel</td>\n",
       "      <td>Business</td>\n",
       "    </tr>\n",
       "    <tr>\n",
       "      <th>4</th>\n",
       "      <td>acceptable</td>\n",
       "      <td>Ordinary</td>\n",
       "      <td>acceptable</td>\n",
       "      <td>acceptable</td>\n",
       "      <td>manageable</td>\n",
       "      <td>need improvement</td>\n",
       "      <td>good</td>\n",
       "      <td>excellent</td>\n",
       "      <td>good</td>\n",
       "      <td>good</td>\n",
       "      <td>good</td>\n",
       "      <td>good</td>\n",
       "      <td>good</td>\n",
       "      <td>good</td>\n",
       "      <td>good</td>\n",
       "      <td>Female</td>\n",
       "      <td>Loyal Customer</td>\n",
       "      <td>Business travel</td>\n",
       "      <td>Business</td>\n",
       "    </tr>\n",
       "  </tbody>\n",
       "</table>\n",
       "</div>"
      ],
      "text/plain": [
       "       Seat_comfort Seat_Class Arrival_time_convenient          Catering  \\\n",
       "0  need improvement  Green Car               excellent         excellent   \n",
       "1              poor   Ordinary               excellent              poor   \n",
       "2  need improvement  Green Car        need improvement  need improvement   \n",
       "3        acceptable   Ordinary        need improvement        acceptable   \n",
       "4        acceptable   Ordinary              acceptable        acceptable   \n",
       "\n",
       "  Platform_location Onboardwifi_service Onboard_entertainment Online_support  \\\n",
       "0   very convinient                good      need improvement     acceptable   \n",
       "1  need improvement                good                  poor           good   \n",
       "2  need improvement    need improvement                  good      excellent   \n",
       "3  need improvement          acceptable      need improvement     acceptable   \n",
       "4        manageable    need improvement                  good      excellent   \n",
       "\n",
       "  Onlinebooking_Ease   Onboard_service          Leg_room  Baggage_handling  \\\n",
       "0   need improvement  need improvement        acceptable  need improvement   \n",
       "1               good         excellent  need improvement              poor   \n",
       "2          excellent         excellent         excellent         excellent   \n",
       "3         acceptable        acceptable        acceptable        acceptable   \n",
       "4               good              good              good              good   \n",
       "\n",
       "    Checkin_service       Cleanliness Online_boarding  Gender    CustomerType  \\\n",
       "0              good  need improvement            poor  Female  Loyal Customer   \n",
       "1  need improvement              good            good    Male  Loyal Customer   \n",
       "2              good         excellent       excellent  Female  Loyal Customer   \n",
       "3              good        acceptable      acceptable  Female  Loyal Customer   \n",
       "4              good              good            good  Female  Loyal Customer   \n",
       "\n",
       "        TypeTravel Travel_Class  \n",
       "0  Business travel     Business  \n",
       "1  Personal Travel          Eco  \n",
       "2  Business travel     Business  \n",
       "3  Business travel     Business  \n",
       "4  Business travel     Business  "
      ]
     },
     "execution_count": 25,
     "metadata": {},
     "output_type": "execute_result"
    }
   ],
   "source": [
    "df_train_cat.head()"
   ]
  },
  {
   "cell_type": "code",
   "execution_count": 26,
   "id": "e36f1e4b",
   "metadata": {},
   "outputs": [
    {
     "data": {
      "text/html": [
       "<div>\n",
       "<style scoped>\n",
       "    .dataframe tbody tr th:only-of-type {\n",
       "        vertical-align: middle;\n",
       "    }\n",
       "\n",
       "    .dataframe tbody tr th {\n",
       "        vertical-align: top;\n",
       "    }\n",
       "\n",
       "    .dataframe thead th {\n",
       "        text-align: right;\n",
       "    }\n",
       "</style>\n",
       "<table border=\"1\" class=\"dataframe\">\n",
       "  <thead>\n",
       "    <tr style=\"text-align: right;\">\n",
       "      <th></th>\n",
       "      <th>ID</th>\n",
       "      <th>Overall_Experience</th>\n",
       "      <th>Age</th>\n",
       "      <th>Travel_Distance</th>\n",
       "      <th>DepartureDelay_in_Mins</th>\n",
       "      <th>ArrivalDelay_in_Mins</th>\n",
       "    </tr>\n",
       "  </thead>\n",
       "  <tbody>\n",
       "    <tr>\n",
       "      <th>0</th>\n",
       "      <td>98800001.0</td>\n",
       "      <td>0.0</td>\n",
       "      <td>52.0</td>\n",
       "      <td>272.0</td>\n",
       "      <td>0.0</td>\n",
       "      <td>5.0</td>\n",
       "    </tr>\n",
       "    <tr>\n",
       "      <th>1</th>\n",
       "      <td>98800002.0</td>\n",
       "      <td>0.0</td>\n",
       "      <td>48.0</td>\n",
       "      <td>2200.0</td>\n",
       "      <td>9.0</td>\n",
       "      <td>0.0</td>\n",
       "    </tr>\n",
       "    <tr>\n",
       "      <th>2</th>\n",
       "      <td>98800003.0</td>\n",
       "      <td>1.0</td>\n",
       "      <td>43.0</td>\n",
       "      <td>1061.0</td>\n",
       "      <td>77.0</td>\n",
       "      <td>119.0</td>\n",
       "    </tr>\n",
       "    <tr>\n",
       "      <th>3</th>\n",
       "      <td>98800004.0</td>\n",
       "      <td>0.0</td>\n",
       "      <td>44.0</td>\n",
       "      <td>780.0</td>\n",
       "      <td>13.0</td>\n",
       "      <td>18.0</td>\n",
       "    </tr>\n",
       "    <tr>\n",
       "      <th>4</th>\n",
       "      <td>98800005.0</td>\n",
       "      <td>1.0</td>\n",
       "      <td>50.0</td>\n",
       "      <td>1981.0</td>\n",
       "      <td>0.0</td>\n",
       "      <td>0.0</td>\n",
       "    </tr>\n",
       "  </tbody>\n",
       "</table>\n",
       "</div>"
      ],
      "text/plain": [
       "           ID  Overall_Experience   Age  Travel_Distance  \\\n",
       "0  98800001.0                 0.0  52.0            272.0   \n",
       "1  98800002.0                 0.0  48.0           2200.0   \n",
       "2  98800003.0                 1.0  43.0           1061.0   \n",
       "3  98800004.0                 0.0  44.0            780.0   \n",
       "4  98800005.0                 1.0  50.0           1981.0   \n",
       "\n",
       "   DepartureDelay_in_Mins  ArrivalDelay_in_Mins  \n",
       "0                     0.0                   5.0  \n",
       "1                     9.0                   0.0  \n",
       "2                    77.0                 119.0  \n",
       "3                    13.0                  18.0  \n",
       "4                     0.0                   0.0  "
      ]
     },
     "execution_count": 26,
     "metadata": {},
     "output_type": "execute_result"
    }
   ],
   "source": [
    "df_train_num.head()"
   ]
  },
  {
   "cell_type": "code",
   "execution_count": 27,
   "id": "e6239a2b",
   "metadata": {},
   "outputs": [],
   "source": [
    "from scipy.stats import zscore\n",
    "df_train_num_scaled=df_train_num[['Age','Travel_Distance','DepartureDelay_in_Mins','ArrivalDelay_in_Mins']].apply(zscore)"
   ]
  },
  {
   "cell_type": "code",
   "execution_count": 28,
   "id": "3731f5ac",
   "metadata": {},
   "outputs": [
    {
     "data": {
      "text/html": [
       "<div>\n",
       "<style scoped>\n",
       "    .dataframe tbody tr th:only-of-type {\n",
       "        vertical-align: middle;\n",
       "    }\n",
       "\n",
       "    .dataframe tbody tr th {\n",
       "        vertical-align: top;\n",
       "    }\n",
       "\n",
       "    .dataframe thead th {\n",
       "        text-align: right;\n",
       "    }\n",
       "</style>\n",
       "<table border=\"1\" class=\"dataframe\">\n",
       "  <thead>\n",
       "    <tr style=\"text-align: right;\">\n",
       "      <th></th>\n",
       "      <th>Age</th>\n",
       "      <th>Travel_Distance</th>\n",
       "      <th>DepartureDelay_in_Mins</th>\n",
       "      <th>ArrivalDelay_in_Mins</th>\n",
       "    </tr>\n",
       "  </thead>\n",
       "  <tbody>\n",
       "    <tr>\n",
       "      <th>0</th>\n",
       "      <td>0.832356</td>\n",
       "      <td>-1.660469</td>\n",
       "      <td>-0.383916</td>\n",
       "      <td>-0.259227</td>\n",
       "    </tr>\n",
       "    <tr>\n",
       "      <th>1</th>\n",
       "      <td>0.567699</td>\n",
       "      <td>0.215099</td>\n",
       "      <td>-0.147874</td>\n",
       "      <td>-0.389511</td>\n",
       "    </tr>\n",
       "    <tr>\n",
       "      <th>2</th>\n",
       "      <td>0.236878</td>\n",
       "      <td>-0.892926</td>\n",
       "      <td>1.635557</td>\n",
       "      <td>2.711265</td>\n",
       "    </tr>\n",
       "    <tr>\n",
       "      <th>3</th>\n",
       "      <td>0.303042</td>\n",
       "      <td>-1.166284</td>\n",
       "      <td>-0.042966</td>\n",
       "      <td>0.079514</td>\n",
       "    </tr>\n",
       "    <tr>\n",
       "      <th>4</th>\n",
       "      <td>0.700027</td>\n",
       "      <td>0.002054</td>\n",
       "      <td>-0.383916</td>\n",
       "      <td>-0.389511</td>\n",
       "    </tr>\n",
       "  </tbody>\n",
       "</table>\n",
       "</div>"
      ],
      "text/plain": [
       "        Age  Travel_Distance  DepartureDelay_in_Mins  ArrivalDelay_in_Mins\n",
       "0  0.832356        -1.660469               -0.383916             -0.259227\n",
       "1  0.567699         0.215099               -0.147874             -0.389511\n",
       "2  0.236878        -0.892926                1.635557              2.711265\n",
       "3  0.303042        -1.166284               -0.042966              0.079514\n",
       "4  0.700027         0.002054               -0.383916             -0.389511"
      ]
     },
     "execution_count": 28,
     "metadata": {},
     "output_type": "execute_result"
    }
   ],
   "source": [
    "df_train_num_scaled.head()"
   ]
  },
  {
   "cell_type": "code",
   "execution_count": 29,
   "id": "7ed4a3cf",
   "metadata": {},
   "outputs": [],
   "source": [
    "df_train = pd.concat([df_train_num['Overall_Experience'],df_train_num_scaled, df_train_cat], axis = 1, join = 'inner')"
   ]
  },
  {
   "cell_type": "code",
   "execution_count": 30,
   "id": "ff348ff1",
   "metadata": {},
   "outputs": [
    {
     "data": {
      "text/html": [
       "<div>\n",
       "<style scoped>\n",
       "    .dataframe tbody tr th:only-of-type {\n",
       "        vertical-align: middle;\n",
       "    }\n",
       "\n",
       "    .dataframe tbody tr th {\n",
       "        vertical-align: top;\n",
       "    }\n",
       "\n",
       "    .dataframe thead th {\n",
       "        text-align: right;\n",
       "    }\n",
       "</style>\n",
       "<table border=\"1\" class=\"dataframe\">\n",
       "  <thead>\n",
       "    <tr style=\"text-align: right;\">\n",
       "      <th></th>\n",
       "      <th>Overall_Experience</th>\n",
       "      <th>Age</th>\n",
       "      <th>Travel_Distance</th>\n",
       "      <th>DepartureDelay_in_Mins</th>\n",
       "      <th>ArrivalDelay_in_Mins</th>\n",
       "      <th>Seat_comfort</th>\n",
       "      <th>Seat_Class</th>\n",
       "      <th>Arrival_time_convenient</th>\n",
       "      <th>Catering</th>\n",
       "      <th>Platform_location</th>\n",
       "      <th>...</th>\n",
       "      <th>Onboard_service</th>\n",
       "      <th>Leg_room</th>\n",
       "      <th>Baggage_handling</th>\n",
       "      <th>Checkin_service</th>\n",
       "      <th>Cleanliness</th>\n",
       "      <th>Online_boarding</th>\n",
       "      <th>Gender</th>\n",
       "      <th>CustomerType</th>\n",
       "      <th>TypeTravel</th>\n",
       "      <th>Travel_Class</th>\n",
       "    </tr>\n",
       "  </thead>\n",
       "  <tbody>\n",
       "    <tr>\n",
       "      <th>0</th>\n",
       "      <td>0.0</td>\n",
       "      <td>0.832356</td>\n",
       "      <td>-1.660469</td>\n",
       "      <td>-0.383916</td>\n",
       "      <td>-0.259227</td>\n",
       "      <td>need improvement</td>\n",
       "      <td>Green Car</td>\n",
       "      <td>excellent</td>\n",
       "      <td>excellent</td>\n",
       "      <td>very convinient</td>\n",
       "      <td>...</td>\n",
       "      <td>need improvement</td>\n",
       "      <td>acceptable</td>\n",
       "      <td>need improvement</td>\n",
       "      <td>good</td>\n",
       "      <td>need improvement</td>\n",
       "      <td>poor</td>\n",
       "      <td>Female</td>\n",
       "      <td>Loyal Customer</td>\n",
       "      <td>Business travel</td>\n",
       "      <td>Business</td>\n",
       "    </tr>\n",
       "    <tr>\n",
       "      <th>1</th>\n",
       "      <td>0.0</td>\n",
       "      <td>0.567699</td>\n",
       "      <td>0.215099</td>\n",
       "      <td>-0.147874</td>\n",
       "      <td>-0.389511</td>\n",
       "      <td>poor</td>\n",
       "      <td>Ordinary</td>\n",
       "      <td>excellent</td>\n",
       "      <td>poor</td>\n",
       "      <td>need improvement</td>\n",
       "      <td>...</td>\n",
       "      <td>excellent</td>\n",
       "      <td>need improvement</td>\n",
       "      <td>poor</td>\n",
       "      <td>need improvement</td>\n",
       "      <td>good</td>\n",
       "      <td>good</td>\n",
       "      <td>Male</td>\n",
       "      <td>Loyal Customer</td>\n",
       "      <td>Personal Travel</td>\n",
       "      <td>Eco</td>\n",
       "    </tr>\n",
       "    <tr>\n",
       "      <th>2</th>\n",
       "      <td>1.0</td>\n",
       "      <td>0.236878</td>\n",
       "      <td>-0.892926</td>\n",
       "      <td>1.635557</td>\n",
       "      <td>2.711265</td>\n",
       "      <td>need improvement</td>\n",
       "      <td>Green Car</td>\n",
       "      <td>need improvement</td>\n",
       "      <td>need improvement</td>\n",
       "      <td>need improvement</td>\n",
       "      <td>...</td>\n",
       "      <td>excellent</td>\n",
       "      <td>excellent</td>\n",
       "      <td>excellent</td>\n",
       "      <td>good</td>\n",
       "      <td>excellent</td>\n",
       "      <td>excellent</td>\n",
       "      <td>Female</td>\n",
       "      <td>Loyal Customer</td>\n",
       "      <td>Business travel</td>\n",
       "      <td>Business</td>\n",
       "    </tr>\n",
       "    <tr>\n",
       "      <th>3</th>\n",
       "      <td>0.0</td>\n",
       "      <td>0.303042</td>\n",
       "      <td>-1.166284</td>\n",
       "      <td>-0.042966</td>\n",
       "      <td>0.079514</td>\n",
       "      <td>acceptable</td>\n",
       "      <td>Ordinary</td>\n",
       "      <td>need improvement</td>\n",
       "      <td>acceptable</td>\n",
       "      <td>need improvement</td>\n",
       "      <td>...</td>\n",
       "      <td>acceptable</td>\n",
       "      <td>acceptable</td>\n",
       "      <td>acceptable</td>\n",
       "      <td>good</td>\n",
       "      <td>acceptable</td>\n",
       "      <td>acceptable</td>\n",
       "      <td>Female</td>\n",
       "      <td>Loyal Customer</td>\n",
       "      <td>Business travel</td>\n",
       "      <td>Business</td>\n",
       "    </tr>\n",
       "    <tr>\n",
       "      <th>4</th>\n",
       "      <td>1.0</td>\n",
       "      <td>0.700027</td>\n",
       "      <td>0.002054</td>\n",
       "      <td>-0.383916</td>\n",
       "      <td>-0.389511</td>\n",
       "      <td>acceptable</td>\n",
       "      <td>Ordinary</td>\n",
       "      <td>acceptable</td>\n",
       "      <td>acceptable</td>\n",
       "      <td>manageable</td>\n",
       "      <td>...</td>\n",
       "      <td>good</td>\n",
       "      <td>good</td>\n",
       "      <td>good</td>\n",
       "      <td>good</td>\n",
       "      <td>good</td>\n",
       "      <td>good</td>\n",
       "      <td>Female</td>\n",
       "      <td>Loyal Customer</td>\n",
       "      <td>Business travel</td>\n",
       "      <td>Business</td>\n",
       "    </tr>\n",
       "  </tbody>\n",
       "</table>\n",
       "<p>5 rows × 24 columns</p>\n",
       "</div>"
      ],
      "text/plain": [
       "   Overall_Experience       Age  Travel_Distance  DepartureDelay_in_Mins  \\\n",
       "0                 0.0  0.832356        -1.660469               -0.383916   \n",
       "1                 0.0  0.567699         0.215099               -0.147874   \n",
       "2                 1.0  0.236878        -0.892926                1.635557   \n",
       "3                 0.0  0.303042        -1.166284               -0.042966   \n",
       "4                 1.0  0.700027         0.002054               -0.383916   \n",
       "\n",
       "   ArrivalDelay_in_Mins      Seat_comfort Seat_Class Arrival_time_convenient  \\\n",
       "0             -0.259227  need improvement  Green Car               excellent   \n",
       "1             -0.389511              poor   Ordinary               excellent   \n",
       "2              2.711265  need improvement  Green Car        need improvement   \n",
       "3              0.079514        acceptable   Ordinary        need improvement   \n",
       "4             -0.389511        acceptable   Ordinary              acceptable   \n",
       "\n",
       "           Catering Platform_location  ...   Onboard_service  \\\n",
       "0         excellent   very convinient  ...  need improvement   \n",
       "1              poor  need improvement  ...         excellent   \n",
       "2  need improvement  need improvement  ...         excellent   \n",
       "3        acceptable  need improvement  ...        acceptable   \n",
       "4        acceptable        manageable  ...              good   \n",
       "\n",
       "           Leg_room  Baggage_handling   Checkin_service       Cleanliness  \\\n",
       "0        acceptable  need improvement              good  need improvement   \n",
       "1  need improvement              poor  need improvement              good   \n",
       "2         excellent         excellent              good         excellent   \n",
       "3        acceptable        acceptable              good        acceptable   \n",
       "4              good              good              good              good   \n",
       "\n",
       "  Online_boarding  Gender    CustomerType       TypeTravel Travel_Class  \n",
       "0            poor  Female  Loyal Customer  Business travel     Business  \n",
       "1            good    Male  Loyal Customer  Personal Travel          Eco  \n",
       "2       excellent  Female  Loyal Customer  Business travel     Business  \n",
       "3      acceptable  Female  Loyal Customer  Business travel     Business  \n",
       "4            good  Female  Loyal Customer  Business travel     Business  \n",
       "\n",
       "[5 rows x 24 columns]"
      ]
     },
     "execution_count": 30,
     "metadata": {},
     "output_type": "execute_result"
    }
   ],
   "source": [
    "df_train.head()"
   ]
  },
  {
   "cell_type": "code",
   "execution_count": 31,
   "id": "a5517146",
   "metadata": {},
   "outputs": [
    {
     "data": {
      "text/plain": [
       "(94379, 24)"
      ]
     },
     "execution_count": 31,
     "metadata": {},
     "output_type": "execute_result"
    }
   ],
   "source": [
    "df_train.shape"
   ]
  },
  {
   "cell_type": "code",
   "execution_count": 32,
   "id": "22eb97e1",
   "metadata": {},
   "outputs": [],
   "source": [
    "df_train['Overall_Experience'] = df_train['Overall_Experience'].astype('int64')"
   ]
  },
  {
   "cell_type": "code",
   "execution_count": 33,
   "id": "25c6ce80",
   "metadata": {},
   "outputs": [
    {
     "name": "stdout",
     "output_type": "stream",
     "text": [
      "<class 'pandas.core.frame.DataFrame'>\n",
      "RangeIndex: 94379 entries, 0 to 94378\n",
      "Data columns (total 24 columns):\n",
      " #   Column                   Non-Null Count  Dtype  \n",
      "---  ------                   --------------  -----  \n",
      " 0   Overall_Experience       94379 non-null  int64  \n",
      " 1   Age                      94379 non-null  float64\n",
      " 2   Travel_Distance          94379 non-null  float64\n",
      " 3   DepartureDelay_in_Mins   94379 non-null  float64\n",
      " 4   ArrivalDelay_in_Mins     94379 non-null  float64\n",
      " 5   Seat_comfort             94379 non-null  object \n",
      " 6   Seat_Class               94379 non-null  object \n",
      " 7   Arrival_time_convenient  94379 non-null  object \n",
      " 8   Catering                 94379 non-null  object \n",
      " 9   Platform_location        94379 non-null  object \n",
      " 10  Onboardwifi_service      94379 non-null  object \n",
      " 11  Onboard_entertainment    94379 non-null  object \n",
      " 12  Online_support           94379 non-null  object \n",
      " 13  Onlinebooking_Ease       94379 non-null  object \n",
      " 14  Onboard_service          94379 non-null  object \n",
      " 15  Leg_room                 94379 non-null  object \n",
      " 16  Baggage_handling         94379 non-null  object \n",
      " 17  Checkin_service          94379 non-null  object \n",
      " 18  Cleanliness              94379 non-null  object \n",
      " 19  Online_boarding          94379 non-null  object \n",
      " 20  Gender                   94379 non-null  object \n",
      " 21  CustomerType             94379 non-null  object \n",
      " 22  TypeTravel               94379 non-null  object \n",
      " 23  Travel_Class             94379 non-null  object \n",
      "dtypes: float64(4), int64(1), object(19)\n",
      "memory usage: 17.3+ MB\n"
     ]
    }
   ],
   "source": [
    "df_train.info()"
   ]
  },
  {
   "cell_type": "code",
   "execution_count": 34,
   "id": "9787894e",
   "metadata": {},
   "outputs": [
    {
     "name": "stdout",
     "output_type": "stream",
     "text": [
      "Seat_comfort\n",
      "acceptable          21219\n",
      "need improvement    20946\n",
      "good                20595\n",
      "poor                15185\n",
      "excellent           12971\n",
      "extremely poor       3463\n",
      "Name: Seat_comfort, dtype: int64\n",
      "\n",
      "\n",
      "Seat_Class\n",
      "Green Car    47435\n",
      "Ordinary     46944\n",
      "Name: Seat_Class, dtype: int64\n",
      "\n",
      "\n",
      "Arrival_time_convenient\n",
      "good                28504\n",
      "excellent           17684\n",
      "acceptable          15177\n",
      "need improvement    14990\n",
      "poor                13692\n",
      "extremely poor       4332\n",
      "Name: Arrival_time_convenient, dtype: int64\n",
      "\n",
      "\n",
      "Catering\n",
      "acceptable          27209\n",
      "need improvement    17978\n",
      "good                17969\n",
      "poor                13858\n",
      "excellent           13455\n",
      "extremely poor       3910\n",
      "Name: Catering, dtype: int64\n",
      "\n",
      "\n",
      "Platform_location\n",
      "manageable           24203\n",
      "Convinient           21912\n",
      "need improvement     17832\n",
      "Inconvinient         16449\n",
      "very convinient      13981\n",
      "very inconvinient        2\n",
      "Name: Platform_location, dtype: int64\n",
      "\n",
      "\n",
      "Onboardwifi_service\n",
      "good                22865\n",
      "excellent           20968\n",
      "acceptable          20118\n",
      "need improvement    19596\n",
      "poor                10741\n",
      "extremely poor         91\n",
      "Name: Onboardwifi_service, dtype: int64\n",
      "\n",
      "\n",
      "Onboard_entertainment\n",
      "good                30464\n",
      "excellent           21644\n",
      "acceptable          17560\n",
      "need improvement    13926\n",
      "poor                 8641\n",
      "extremely poor       2144\n",
      "Name: Onboard_entertainment, dtype: int64\n",
      "\n",
      "\n",
      "Online_support\n",
      "good                30107\n",
      "excellent           25894\n",
      "acceptable          15702\n",
      "need improvement    12508\n",
      "poor                10167\n",
      "extremely poor          1\n",
      "Name: Online_support, dtype: int64\n",
      "\n",
      "\n",
      "Onlinebooking_Ease\n",
      "good                28982\n",
      "excellent           24744\n",
      "acceptable          16390\n",
      "need improvement    14479\n",
      "poor                 9768\n",
      "extremely poor         16\n",
      "Name: Onlinebooking_Ease, dtype: int64\n",
      "\n",
      "\n",
      "Onboard_service\n",
      "good                34866\n",
      "excellent           21272\n",
      "acceptable          18071\n",
      "need improvement    11390\n",
      "poor                 8776\n",
      "extremely poor          4\n",
      "Name: Onboard_service, dtype: int64\n",
      "\n",
      "\n",
      "Leg_room\n",
      "good                28960\n",
      "excellent           24832\n",
      "acceptable          16384\n",
      "need improvement    15753\n",
      "poor                 8110\n",
      "extremely poor        340\n",
      "Name: Leg_room, dtype: int64\n",
      "\n",
      "\n",
      "Baggage_handling\n",
      "good                35086\n",
      "excellent           26003\n",
      "acceptable          17767\n",
      "need improvement     9759\n",
      "poor                 5764\n",
      "Name: Baggage_handling, dtype: int64\n",
      "\n",
      "\n",
      "Checkin_service\n",
      "good                26579\n",
      "acceptable          25803\n",
      "excellent           19641\n",
      "need improvement    11218\n",
      "poor                11137\n",
      "extremely poor          1\n",
      "Name: Checkin_service, dtype: int64\n",
      "\n",
      "\n",
      "Cleanliness\n",
      "good                35433\n",
      "excellent           26053\n",
      "acceptable          17449\n",
      "need improvement     9806\n",
      "poor                 5633\n",
      "extremely poor          5\n",
      "Name: Cleanliness, dtype: int64\n",
      "\n",
      "\n",
      "Online_boarding\n",
      "good                25539\n",
      "acceptable          22475\n",
      "excellent           21742\n",
      "need improvement    13451\n",
      "poor                11160\n",
      "extremely poor         12\n",
      "Name: Online_boarding, dtype: int64\n",
      "\n",
      "\n",
      "Gender\n",
      "Female    47892\n",
      "Male      46487\n",
      "Name: Gender, dtype: int64\n",
      "\n",
      "\n",
      "CustomerType\n",
      "Loyal Customer       78774\n",
      "disloyal Customer    15605\n",
      "Name: CustomerType, dtype: int64\n",
      "\n",
      "\n",
      "TypeTravel\n",
      "Business travel    67843\n",
      "Personal Travel    26536\n",
      "Name: TypeTravel, dtype: int64\n",
      "\n",
      "\n",
      "Travel_Class\n",
      "Eco         49342\n",
      "Business    45037\n",
      "Name: Travel_Class, dtype: int64\n",
      "\n",
      "\n"
     ]
    }
   ],
   "source": [
    "for feature in df_train.columns:\n",
    "    if df_train[feature].dtype == 'object':\n",
    "        print(feature)\n",
    "        print(df_train[feature].value_counts())\n",
    "        print('\\n')     "
   ]
  },
  {
   "cell_type": "code",
   "execution_count": 35,
   "id": "263477d1",
   "metadata": {},
   "outputs": [
    {
     "data": {
      "text/plain": [
       "Index(['Overall_Experience', 'Age', 'Travel_Distance',\n",
       "       'DepartureDelay_in_Mins', 'ArrivalDelay_in_Mins', 'Seat_comfort',\n",
       "       'Seat_Class', 'Arrival_time_convenient', 'Catering',\n",
       "       'Platform_location', 'Onboardwifi_service', 'Onboard_entertainment',\n",
       "       'Online_support', 'Onlinebooking_Ease', 'Onboard_service', 'Leg_room',\n",
       "       'Baggage_handling', 'Checkin_service', 'Cleanliness', 'Online_boarding',\n",
       "       'Gender', 'CustomerType', 'TypeTravel', 'Travel_Class'],\n",
       "      dtype='object')"
      ]
     },
     "execution_count": 35,
     "metadata": {},
     "output_type": "execute_result"
    }
   ],
   "source": [
    "df_train.columns"
   ]
  },
  {
   "cell_type": "code",
   "execution_count": 36,
   "id": "84172b16",
   "metadata": {},
   "outputs": [],
   "source": [
    "df_train['Seat_comfort'] = np.where(df_train['Seat_comfort'] == 'extremely poor', '0',df_train['Seat_comfort'])\n",
    "df_train['Seat_comfort'] = np.where(df_train['Seat_comfort'] == 'poor', '1',df_train['Seat_comfort'])\n",
    "df_train['Seat_comfort'] = np.where(df_train['Seat_comfort'] == 'need improvement', '2',df_train['Seat_comfort'])\n",
    "df_train['Seat_comfort'] = np.where(df_train['Seat_comfort'] == 'acceptable', '3',df_train['Seat_comfort'])\n",
    "df_train['Seat_comfort'] = np.where(df_train['Seat_comfort'] == 'good', '4',df_train['Seat_comfort'])\n",
    "df_train['Seat_comfort'] = np.where(df_train['Seat_comfort'] == 'excellent', '5',df_train['Seat_comfort'])"
   ]
  },
  {
   "cell_type": "code",
   "execution_count": 37,
   "id": "662eaccc",
   "metadata": {},
   "outputs": [],
   "source": [
    "df_train['Seat_Class'] = np.where(df_train['Seat_Class'] == 'Ordinary', '0',df_train['Seat_Class'])\n",
    "df_train['Seat_Class'] = np.where(df_train['Seat_Class'] == 'Green Car', '1',df_train['Seat_Class'])"
   ]
  },
  {
   "cell_type": "code",
   "execution_count": 38,
   "id": "524309b4",
   "metadata": {},
   "outputs": [],
   "source": [
    "df_train['Arrival_time_convenient'] = np.where(df_train['Arrival_time_convenient'] == 'extremely poor', '0',df_train['Arrival_time_convenient'])\n",
    "df_train['Arrival_time_convenient'] = np.where(df_train['Arrival_time_convenient'] == 'poor', '1',df_train['Arrival_time_convenient'])\n",
    "df_train['Arrival_time_convenient'] = np.where(df_train['Arrival_time_convenient'] == 'need improvement', '2',df_train['Arrival_time_convenient'])\n",
    "df_train['Arrival_time_convenient'] = np.where(df_train['Arrival_time_convenient'] == 'acceptable', '3',df_train['Arrival_time_convenient'])\n",
    "df_train['Arrival_time_convenient'] = np.where(df_train['Arrival_time_convenient'] == 'good', '4',df_train['Arrival_time_convenient'])\n",
    "df_train['Arrival_time_convenient'] = np.where(df_train['Arrival_time_convenient'] == 'excellent', '5',df_train['Arrival_time_convenient'])"
   ]
  },
  {
   "cell_type": "code",
   "execution_count": 39,
   "id": "f4ffe181",
   "metadata": {},
   "outputs": [],
   "source": [
    "df_train['Catering'] = np.where(df_train['Catering'] == 'extremely poor', '0',df_train['Catering'])\n",
    "df_train['Catering'] = np.where(df_train['Catering'] == 'poor', '1',df_train['Catering'])\n",
    "df_train['Catering'] = np.where(df_train['Catering'] == 'need improvement', '2',df_train['Catering'])\n",
    "df_train['Catering'] = np.where(df_train['Catering'] == 'acceptable', '3',df_train['Catering'])\n",
    "df_train['Catering'] = np.where(df_train['Catering'] == 'good', '4',df_train['Catering'])\n",
    "df_train['Catering'] = np.where(df_train['Catering'] == 'excellent', '5',df_train['Catering'])"
   ]
  },
  {
   "cell_type": "code",
   "execution_count": 40,
   "id": "34b4c9aa",
   "metadata": {},
   "outputs": [],
   "source": [
    "df_train['Platform_location'] = np.where(df_train['Platform_location'] == 'very inconvinient', '0',df_train['Platform_location'])\n",
    "df_train['Platform_location'] = np.where(df_train['Platform_location'] == 'Inconvinient', '1',df_train['Platform_location'])\n",
    "df_train['Platform_location'] = np.where(df_train['Platform_location'] == 'need improvement', '2',df_train['Platform_location'])\n",
    "df_train['Platform_location'] = np.where(df_train['Platform_location'] == 'manageable', '3',df_train['Platform_location'])\n",
    "df_train['Platform_location'] = np.where(df_train['Platform_location'] == 'Convinient', '4',df_train['Platform_location'])\n",
    "df_train['Platform_location'] = np.where(df_train['Platform_location'] == 'very convinient', '5',df_train['Platform_location'])"
   ]
  },
  {
   "cell_type": "code",
   "execution_count": 41,
   "id": "87262972",
   "metadata": {},
   "outputs": [],
   "source": [
    "df_train['Onboardwifi_service'] = np.where(df_train['Onboardwifi_service'] == 'extremely poor', '0',df_train['Onboardwifi_service'])\n",
    "df_train['Onboardwifi_service'] = np.where(df_train['Onboardwifi_service'] == 'poor', '1',df_train['Onboardwifi_service'])\n",
    "df_train['Onboardwifi_service'] = np.where(df_train['Onboardwifi_service'] == 'need improvement', '2',df_train['Onboardwifi_service'])\n",
    "df_train['Onboardwifi_service'] = np.where(df_train['Onboardwifi_service'] == 'acceptable', '3',df_train['Onboardwifi_service'])\n",
    "df_train['Onboardwifi_service'] = np.where(df_train['Onboardwifi_service'] == 'good', '4',df_train['Onboardwifi_service'])\n",
    "df_train['Onboardwifi_service'] = np.where(df_train['Onboardwifi_service'] == 'excellent', '5',df_train['Onboardwifi_service'])"
   ]
  },
  {
   "cell_type": "code",
   "execution_count": 42,
   "id": "47066a17",
   "metadata": {},
   "outputs": [],
   "source": [
    "df_train['Onboard_entertainment'] = np.where(df_train['Onboard_entertainment'] == 'extremely poor', '0',df_train['Onboard_entertainment'])\n",
    "df_train['Onboard_entertainment'] = np.where(df_train['Onboard_entertainment'] == 'poor', '1',df_train['Onboard_entertainment'])\n",
    "df_train['Onboard_entertainment'] = np.where(df_train['Onboard_entertainment'] == 'need improvement', '2',df_train['Onboard_entertainment'])\n",
    "df_train['Onboard_entertainment'] = np.where(df_train['Onboard_entertainment'] == 'acceptable', '3',df_train['Onboard_entertainment'])\n",
    "df_train['Onboard_entertainment'] = np.where(df_train['Onboard_entertainment'] == 'good', '4',df_train['Onboard_entertainment'])\n",
    "df_train['Onboard_entertainment'] = np.where(df_train['Onboard_entertainment'] == 'excellent', '5',df_train['Onboard_entertainment'])"
   ]
  },
  {
   "cell_type": "code",
   "execution_count": 43,
   "id": "b0370f8d",
   "metadata": {},
   "outputs": [],
   "source": [
    "df_train['Online_support'] = np.where(df_train['Online_support'] == 'extremely poor', '0',df_train['Online_support'])\n",
    "df_train['Online_support'] = np.where(df_train['Online_support'] == 'poor', '1',df_train['Online_support'])\n",
    "df_train['Online_support'] = np.where(df_train['Online_support'] == 'need improvement', '2',df_train['Online_support'])\n",
    "df_train['Online_support'] = np.where(df_train['Online_support'] == 'acceptable', '3',df_train['Online_support'])\n",
    "df_train['Online_support'] = np.where(df_train['Online_support'] == 'good', '4',df_train['Online_support'])\n",
    "df_train['Online_support'] = np.where(df_train['Online_support'] == 'excellent', '5',df_train['Online_support'])"
   ]
  },
  {
   "cell_type": "code",
   "execution_count": 44,
   "id": "78d2caf9",
   "metadata": {},
   "outputs": [],
   "source": [
    "df_train['Onlinebooking_Ease'] = np.where(df_train['Onlinebooking_Ease'] == 'extremely poor', '0',df_train['Onlinebooking_Ease'])\n",
    "df_train['Onlinebooking_Ease'] = np.where(df_train['Onlinebooking_Ease'] == 'poor', '1',df_train['Onlinebooking_Ease'])\n",
    "df_train['Onlinebooking_Ease'] = np.where(df_train['Onlinebooking_Ease'] == 'need improvement', '2',df_train['Onlinebooking_Ease'])\n",
    "df_train['Onlinebooking_Ease'] = np.where(df_train['Onlinebooking_Ease'] == 'acceptable', '3',df_train['Onlinebooking_Ease'])\n",
    "df_train['Onlinebooking_Ease'] = np.where(df_train['Onlinebooking_Ease'] == 'good', '4',df_train['Onlinebooking_Ease'])\n",
    "df_train['Onlinebooking_Ease'] = np.where(df_train['Onlinebooking_Ease'] == 'excellent', '5',df_train['Onlinebooking_Ease'])"
   ]
  },
  {
   "cell_type": "code",
   "execution_count": 45,
   "id": "055b812c",
   "metadata": {},
   "outputs": [],
   "source": [
    "df_train['Onboard_service'] = np.where(df_train['Onboard_service'] == 'extremely poor', '0',df_train['Onboard_service'])\n",
    "df_train['Onboard_service'] = np.where(df_train['Onboard_service'] == 'poor', '1',df_train['Onboard_service'])\n",
    "df_train['Onboard_service'] = np.where(df_train['Onboard_service'] == 'need improvement', '2',df_train['Onboard_service'])\n",
    "df_train['Onboard_service'] = np.where(df_train['Onboard_service'] == 'acceptable', '3',df_train['Onboard_service'])\n",
    "df_train['Onboard_service'] = np.where(df_train['Onboard_service'] == 'good', '4',df_train['Onboard_service'])\n",
    "df_train['Onboard_service'] = np.where(df_train['Onboard_service'] == 'excellent', '5',df_train['Onboard_service'])"
   ]
  },
  {
   "cell_type": "code",
   "execution_count": 46,
   "id": "21be8403",
   "metadata": {},
   "outputs": [],
   "source": [
    "df_train['Leg_room'] = np.where(df_train['Leg_room'] == 'extremely poor', '0',df_train['Leg_room'])\n",
    "df_train['Leg_room'] = np.where(df_train['Leg_room'] == 'poor', '1',df_train['Leg_room'])\n",
    "df_train['Leg_room'] = np.where(df_train['Leg_room'] == 'need improvement', '2',df_train['Leg_room'])\n",
    "df_train['Leg_room'] = np.where(df_train['Leg_room'] == 'acceptable', '3',df_train['Leg_room'])\n",
    "df_train['Leg_room'] = np.where(df_train['Leg_room'] == 'good', '4',df_train['Leg_room'])\n",
    "df_train['Leg_room'] = np.where(df_train['Leg_room'] == 'excellent', '5',df_train['Leg_room'])"
   ]
  },
  {
   "cell_type": "code",
   "execution_count": 47,
   "id": "fa40617a",
   "metadata": {},
   "outputs": [],
   "source": [
    "df_train['Baggage_handling'] = np.where(df_train['Baggage_handling'] == 'extremely poor', '0',df_train['Baggage_handling'])\n",
    "df_train['Baggage_handling'] = np.where(df_train['Baggage_handling'] == 'poor', '1',df_train['Baggage_handling'])\n",
    "df_train['Baggage_handling'] = np.where(df_train['Baggage_handling'] == 'need improvement', '2',df_train['Baggage_handling'])\n",
    "df_train['Baggage_handling'] = np.where(df_train['Baggage_handling'] == 'acceptable', '3',df_train['Baggage_handling'])\n",
    "df_train['Baggage_handling'] = np.where(df_train['Baggage_handling'] == 'good', '4',df_train['Baggage_handling'])\n",
    "df_train['Baggage_handling'] = np.where(df_train['Baggage_handling'] == 'excellent', '5',df_train['Baggage_handling'])"
   ]
  },
  {
   "cell_type": "code",
   "execution_count": 48,
   "id": "7dca7884",
   "metadata": {},
   "outputs": [],
   "source": [
    "df_train['Checkin_service'] = np.where(df_train['Checkin_service'] == 'extremely poor', '0',df_train['Checkin_service'])\n",
    "df_train['Checkin_service'] = np.where(df_train['Checkin_service'] == 'poor', '1',df_train['Checkin_service'])\n",
    "df_train['Checkin_service'] = np.where(df_train['Checkin_service'] == 'need improvement', '2',df_train['Checkin_service'])\n",
    "df_train['Checkin_service'] = np.where(df_train['Checkin_service'] == 'acceptable', '3',df_train['Checkin_service'])\n",
    "df_train['Checkin_service'] = np.where(df_train['Checkin_service'] == 'good', '4',df_train['Checkin_service'])\n",
    "df_train['Checkin_service'] = np.where(df_train['Checkin_service'] == 'excellent', '5',df_train['Checkin_service'])"
   ]
  },
  {
   "cell_type": "code",
   "execution_count": 49,
   "id": "736fd9fc",
   "metadata": {},
   "outputs": [],
   "source": [
    "df_train['Cleanliness'] = np.where(df_train['Cleanliness'] == 'extremely poor', '0',df_train['Cleanliness'])\n",
    "df_train['Cleanliness'] = np.where(df_train['Cleanliness'] == 'poor', '1',df_train['Cleanliness'])\n",
    "df_train['Cleanliness'] = np.where(df_train['Cleanliness'] == 'need improvement', '2',df_train['Cleanliness'])\n",
    "df_train['Cleanliness'] = np.where(df_train['Cleanliness'] == 'acceptable', '3',df_train['Cleanliness'])\n",
    "df_train['Cleanliness'] = np.where(df_train['Cleanliness'] == 'good', '4',df_train['Cleanliness'])\n",
    "df_train['Cleanliness'] = np.where(df_train['Cleanliness'] == 'excellent', '5',df_train['Cleanliness'])"
   ]
  },
  {
   "cell_type": "code",
   "execution_count": 50,
   "id": "cf47a359",
   "metadata": {},
   "outputs": [],
   "source": [
    "df_train['Online_boarding'] = np.where(df_train['Online_boarding'] == 'extremely poor', '0',df_train['Online_boarding'])\n",
    "df_train['Online_boarding'] = np.where(df_train['Online_boarding'] == 'poor', '1',df_train['Online_boarding'])\n",
    "df_train['Online_boarding'] = np.where(df_train['Online_boarding'] == 'need improvement', '2',df_train['Online_boarding'])\n",
    "df_train['Online_boarding'] = np.where(df_train['Online_boarding'] == 'acceptable', '3',df_train['Online_boarding'])\n",
    "df_train['Online_boarding'] = np.where(df_train['Online_boarding'] == 'good', '4',df_train['Online_boarding'])\n",
    "df_train['Online_boarding'] = np.where(df_train['Online_boarding'] == 'excellent', '5',df_train['Online_boarding'])"
   ]
  },
  {
   "cell_type": "code",
   "execution_count": 51,
   "id": "924d7aa8",
   "metadata": {},
   "outputs": [],
   "source": [
    "df_train['CustomerType'] = np.where(df_train['CustomerType'] == 'disloyal Customer', '0',df_train['CustomerType'])\n",
    "df_train['CustomerType'] = np.where(df_train['CustomerType'] == 'Loyal Customer', '1',df_train['CustomerType'])"
   ]
  },
  {
   "cell_type": "code",
   "execution_count": 52,
   "id": "45c84be4",
   "metadata": {},
   "outputs": [],
   "source": [
    "df_train['Travel_Class'] = np.where(df_train['Travel_Class'] == 'Eco', '0',df_train['Travel_Class'])\n",
    "df_train['Travel_Class'] = np.where(df_train['Travel_Class'] == 'Business', '1',df_train['Travel_Class'])"
   ]
  },
  {
   "cell_type": "code",
   "execution_count": 53,
   "id": "f7ae768b",
   "metadata": {},
   "outputs": [],
   "source": [
    "df_train['TypeTravel'] = np.where(df_train['TypeTravel'] == 'Personal Travel', '0',df_train['TypeTravel'])\n",
    "df_train['TypeTravel'] = np.where(df_train['TypeTravel'] == 'Business travel', '1',df_train['TypeTravel'])"
   ]
  },
  {
   "cell_type": "code",
   "execution_count": 54,
   "id": "50c6b380",
   "metadata": {},
   "outputs": [],
   "source": [
    "df_train['Gender'] = np.where(df_train['Gender'] == 'Female', '0',df_train['Gender'])\n",
    "df_train['Gender'] = np.where(df_train['Gender'] == 'Male', '1',df_train['Gender'])"
   ]
  },
  {
   "cell_type": "code",
   "execution_count": 55,
   "id": "87d6348f",
   "metadata": {},
   "outputs": [],
   "source": [
    "df_train['Seat_comfort'] = df_train['Seat_comfort'].astype('int64')\n",
    "df_train['Seat_Class'] = df_train['Seat_Class'].astype('int64')\n",
    "df_train['Arrival_time_convenient'] = df_train['Arrival_time_convenient'].astype('int64')\n",
    "df_train['Catering'] = df_train['Catering'].astype('int64')\n",
    "df_train['Platform_location'] = df_train['Platform_location'].astype('int64')\n",
    "df_train['Onboardwifi_service'] = df_train['Onboardwifi_service'].astype('int64')\n",
    "df_train['Onboard_entertainment'] = df_train['Onboard_entertainment'].astype('int64')\n",
    "df_train['Online_support'] = df_train['Online_support'].astype('int64')\n",
    "df_train['Onlinebooking_Ease'] = df_train['Onlinebooking_Ease'].astype('int64')\n",
    "df_train['Onboard_service'] = df_train['Onboard_service'].astype('int64')\n",
    "df_train['Leg_room'] = df_train['Leg_room'].astype('int64')\n",
    "df_train['Baggage_handling'] = df_train['Baggage_handling'].astype('int64')\n",
    "df_train['Checkin_service'] = df_train['Checkin_service'].astype('int64')\n",
    "df_train['Cleanliness'] = df_train['Cleanliness'].astype('int64')\n",
    "df_train['Online_boarding'] = df_train['Online_boarding'].astype('int64')\n",
    "df_train['Gender'] = df_train['Gender'].astype('int64')\n",
    "df_train['CustomerType'] = df_train['CustomerType'].astype('int64')\n",
    "df_train['TypeTravel'] = df_train['TypeTravel'].astype('int64')\n",
    "df_train['Travel_Class'] = df_train['Travel_Class'].astype('int64')"
   ]
  },
  {
   "cell_type": "code",
   "execution_count": 56,
   "id": "3a367cd2",
   "metadata": {},
   "outputs": [
    {
     "data": {
      "text/plain": [
       "(94379, 24)"
      ]
     },
     "execution_count": 56,
     "metadata": {},
     "output_type": "execute_result"
    }
   ],
   "source": [
    "df_train.shape"
   ]
  },
  {
   "cell_type": "code",
   "execution_count": 57,
   "id": "ce1d417a",
   "metadata": {},
   "outputs": [
    {
     "name": "stdout",
     "output_type": "stream",
     "text": [
      "<class 'pandas.core.frame.DataFrame'>\n",
      "RangeIndex: 94379 entries, 0 to 94378\n",
      "Data columns (total 24 columns):\n",
      " #   Column                   Non-Null Count  Dtype  \n",
      "---  ------                   --------------  -----  \n",
      " 0   Overall_Experience       94379 non-null  int64  \n",
      " 1   Age                      94379 non-null  float64\n",
      " 2   Travel_Distance          94379 non-null  float64\n",
      " 3   DepartureDelay_in_Mins   94379 non-null  float64\n",
      " 4   ArrivalDelay_in_Mins     94379 non-null  float64\n",
      " 5   Seat_comfort             94379 non-null  int64  \n",
      " 6   Seat_Class               94379 non-null  int64  \n",
      " 7   Arrival_time_convenient  94379 non-null  int64  \n",
      " 8   Catering                 94379 non-null  int64  \n",
      " 9   Platform_location        94379 non-null  int64  \n",
      " 10  Onboardwifi_service      94379 non-null  int64  \n",
      " 11  Onboard_entertainment    94379 non-null  int64  \n",
      " 12  Online_support           94379 non-null  int64  \n",
      " 13  Onlinebooking_Ease       94379 non-null  int64  \n",
      " 14  Onboard_service          94379 non-null  int64  \n",
      " 15  Leg_room                 94379 non-null  int64  \n",
      " 16  Baggage_handling         94379 non-null  int64  \n",
      " 17  Checkin_service          94379 non-null  int64  \n",
      " 18  Cleanliness              94379 non-null  int64  \n",
      " 19  Online_boarding          94379 non-null  int64  \n",
      " 20  Gender                   94379 non-null  int64  \n",
      " 21  CustomerType             94379 non-null  int64  \n",
      " 22  TypeTravel               94379 non-null  int64  \n",
      " 23  Travel_Class             94379 non-null  int64  \n",
      "dtypes: float64(4), int64(20)\n",
      "memory usage: 17.3 MB\n"
     ]
    }
   ],
   "source": [
    "df_train.info()"
   ]
  },
  {
   "cell_type": "code",
   "execution_count": 58,
   "id": "98e93041",
   "metadata": {},
   "outputs": [
    {
     "data": {
      "text/plain": [
       "Overall_Experience         0\n",
       "Age                        0\n",
       "Travel_Distance            0\n",
       "DepartureDelay_in_Mins     0\n",
       "ArrivalDelay_in_Mins       0\n",
       "Seat_comfort               0\n",
       "Seat_Class                 0\n",
       "Arrival_time_convenient    0\n",
       "Catering                   0\n",
       "Platform_location          0\n",
       "Onboardwifi_service        0\n",
       "Onboard_entertainment      0\n",
       "Online_support             0\n",
       "Onlinebooking_Ease         0\n",
       "Onboard_service            0\n",
       "Leg_room                   0\n",
       "Baggage_handling           0\n",
       "Checkin_service            0\n",
       "Cleanliness                0\n",
       "Online_boarding            0\n",
       "Gender                     0\n",
       "CustomerType               0\n",
       "TypeTravel                 0\n",
       "Travel_Class               0\n",
       "dtype: int64"
      ]
     },
     "execution_count": 58,
     "metadata": {},
     "output_type": "execute_result"
    }
   ],
   "source": [
    "df_train.isnull().sum()"
   ]
  },
  {
   "cell_type": "code",
   "execution_count": 59,
   "id": "2b5f196a",
   "metadata": {
    "scrolled": true
   },
   "outputs": [
    {
     "data": {
      "text/html": [
       "<div>\n",
       "<style scoped>\n",
       "    .dataframe tbody tr th:only-of-type {\n",
       "        vertical-align: middle;\n",
       "    }\n",
       "\n",
       "    .dataframe tbody tr th {\n",
       "        vertical-align: top;\n",
       "    }\n",
       "\n",
       "    .dataframe thead th {\n",
       "        text-align: right;\n",
       "    }\n",
       "</style>\n",
       "<table border=\"1\" class=\"dataframe\">\n",
       "  <thead>\n",
       "    <tr style=\"text-align: right;\">\n",
       "      <th></th>\n",
       "      <th>Overall_Experience</th>\n",
       "      <th>Age</th>\n",
       "      <th>Travel_Distance</th>\n",
       "      <th>DepartureDelay_in_Mins</th>\n",
       "      <th>ArrivalDelay_in_Mins</th>\n",
       "      <th>Seat_comfort</th>\n",
       "      <th>Seat_Class</th>\n",
       "      <th>Arrival_time_convenient</th>\n",
       "      <th>Catering</th>\n",
       "      <th>Platform_location</th>\n",
       "      <th>...</th>\n",
       "      <th>Onboard_service</th>\n",
       "      <th>Leg_room</th>\n",
       "      <th>Baggage_handling</th>\n",
       "      <th>Checkin_service</th>\n",
       "      <th>Cleanliness</th>\n",
       "      <th>Online_boarding</th>\n",
       "      <th>Gender</th>\n",
       "      <th>CustomerType</th>\n",
       "      <th>TypeTravel</th>\n",
       "      <th>Travel_Class</th>\n",
       "    </tr>\n",
       "  </thead>\n",
       "  <tbody>\n",
       "    <tr>\n",
       "      <th>0</th>\n",
       "      <td>0</td>\n",
       "      <td>0.832356</td>\n",
       "      <td>-1.660469</td>\n",
       "      <td>-0.383916</td>\n",
       "      <td>-0.259227</td>\n",
       "      <td>2</td>\n",
       "      <td>1</td>\n",
       "      <td>5</td>\n",
       "      <td>5</td>\n",
       "      <td>5</td>\n",
       "      <td>...</td>\n",
       "      <td>2</td>\n",
       "      <td>3</td>\n",
       "      <td>2</td>\n",
       "      <td>4</td>\n",
       "      <td>2</td>\n",
       "      <td>1</td>\n",
       "      <td>0</td>\n",
       "      <td>1</td>\n",
       "      <td>1</td>\n",
       "      <td>1</td>\n",
       "    </tr>\n",
       "    <tr>\n",
       "      <th>1</th>\n",
       "      <td>0</td>\n",
       "      <td>0.567699</td>\n",
       "      <td>0.215099</td>\n",
       "      <td>-0.147874</td>\n",
       "      <td>-0.389511</td>\n",
       "      <td>1</td>\n",
       "      <td>0</td>\n",
       "      <td>5</td>\n",
       "      <td>1</td>\n",
       "      <td>2</td>\n",
       "      <td>...</td>\n",
       "      <td>5</td>\n",
       "      <td>2</td>\n",
       "      <td>1</td>\n",
       "      <td>2</td>\n",
       "      <td>4</td>\n",
       "      <td>4</td>\n",
       "      <td>1</td>\n",
       "      <td>1</td>\n",
       "      <td>0</td>\n",
       "      <td>0</td>\n",
       "    </tr>\n",
       "    <tr>\n",
       "      <th>2</th>\n",
       "      <td>1</td>\n",
       "      <td>0.236878</td>\n",
       "      <td>-0.892926</td>\n",
       "      <td>1.635557</td>\n",
       "      <td>2.711265</td>\n",
       "      <td>2</td>\n",
       "      <td>1</td>\n",
       "      <td>2</td>\n",
       "      <td>2</td>\n",
       "      <td>2</td>\n",
       "      <td>...</td>\n",
       "      <td>5</td>\n",
       "      <td>5</td>\n",
       "      <td>5</td>\n",
       "      <td>4</td>\n",
       "      <td>5</td>\n",
       "      <td>5</td>\n",
       "      <td>0</td>\n",
       "      <td>1</td>\n",
       "      <td>1</td>\n",
       "      <td>1</td>\n",
       "    </tr>\n",
       "    <tr>\n",
       "      <th>3</th>\n",
       "      <td>0</td>\n",
       "      <td>0.303042</td>\n",
       "      <td>-1.166284</td>\n",
       "      <td>-0.042966</td>\n",
       "      <td>0.079514</td>\n",
       "      <td>3</td>\n",
       "      <td>0</td>\n",
       "      <td>2</td>\n",
       "      <td>3</td>\n",
       "      <td>2</td>\n",
       "      <td>...</td>\n",
       "      <td>3</td>\n",
       "      <td>3</td>\n",
       "      <td>3</td>\n",
       "      <td>4</td>\n",
       "      <td>3</td>\n",
       "      <td>3</td>\n",
       "      <td>0</td>\n",
       "      <td>1</td>\n",
       "      <td>1</td>\n",
       "      <td>1</td>\n",
       "    </tr>\n",
       "    <tr>\n",
       "      <th>4</th>\n",
       "      <td>1</td>\n",
       "      <td>0.700027</td>\n",
       "      <td>0.002054</td>\n",
       "      <td>-0.383916</td>\n",
       "      <td>-0.389511</td>\n",
       "      <td>3</td>\n",
       "      <td>0</td>\n",
       "      <td>3</td>\n",
       "      <td>3</td>\n",
       "      <td>3</td>\n",
       "      <td>...</td>\n",
       "      <td>4</td>\n",
       "      <td>4</td>\n",
       "      <td>4</td>\n",
       "      <td>4</td>\n",
       "      <td>4</td>\n",
       "      <td>4</td>\n",
       "      <td>0</td>\n",
       "      <td>1</td>\n",
       "      <td>1</td>\n",
       "      <td>1</td>\n",
       "    </tr>\n",
       "  </tbody>\n",
       "</table>\n",
       "<p>5 rows × 24 columns</p>\n",
       "</div>"
      ],
      "text/plain": [
       "   Overall_Experience       Age  Travel_Distance  DepartureDelay_in_Mins  \\\n",
       "0                   0  0.832356        -1.660469               -0.383916   \n",
       "1                   0  0.567699         0.215099               -0.147874   \n",
       "2                   1  0.236878        -0.892926                1.635557   \n",
       "3                   0  0.303042        -1.166284               -0.042966   \n",
       "4                   1  0.700027         0.002054               -0.383916   \n",
       "\n",
       "   ArrivalDelay_in_Mins  Seat_comfort  Seat_Class  Arrival_time_convenient  \\\n",
       "0             -0.259227             2           1                        5   \n",
       "1             -0.389511             1           0                        5   \n",
       "2              2.711265             2           1                        2   \n",
       "3              0.079514             3           0                        2   \n",
       "4             -0.389511             3           0                        3   \n",
       "\n",
       "   Catering  Platform_location  ...  Onboard_service  Leg_room  \\\n",
       "0         5                  5  ...                2         3   \n",
       "1         1                  2  ...                5         2   \n",
       "2         2                  2  ...                5         5   \n",
       "3         3                  2  ...                3         3   \n",
       "4         3                  3  ...                4         4   \n",
       "\n",
       "   Baggage_handling  Checkin_service  Cleanliness  Online_boarding  Gender  \\\n",
       "0                 2                4            2                1       0   \n",
       "1                 1                2            4                4       1   \n",
       "2                 5                4            5                5       0   \n",
       "3                 3                4            3                3       0   \n",
       "4                 4                4            4                4       0   \n",
       "\n",
       "   CustomerType  TypeTravel  Travel_Class  \n",
       "0             1           1             1  \n",
       "1             1           0             0  \n",
       "2             1           1             1  \n",
       "3             1           1             1  \n",
       "4             1           1             1  \n",
       "\n",
       "[5 rows x 24 columns]"
      ]
     },
     "execution_count": 59,
     "metadata": {},
     "output_type": "execute_result"
    }
   ],
   "source": [
    "df_train.head()"
   ]
  },
  {
   "cell_type": "code",
   "execution_count": 60,
   "id": "1e8a08ab",
   "metadata": {},
   "outputs": [
    {
     "data": {
      "text/html": [
       "<div>\n",
       "<style scoped>\n",
       "    .dataframe tbody tr th:only-of-type {\n",
       "        vertical-align: middle;\n",
       "    }\n",
       "\n",
       "    .dataframe tbody tr th {\n",
       "        vertical-align: top;\n",
       "    }\n",
       "\n",
       "    .dataframe thead th {\n",
       "        text-align: right;\n",
       "    }\n",
       "</style>\n",
       "<table border=\"1\" class=\"dataframe\">\n",
       "  <thead>\n",
       "    <tr style=\"text-align: right;\">\n",
       "      <th></th>\n",
       "      <th>Overall_Experience</th>\n",
       "      <th>Age</th>\n",
       "      <th>Travel_Distance</th>\n",
       "      <th>DepartureDelay_in_Mins</th>\n",
       "      <th>ArrivalDelay_in_Mins</th>\n",
       "      <th>Seat_comfort</th>\n",
       "      <th>Seat_Class</th>\n",
       "      <th>Arrival_time_convenient</th>\n",
       "      <th>Catering</th>\n",
       "      <th>Platform_location</th>\n",
       "      <th>...</th>\n",
       "      <th>Onboard_service</th>\n",
       "      <th>Leg_room</th>\n",
       "      <th>Baggage_handling</th>\n",
       "      <th>Checkin_service</th>\n",
       "      <th>Cleanliness</th>\n",
       "      <th>Online_boarding</th>\n",
       "      <th>Gender</th>\n",
       "      <th>CustomerType</th>\n",
       "      <th>TypeTravel</th>\n",
       "      <th>Travel_Class</th>\n",
       "    </tr>\n",
       "  </thead>\n",
       "  <tbody>\n",
       "    <tr>\n",
       "      <th>94374</th>\n",
       "      <td>0</td>\n",
       "      <td>-0.490928</td>\n",
       "      <td>-0.604976</td>\n",
       "      <td>1.792918</td>\n",
       "      <td>2.867606</td>\n",
       "      <td>1</td>\n",
       "      <td>0</td>\n",
       "      <td>4</td>\n",
       "      <td>4</td>\n",
       "      <td>4</td>\n",
       "      <td>...</td>\n",
       "      <td>4</td>\n",
       "      <td>4</td>\n",
       "      <td>4</td>\n",
       "      <td>2</td>\n",
       "      <td>4</td>\n",
       "      <td>1</td>\n",
       "      <td>1</td>\n",
       "      <td>1</td>\n",
       "      <td>1</td>\n",
       "      <td>1</td>\n",
       "    </tr>\n",
       "    <tr>\n",
       "      <th>94375</th>\n",
       "      <td>1</td>\n",
       "      <td>0.303042</td>\n",
       "      <td>-1.349171</td>\n",
       "      <td>-0.252782</td>\n",
       "      <td>-0.102885</td>\n",
       "      <td>4</td>\n",
       "      <td>0</td>\n",
       "      <td>4</td>\n",
       "      <td>4</td>\n",
       "      <td>4</td>\n",
       "      <td>...</td>\n",
       "      <td>3</td>\n",
       "      <td>3</td>\n",
       "      <td>3</td>\n",
       "      <td>4</td>\n",
       "      <td>3</td>\n",
       "      <td>4</td>\n",
       "      <td>1</td>\n",
       "      <td>1</td>\n",
       "      <td>1</td>\n",
       "      <td>1</td>\n",
       "    </tr>\n",
       "    <tr>\n",
       "      <th>94376</th>\n",
       "      <td>1</td>\n",
       "      <td>1.560162</td>\n",
       "      <td>0.792945</td>\n",
       "      <td>-0.383916</td>\n",
       "      <td>-0.389511</td>\n",
       "      <td>2</td>\n",
       "      <td>1</td>\n",
       "      <td>2</td>\n",
       "      <td>2</td>\n",
       "      <td>2</td>\n",
       "      <td>...</td>\n",
       "      <td>4</td>\n",
       "      <td>4</td>\n",
       "      <td>4</td>\n",
       "      <td>3</td>\n",
       "      <td>4</td>\n",
       "      <td>3</td>\n",
       "      <td>1</td>\n",
       "      <td>1</td>\n",
       "      <td>1</td>\n",
       "      <td>1</td>\n",
       "    </tr>\n",
       "    <tr>\n",
       "      <th>94377</th>\n",
       "      <td>0</td>\n",
       "      <td>-1.549556</td>\n",
       "      <td>0.744304</td>\n",
       "      <td>-0.383916</td>\n",
       "      <td>-0.389511</td>\n",
       "      <td>2</td>\n",
       "      <td>0</td>\n",
       "      <td>4</td>\n",
       "      <td>2</td>\n",
       "      <td>4</td>\n",
       "      <td>...</td>\n",
       "      <td>3</td>\n",
       "      <td>4</td>\n",
       "      <td>4</td>\n",
       "      <td>4</td>\n",
       "      <td>5</td>\n",
       "      <td>4</td>\n",
       "      <td>1</td>\n",
       "      <td>1</td>\n",
       "      <td>0</td>\n",
       "      <td>0</td>\n",
       "    </tr>\n",
       "    <tr>\n",
       "      <th>94378</th>\n",
       "      <td>0</td>\n",
       "      <td>0.964684</td>\n",
       "      <td>0.124628</td>\n",
       "      <td>0.350438</td>\n",
       "      <td>0.340083</td>\n",
       "      <td>3</td>\n",
       "      <td>0</td>\n",
       "      <td>1</td>\n",
       "      <td>3</td>\n",
       "      <td>3</td>\n",
       "      <td>...</td>\n",
       "      <td>1</td>\n",
       "      <td>4</td>\n",
       "      <td>4</td>\n",
       "      <td>1</td>\n",
       "      <td>4</td>\n",
       "      <td>3</td>\n",
       "      <td>1</td>\n",
       "      <td>1</td>\n",
       "      <td>1</td>\n",
       "      <td>0</td>\n",
       "    </tr>\n",
       "  </tbody>\n",
       "</table>\n",
       "<p>5 rows × 24 columns</p>\n",
       "</div>"
      ],
      "text/plain": [
       "       Overall_Experience       Age  Travel_Distance  DepartureDelay_in_Mins  \\\n",
       "94374                   0 -0.490928        -0.604976                1.792918   \n",
       "94375                   1  0.303042        -1.349171               -0.252782   \n",
       "94376                   1  1.560162         0.792945               -0.383916   \n",
       "94377                   0 -1.549556         0.744304               -0.383916   \n",
       "94378                   0  0.964684         0.124628                0.350438   \n",
       "\n",
       "       ArrivalDelay_in_Mins  Seat_comfort  Seat_Class  \\\n",
       "94374              2.867606             1           0   \n",
       "94375             -0.102885             4           0   \n",
       "94376             -0.389511             2           1   \n",
       "94377             -0.389511             2           0   \n",
       "94378              0.340083             3           0   \n",
       "\n",
       "       Arrival_time_convenient  Catering  Platform_location  ...  \\\n",
       "94374                        4         4                  4  ...   \n",
       "94375                        4         4                  4  ...   \n",
       "94376                        2         2                  2  ...   \n",
       "94377                        4         2                  4  ...   \n",
       "94378                        1         3                  3  ...   \n",
       "\n",
       "       Onboard_service  Leg_room  Baggage_handling  Checkin_service  \\\n",
       "94374                4         4                 4                2   \n",
       "94375                3         3                 3                4   \n",
       "94376                4         4                 4                3   \n",
       "94377                3         4                 4                4   \n",
       "94378                1         4                 4                1   \n",
       "\n",
       "       Cleanliness  Online_boarding  Gender  CustomerType  TypeTravel  \\\n",
       "94374            4                1       1             1           1   \n",
       "94375            3                4       1             1           1   \n",
       "94376            4                3       1             1           1   \n",
       "94377            5                4       1             1           0   \n",
       "94378            4                3       1             1           1   \n",
       "\n",
       "       Travel_Class  \n",
       "94374             1  \n",
       "94375             1  \n",
       "94376             1  \n",
       "94377             0  \n",
       "94378             0  \n",
       "\n",
       "[5 rows x 24 columns]"
      ]
     },
     "execution_count": 60,
     "metadata": {},
     "output_type": "execute_result"
    }
   ],
   "source": [
    "df_train.tail()"
   ]
  },
  {
   "cell_type": "code",
   "execution_count": 61,
   "id": "347033fe",
   "metadata": {},
   "outputs": [
    {
     "data": {
      "text/html": [
       "<div>\n",
       "<style scoped>\n",
       "    .dataframe tbody tr th:only-of-type {\n",
       "        vertical-align: middle;\n",
       "    }\n",
       "\n",
       "    .dataframe tbody tr th {\n",
       "        vertical-align: top;\n",
       "    }\n",
       "\n",
       "    .dataframe thead th {\n",
       "        text-align: right;\n",
       "    }\n",
       "</style>\n",
       "<table border=\"1\" class=\"dataframe\">\n",
       "  <thead>\n",
       "    <tr style=\"text-align: right;\">\n",
       "      <th></th>\n",
       "      <th>count</th>\n",
       "      <th>mean</th>\n",
       "      <th>std</th>\n",
       "      <th>min</th>\n",
       "      <th>25%</th>\n",
       "      <th>50%</th>\n",
       "      <th>75%</th>\n",
       "      <th>max</th>\n",
       "    </tr>\n",
       "  </thead>\n",
       "  <tbody>\n",
       "    <tr>\n",
       "      <th>Overall_Experience</th>\n",
       "      <td>94379.0</td>\n",
       "      <td>5.466576e-01</td>\n",
       "      <td>0.497821</td>\n",
       "      <td>0.000000</td>\n",
       "      <td>0.000000</td>\n",
       "      <td>1.000000</td>\n",
       "      <td>1.000000</td>\n",
       "      <td>1.000000</td>\n",
       "    </tr>\n",
       "    <tr>\n",
       "      <th>Age</th>\n",
       "      <td>94379.0</td>\n",
       "      <td>3.849002e-17</td>\n",
       "      <td>1.000005</td>\n",
       "      <td>-2.145034</td>\n",
       "      <td>-0.821749</td>\n",
       "      <td>0.038385</td>\n",
       "      <td>0.766191</td>\n",
       "      <td>3.015774</td>\n",
       "    </tr>\n",
       "    <tr>\n",
       "      <th>Travel_Distance</th>\n",
       "      <td>94379.0</td>\n",
       "      <td>-3.625982e-17</td>\n",
       "      <td>1.000005</td>\n",
       "      <td>-1.876431</td>\n",
       "      <td>-0.603030</td>\n",
       "      <td>-0.054368</td>\n",
       "      <td>0.543907</td>\n",
       "      <td>4.836894</td>\n",
       "    </tr>\n",
       "    <tr>\n",
       "      <th>DepartureDelay_in_Mins</th>\n",
       "      <td>94379.0</td>\n",
       "      <td>-3.658434e-17</td>\n",
       "      <td>1.000005</td>\n",
       "      <td>-0.383916</td>\n",
       "      <td>-0.383916</td>\n",
       "      <td>-0.383916</td>\n",
       "      <td>-0.069193</td>\n",
       "      <td>41.369345</td>\n",
       "    </tr>\n",
       "    <tr>\n",
       "      <th>ArrivalDelay_in_Mins</th>\n",
       "      <td>94379.0</td>\n",
       "      <td>-8.125124e-16</td>\n",
       "      <td>1.000005</td>\n",
       "      <td>-0.389511</td>\n",
       "      <td>-0.389511</td>\n",
       "      <td>-0.389511</td>\n",
       "      <td>-0.050771</td>\n",
       "      <td>40.884682</td>\n",
       "    </tr>\n",
       "    <tr>\n",
       "      <th>Seat_comfort</th>\n",
       "      <td>94379.0</td>\n",
       "      <td>2.839286e+00</td>\n",
       "      <td>1.392082</td>\n",
       "      <td>0.000000</td>\n",
       "      <td>2.000000</td>\n",
       "      <td>3.000000</td>\n",
       "      <td>4.000000</td>\n",
       "      <td>5.000000</td>\n",
       "    </tr>\n",
       "    <tr>\n",
       "      <th>Seat_Class</th>\n",
       "      <td>94379.0</td>\n",
       "      <td>5.026012e-01</td>\n",
       "      <td>0.499996</td>\n",
       "      <td>0.000000</td>\n",
       "      <td>0.000000</td>\n",
       "      <td>1.000000</td>\n",
       "      <td>1.000000</td>\n",
       "      <td>1.000000</td>\n",
       "    </tr>\n",
       "    <tr>\n",
       "      <th>Arrival_time_convenient</th>\n",
       "      <td>94379.0</td>\n",
       "      <td>3.090084e+00</td>\n",
       "      <td>1.481769</td>\n",
       "      <td>0.000000</td>\n",
       "      <td>2.000000</td>\n",
       "      <td>3.000000</td>\n",
       "      <td>4.000000</td>\n",
       "      <td>5.000000</td>\n",
       "    </tr>\n",
       "    <tr>\n",
       "      <th>Catering</th>\n",
       "      <td>94379.0</td>\n",
       "      <td>2.867078e+00</td>\n",
       "      <td>1.376110</td>\n",
       "      <td>0.000000</td>\n",
       "      <td>2.000000</td>\n",
       "      <td>3.000000</td>\n",
       "      <td>4.000000</td>\n",
       "      <td>5.000000</td>\n",
       "    </tr>\n",
       "    <tr>\n",
       "      <th>Platform_location</th>\n",
       "      <td>94379.0</td>\n",
       "      <td>2.990867e+00</td>\n",
       "      <td>1.308025</td>\n",
       "      <td>0.000000</td>\n",
       "      <td>2.000000</td>\n",
       "      <td>3.000000</td>\n",
       "      <td>4.000000</td>\n",
       "      <td>5.000000</td>\n",
       "    </tr>\n",
       "    <tr>\n",
       "      <th>Onboardwifi_service</th>\n",
       "      <td>94379.0</td>\n",
       "      <td>3.248466e+00</td>\n",
       "      <td>1.319379</td>\n",
       "      <td>0.000000</td>\n",
       "      <td>2.000000</td>\n",
       "      <td>3.000000</td>\n",
       "      <td>4.000000</td>\n",
       "      <td>5.000000</td>\n",
       "    </tr>\n",
       "    <tr>\n",
       "      <th>Onboard_entertainment</th>\n",
       "      <td>94379.0</td>\n",
       "      <td>3.382627e+00</td>\n",
       "      <td>1.346088</td>\n",
       "      <td>0.000000</td>\n",
       "      <td>2.000000</td>\n",
       "      <td>4.000000</td>\n",
       "      <td>4.000000</td>\n",
       "      <td>5.000000</td>\n",
       "    </tr>\n",
       "    <tr>\n",
       "      <th>Online_support</th>\n",
       "      <td>94379.0</td>\n",
       "      <td>3.519713e+00</td>\n",
       "      <td>1.307628</td>\n",
       "      <td>0.000000</td>\n",
       "      <td>3.000000</td>\n",
       "      <td>4.000000</td>\n",
       "      <td>5.000000</td>\n",
       "      <td>5.000000</td>\n",
       "    </tr>\n",
       "    <tr>\n",
       "      <th>Onlinebooking_Ease</th>\n",
       "      <td>94379.0</td>\n",
       "      <td>3.470518e+00</td>\n",
       "      <td>1.305124</td>\n",
       "      <td>0.000000</td>\n",
       "      <td>2.000000</td>\n",
       "      <td>4.000000</td>\n",
       "      <td>5.000000</td>\n",
       "      <td>5.000000</td>\n",
       "    </tr>\n",
       "    <tr>\n",
       "      <th>Onboard_service</th>\n",
       "      <td>94379.0</td>\n",
       "      <td>3.513419e+00</td>\n",
       "      <td>1.224912</td>\n",
       "      <td>0.000000</td>\n",
       "      <td>3.000000</td>\n",
       "      <td>4.000000</td>\n",
       "      <td>4.000000</td>\n",
       "      <td>5.000000</td>\n",
       "    </tr>\n",
       "    <tr>\n",
       "      <th>Leg_room</th>\n",
       "      <td>94379.0</td>\n",
       "      <td>3.483487e+00</td>\n",
       "      <td>1.291743</td>\n",
       "      <td>0.000000</td>\n",
       "      <td>2.000000</td>\n",
       "      <td>4.000000</td>\n",
       "      <td>5.000000</td>\n",
       "      <td>5.000000</td>\n",
       "    </tr>\n",
       "    <tr>\n",
       "      <th>Baggage_handling</th>\n",
       "      <td>94379.0</td>\n",
       "      <td>3.697242e+00</td>\n",
       "      <td>1.155589</td>\n",
       "      <td>1.000000</td>\n",
       "      <td>3.000000</td>\n",
       "      <td>4.000000</td>\n",
       "      <td>5.000000</td>\n",
       "      <td>5.000000</td>\n",
       "    </tr>\n",
       "    <tr>\n",
       "      <th>Checkin_service</th>\n",
       "      <td>94379.0</td>\n",
       "      <td>3.342936e+00</td>\n",
       "      <td>1.259933</td>\n",
       "      <td>0.000000</td>\n",
       "      <td>3.000000</td>\n",
       "      <td>3.000000</td>\n",
       "      <td>4.000000</td>\n",
       "      <td>5.000000</td>\n",
       "    </tr>\n",
       "    <tr>\n",
       "      <th>Cleanliness</th>\n",
       "      <td>94379.0</td>\n",
       "      <td>3.704097e+00</td>\n",
       "      <td>1.151954</td>\n",
       "      <td>0.000000</td>\n",
       "      <td>3.000000</td>\n",
       "      <td>4.000000</td>\n",
       "      <td>5.000000</td>\n",
       "      <td>5.000000</td>\n",
       "    </tr>\n",
       "    <tr>\n",
       "      <th>Online_boarding</th>\n",
       "      <td>94379.0</td>\n",
       "      <td>3.351943e+00</td>\n",
       "      <td>1.298030</td>\n",
       "      <td>0.000000</td>\n",
       "      <td>2.000000</td>\n",
       "      <td>4.000000</td>\n",
       "      <td>4.000000</td>\n",
       "      <td>5.000000</td>\n",
       "    </tr>\n",
       "    <tr>\n",
       "      <th>Gender</th>\n",
       "      <td>94379.0</td>\n",
       "      <td>4.925566e-01</td>\n",
       "      <td>0.499947</td>\n",
       "      <td>0.000000</td>\n",
       "      <td>0.000000</td>\n",
       "      <td>0.000000</td>\n",
       "      <td>1.000000</td>\n",
       "      <td>1.000000</td>\n",
       "    </tr>\n",
       "    <tr>\n",
       "      <th>CustomerType</th>\n",
       "      <td>94379.0</td>\n",
       "      <td>8.346560e-01</td>\n",
       "      <td>0.371493</td>\n",
       "      <td>0.000000</td>\n",
       "      <td>1.000000</td>\n",
       "      <td>1.000000</td>\n",
       "      <td>1.000000</td>\n",
       "      <td>1.000000</td>\n",
       "    </tr>\n",
       "    <tr>\n",
       "      <th>TypeTravel</th>\n",
       "      <td>94379.0</td>\n",
       "      <td>7.188358e-01</td>\n",
       "      <td>0.449570</td>\n",
       "      <td>0.000000</td>\n",
       "      <td>0.000000</td>\n",
       "      <td>1.000000</td>\n",
       "      <td>1.000000</td>\n",
       "      <td>1.000000</td>\n",
       "    </tr>\n",
       "    <tr>\n",
       "      <th>Travel_Class</th>\n",
       "      <td>94379.0</td>\n",
       "      <td>4.771930e-01</td>\n",
       "      <td>0.499482</td>\n",
       "      <td>0.000000</td>\n",
       "      <td>0.000000</td>\n",
       "      <td>0.000000</td>\n",
       "      <td>1.000000</td>\n",
       "      <td>1.000000</td>\n",
       "    </tr>\n",
       "  </tbody>\n",
       "</table>\n",
       "</div>"
      ],
      "text/plain": [
       "                           count          mean       std       min       25%  \\\n",
       "Overall_Experience       94379.0  5.466576e-01  0.497821  0.000000  0.000000   \n",
       "Age                      94379.0  3.849002e-17  1.000005 -2.145034 -0.821749   \n",
       "Travel_Distance          94379.0 -3.625982e-17  1.000005 -1.876431 -0.603030   \n",
       "DepartureDelay_in_Mins   94379.0 -3.658434e-17  1.000005 -0.383916 -0.383916   \n",
       "ArrivalDelay_in_Mins     94379.0 -8.125124e-16  1.000005 -0.389511 -0.389511   \n",
       "Seat_comfort             94379.0  2.839286e+00  1.392082  0.000000  2.000000   \n",
       "Seat_Class               94379.0  5.026012e-01  0.499996  0.000000  0.000000   \n",
       "Arrival_time_convenient  94379.0  3.090084e+00  1.481769  0.000000  2.000000   \n",
       "Catering                 94379.0  2.867078e+00  1.376110  0.000000  2.000000   \n",
       "Platform_location        94379.0  2.990867e+00  1.308025  0.000000  2.000000   \n",
       "Onboardwifi_service      94379.0  3.248466e+00  1.319379  0.000000  2.000000   \n",
       "Onboard_entertainment    94379.0  3.382627e+00  1.346088  0.000000  2.000000   \n",
       "Online_support           94379.0  3.519713e+00  1.307628  0.000000  3.000000   \n",
       "Onlinebooking_Ease       94379.0  3.470518e+00  1.305124  0.000000  2.000000   \n",
       "Onboard_service          94379.0  3.513419e+00  1.224912  0.000000  3.000000   \n",
       "Leg_room                 94379.0  3.483487e+00  1.291743  0.000000  2.000000   \n",
       "Baggage_handling         94379.0  3.697242e+00  1.155589  1.000000  3.000000   \n",
       "Checkin_service          94379.0  3.342936e+00  1.259933  0.000000  3.000000   \n",
       "Cleanliness              94379.0  3.704097e+00  1.151954  0.000000  3.000000   \n",
       "Online_boarding          94379.0  3.351943e+00  1.298030  0.000000  2.000000   \n",
       "Gender                   94379.0  4.925566e-01  0.499947  0.000000  0.000000   \n",
       "CustomerType             94379.0  8.346560e-01  0.371493  0.000000  1.000000   \n",
       "TypeTravel               94379.0  7.188358e-01  0.449570  0.000000  0.000000   \n",
       "Travel_Class             94379.0  4.771930e-01  0.499482  0.000000  0.000000   \n",
       "\n",
       "                              50%       75%        max  \n",
       "Overall_Experience       1.000000  1.000000   1.000000  \n",
       "Age                      0.038385  0.766191   3.015774  \n",
       "Travel_Distance         -0.054368  0.543907   4.836894  \n",
       "DepartureDelay_in_Mins  -0.383916 -0.069193  41.369345  \n",
       "ArrivalDelay_in_Mins    -0.389511 -0.050771  40.884682  \n",
       "Seat_comfort             3.000000  4.000000   5.000000  \n",
       "Seat_Class               1.000000  1.000000   1.000000  \n",
       "Arrival_time_convenient  3.000000  4.000000   5.000000  \n",
       "Catering                 3.000000  4.000000   5.000000  \n",
       "Platform_location        3.000000  4.000000   5.000000  \n",
       "Onboardwifi_service      3.000000  4.000000   5.000000  \n",
       "Onboard_entertainment    4.000000  4.000000   5.000000  \n",
       "Online_support           4.000000  5.000000   5.000000  \n",
       "Onlinebooking_Ease       4.000000  5.000000   5.000000  \n",
       "Onboard_service          4.000000  4.000000   5.000000  \n",
       "Leg_room                 4.000000  5.000000   5.000000  \n",
       "Baggage_handling         4.000000  5.000000   5.000000  \n",
       "Checkin_service          3.000000  4.000000   5.000000  \n",
       "Cleanliness              4.000000  5.000000   5.000000  \n",
       "Online_boarding          4.000000  4.000000   5.000000  \n",
       "Gender                   0.000000  1.000000   1.000000  \n",
       "CustomerType             1.000000  1.000000   1.000000  \n",
       "TypeTravel               1.000000  1.000000   1.000000  \n",
       "Travel_Class             0.000000  1.000000   1.000000  "
      ]
     },
     "execution_count": 61,
     "metadata": {},
     "output_type": "execute_result"
    }
   ],
   "source": [
    "#five point summary\n",
    "df_train.describe().T"
   ]
  },
  {
   "cell_type": "markdown",
   "id": "d30e3c9e",
   "metadata": {},
   "source": [
    "# Test dataset"
   ]
  },
  {
   "cell_type": "code",
   "execution_count": 62,
   "id": "32c9b555",
   "metadata": {},
   "outputs": [],
   "source": [
    "#Read all csv files\n",
    "df_Surveydata_test = pd.read_csv('Surveydata_test.csv')\n",
    "df_Traveldata_test = pd.read_csv('Traveldata_test.csv')"
   ]
  },
  {
   "cell_type": "code",
   "execution_count": 63,
   "id": "fcad65c0",
   "metadata": {},
   "outputs": [
    {
     "data": {
      "text/html": [
       "<div>\n",
       "<style scoped>\n",
       "    .dataframe tbody tr th:only-of-type {\n",
       "        vertical-align: middle;\n",
       "    }\n",
       "\n",
       "    .dataframe tbody tr th {\n",
       "        vertical-align: top;\n",
       "    }\n",
       "\n",
       "    .dataframe thead th {\n",
       "        text-align: right;\n",
       "    }\n",
       "</style>\n",
       "<table border=\"1\" class=\"dataframe\">\n",
       "  <thead>\n",
       "    <tr style=\"text-align: right;\">\n",
       "      <th></th>\n",
       "      <th>ID</th>\n",
       "      <th>Seat_comfort</th>\n",
       "      <th>Seat_Class</th>\n",
       "      <th>Arrival_time_convenient</th>\n",
       "      <th>Catering</th>\n",
       "      <th>Platform_location</th>\n",
       "      <th>Onboardwifi_service</th>\n",
       "      <th>Onboard_entertainment</th>\n",
       "      <th>Online_support</th>\n",
       "      <th>Onlinebooking_Ease</th>\n",
       "      <th>Onboard_service</th>\n",
       "      <th>Leg_room</th>\n",
       "      <th>Baggage_handling</th>\n",
       "      <th>Checkin_service</th>\n",
       "      <th>Cleanliness</th>\n",
       "      <th>Online_boarding</th>\n",
       "    </tr>\n",
       "  </thead>\n",
       "  <tbody>\n",
       "    <tr>\n",
       "      <th>0</th>\n",
       "      <td>99900001</td>\n",
       "      <td>acceptable</td>\n",
       "      <td>Green Car</td>\n",
       "      <td>acceptable</td>\n",
       "      <td>acceptable</td>\n",
       "      <td>manageable</td>\n",
       "      <td>need improvement</td>\n",
       "      <td>excellent</td>\n",
       "      <td>good</td>\n",
       "      <td>excellent</td>\n",
       "      <td>excellent</td>\n",
       "      <td>excellent</td>\n",
       "      <td>excellent</td>\n",
       "      <td>good</td>\n",
       "      <td>excellent</td>\n",
       "      <td>poor</td>\n",
       "    </tr>\n",
       "    <tr>\n",
       "      <th>1</th>\n",
       "      <td>99900002</td>\n",
       "      <td>extremely poor</td>\n",
       "      <td>Ordinary</td>\n",
       "      <td>good</td>\n",
       "      <td>poor</td>\n",
       "      <td>manageable</td>\n",
       "      <td>acceptable</td>\n",
       "      <td>poor</td>\n",
       "      <td>acceptable</td>\n",
       "      <td>acceptable</td>\n",
       "      <td>excellent</td>\n",
       "      <td>acceptable</td>\n",
       "      <td>good</td>\n",
       "      <td>acceptable</td>\n",
       "      <td>excellent</td>\n",
       "      <td>acceptable</td>\n",
       "    </tr>\n",
       "    <tr>\n",
       "      <th>2</th>\n",
       "      <td>99900003</td>\n",
       "      <td>excellent</td>\n",
       "      <td>Ordinary</td>\n",
       "      <td>excellent</td>\n",
       "      <td>excellent</td>\n",
       "      <td>very convinient</td>\n",
       "      <td>excellent</td>\n",
       "      <td>excellent</td>\n",
       "      <td>excellent</td>\n",
       "      <td>need improvement</td>\n",
       "      <td>need improvement</td>\n",
       "      <td>need improvement</td>\n",
       "      <td>need improvement</td>\n",
       "      <td>good</td>\n",
       "      <td>need improvement</td>\n",
       "      <td>excellent</td>\n",
       "    </tr>\n",
       "    <tr>\n",
       "      <th>3</th>\n",
       "      <td>99900004</td>\n",
       "      <td>acceptable</td>\n",
       "      <td>Green Car</td>\n",
       "      <td>excellent</td>\n",
       "      <td>acceptable</td>\n",
       "      <td>very convinient</td>\n",
       "      <td>poor</td>\n",
       "      <td>acceptable</td>\n",
       "      <td>excellent</td>\n",
       "      <td>poor</td>\n",
       "      <td>acceptable</td>\n",
       "      <td>need improvement</td>\n",
       "      <td>excellent</td>\n",
       "      <td>excellent</td>\n",
       "      <td>excellent</td>\n",
       "      <td>poor</td>\n",
       "    </tr>\n",
       "    <tr>\n",
       "      <th>4</th>\n",
       "      <td>99900005</td>\n",
       "      <td>excellent</td>\n",
       "      <td>Ordinary</td>\n",
       "      <td>extremely poor</td>\n",
       "      <td>excellent</td>\n",
       "      <td>need improvement</td>\n",
       "      <td>excellent</td>\n",
       "      <td>excellent</td>\n",
       "      <td>excellent</td>\n",
       "      <td>excellent</td>\n",
       "      <td>NaN</td>\n",
       "      <td>acceptable</td>\n",
       "      <td>excellent</td>\n",
       "      <td>excellent</td>\n",
       "      <td>excellent</td>\n",
       "      <td>excellent</td>\n",
       "    </tr>\n",
       "  </tbody>\n",
       "</table>\n",
       "</div>"
      ],
      "text/plain": [
       "         ID    Seat_comfort Seat_Class Arrival_time_convenient    Catering  \\\n",
       "0  99900001      acceptable  Green Car              acceptable  acceptable   \n",
       "1  99900002  extremely poor   Ordinary                    good        poor   \n",
       "2  99900003       excellent   Ordinary               excellent   excellent   \n",
       "3  99900004      acceptable  Green Car               excellent  acceptable   \n",
       "4  99900005       excellent   Ordinary          extremely poor   excellent   \n",
       "\n",
       "  Platform_location Onboardwifi_service Onboard_entertainment Online_support  \\\n",
       "0        manageable    need improvement             excellent           good   \n",
       "1        manageable          acceptable                  poor     acceptable   \n",
       "2   very convinient           excellent             excellent      excellent   \n",
       "3   very convinient                poor            acceptable      excellent   \n",
       "4  need improvement           excellent             excellent      excellent   \n",
       "\n",
       "  Onlinebooking_Ease   Onboard_service          Leg_room  Baggage_handling  \\\n",
       "0          excellent         excellent         excellent         excellent   \n",
       "1         acceptable         excellent        acceptable              good   \n",
       "2   need improvement  need improvement  need improvement  need improvement   \n",
       "3               poor        acceptable  need improvement         excellent   \n",
       "4          excellent               NaN        acceptable         excellent   \n",
       "\n",
       "  Checkin_service       Cleanliness Online_boarding  \n",
       "0            good         excellent            poor  \n",
       "1      acceptable         excellent      acceptable  \n",
       "2            good  need improvement       excellent  \n",
       "3       excellent         excellent            poor  \n",
       "4       excellent         excellent       excellent  "
      ]
     },
     "execution_count": 63,
     "metadata": {},
     "output_type": "execute_result"
    }
   ],
   "source": [
    "# Surveydata_test_head\n",
    "df_Surveydata_test.head()"
   ]
  },
  {
   "cell_type": "code",
   "execution_count": 64,
   "id": "1c7284a1",
   "metadata": {},
   "outputs": [
    {
     "data": {
      "text/html": [
       "<div>\n",
       "<style scoped>\n",
       "    .dataframe tbody tr th:only-of-type {\n",
       "        vertical-align: middle;\n",
       "    }\n",
       "\n",
       "    .dataframe tbody tr th {\n",
       "        vertical-align: top;\n",
       "    }\n",
       "\n",
       "    .dataframe thead th {\n",
       "        text-align: right;\n",
       "    }\n",
       "</style>\n",
       "<table border=\"1\" class=\"dataframe\">\n",
       "  <thead>\n",
       "    <tr style=\"text-align: right;\">\n",
       "      <th></th>\n",
       "      <th>ID</th>\n",
       "      <th>Seat_comfort</th>\n",
       "      <th>Seat_Class</th>\n",
       "      <th>Arrival_time_convenient</th>\n",
       "      <th>Catering</th>\n",
       "      <th>Platform_location</th>\n",
       "      <th>Onboardwifi_service</th>\n",
       "      <th>Onboard_entertainment</th>\n",
       "      <th>Online_support</th>\n",
       "      <th>Onlinebooking_Ease</th>\n",
       "      <th>Onboard_service</th>\n",
       "      <th>Leg_room</th>\n",
       "      <th>Baggage_handling</th>\n",
       "      <th>Checkin_service</th>\n",
       "      <th>Cleanliness</th>\n",
       "      <th>Online_boarding</th>\n",
       "    </tr>\n",
       "  </thead>\n",
       "  <tbody>\n",
       "    <tr>\n",
       "      <th>35597</th>\n",
       "      <td>99935598</td>\n",
       "      <td>need improvement</td>\n",
       "      <td>Green Car</td>\n",
       "      <td>excellent</td>\n",
       "      <td>need improvement</td>\n",
       "      <td>manageable</td>\n",
       "      <td>acceptable</td>\n",
       "      <td>need improvement</td>\n",
       "      <td>acceptable</td>\n",
       "      <td>acceptable</td>\n",
       "      <td>good</td>\n",
       "      <td>excellent</td>\n",
       "      <td>good</td>\n",
       "      <td>acceptable</td>\n",
       "      <td>good</td>\n",
       "      <td>acceptable</td>\n",
       "    </tr>\n",
       "    <tr>\n",
       "      <th>35598</th>\n",
       "      <td>99935599</td>\n",
       "      <td>need improvement</td>\n",
       "      <td>Ordinary</td>\n",
       "      <td>need improvement</td>\n",
       "      <td>good</td>\n",
       "      <td>need improvement</td>\n",
       "      <td>acceptable</td>\n",
       "      <td>excellent</td>\n",
       "      <td>excellent</td>\n",
       "      <td>good</td>\n",
       "      <td>good</td>\n",
       "      <td>good</td>\n",
       "      <td>good</td>\n",
       "      <td>acceptable</td>\n",
       "      <td>good</td>\n",
       "      <td>good</td>\n",
       "    </tr>\n",
       "    <tr>\n",
       "      <th>35599</th>\n",
       "      <td>99935600</td>\n",
       "      <td>good</td>\n",
       "      <td>Green Car</td>\n",
       "      <td>extremely poor</td>\n",
       "      <td>good</td>\n",
       "      <td>need improvement</td>\n",
       "      <td>need improvement</td>\n",
       "      <td>good</td>\n",
       "      <td>poor</td>\n",
       "      <td>need improvement</td>\n",
       "      <td>poor</td>\n",
       "      <td>acceptable</td>\n",
       "      <td>poor</td>\n",
       "      <td>poor</td>\n",
       "      <td>excellent</td>\n",
       "      <td>need improvement</td>\n",
       "    </tr>\n",
       "    <tr>\n",
       "      <th>35600</th>\n",
       "      <td>99935601</td>\n",
       "      <td>excellent</td>\n",
       "      <td>Ordinary</td>\n",
       "      <td>excellent</td>\n",
       "      <td>excellent</td>\n",
       "      <td>Inconvinient</td>\n",
       "      <td>acceptable</td>\n",
       "      <td>excellent</td>\n",
       "      <td>good</td>\n",
       "      <td>excellent</td>\n",
       "      <td>excellent</td>\n",
       "      <td>excellent</td>\n",
       "      <td>excellent</td>\n",
       "      <td>acceptable</td>\n",
       "      <td>excellent</td>\n",
       "      <td>good</td>\n",
       "    </tr>\n",
       "    <tr>\n",
       "      <th>35601</th>\n",
       "      <td>99935602</td>\n",
       "      <td>good</td>\n",
       "      <td>Ordinary</td>\n",
       "      <td>acceptable</td>\n",
       "      <td>good</td>\n",
       "      <td>manageable</td>\n",
       "      <td>poor</td>\n",
       "      <td>good</td>\n",
       "      <td>poor</td>\n",
       "      <td>poor</td>\n",
       "      <td>acceptable</td>\n",
       "      <td>good</td>\n",
       "      <td>good</td>\n",
       "      <td>need improvement</td>\n",
       "      <td>good</td>\n",
       "      <td>poor</td>\n",
       "    </tr>\n",
       "  </tbody>\n",
       "</table>\n",
       "</div>"
      ],
      "text/plain": [
       "             ID      Seat_comfort Seat_Class Arrival_time_convenient  \\\n",
       "35597  99935598  need improvement  Green Car               excellent   \n",
       "35598  99935599  need improvement   Ordinary        need improvement   \n",
       "35599  99935600              good  Green Car          extremely poor   \n",
       "35600  99935601         excellent   Ordinary               excellent   \n",
       "35601  99935602              good   Ordinary              acceptable   \n",
       "\n",
       "               Catering Platform_location Onboardwifi_service  \\\n",
       "35597  need improvement        manageable          acceptable   \n",
       "35598              good  need improvement          acceptable   \n",
       "35599              good  need improvement    need improvement   \n",
       "35600         excellent      Inconvinient          acceptable   \n",
       "35601              good        manageable                poor   \n",
       "\n",
       "      Onboard_entertainment Online_support Onlinebooking_Ease Onboard_service  \\\n",
       "35597      need improvement     acceptable         acceptable            good   \n",
       "35598             excellent      excellent               good            good   \n",
       "35599                  good           poor   need improvement            poor   \n",
       "35600             excellent           good          excellent       excellent   \n",
       "35601                  good           poor               poor      acceptable   \n",
       "\n",
       "         Leg_room Baggage_handling   Checkin_service Cleanliness  \\\n",
       "35597   excellent             good        acceptable        good   \n",
       "35598        good             good        acceptable        good   \n",
       "35599  acceptable             poor              poor   excellent   \n",
       "35600   excellent        excellent        acceptable   excellent   \n",
       "35601        good             good  need improvement        good   \n",
       "\n",
       "        Online_boarding  \n",
       "35597        acceptable  \n",
       "35598              good  \n",
       "35599  need improvement  \n",
       "35600              good  \n",
       "35601              poor  "
      ]
     },
     "execution_count": 64,
     "metadata": {},
     "output_type": "execute_result"
    }
   ],
   "source": [
    "# Surveydata_test_tail\n",
    "df_Surveydata_test.tail()"
   ]
  },
  {
   "cell_type": "code",
   "execution_count": 65,
   "id": "2ca6e31e",
   "metadata": {},
   "outputs": [
    {
     "data": {
      "text/html": [
       "<div>\n",
       "<style scoped>\n",
       "    .dataframe tbody tr th:only-of-type {\n",
       "        vertical-align: middle;\n",
       "    }\n",
       "\n",
       "    .dataframe tbody tr th {\n",
       "        vertical-align: top;\n",
       "    }\n",
       "\n",
       "    .dataframe thead th {\n",
       "        text-align: right;\n",
       "    }\n",
       "</style>\n",
       "<table border=\"1\" class=\"dataframe\">\n",
       "  <thead>\n",
       "    <tr style=\"text-align: right;\">\n",
       "      <th></th>\n",
       "      <th>ID</th>\n",
       "      <th>Gender</th>\n",
       "      <th>CustomerType</th>\n",
       "      <th>Age</th>\n",
       "      <th>TypeTravel</th>\n",
       "      <th>Travel_Class</th>\n",
       "      <th>Travel_Distance</th>\n",
       "      <th>DepartureDelay_in_Mins</th>\n",
       "      <th>ArrivalDelay_in_Mins</th>\n",
       "    </tr>\n",
       "  </thead>\n",
       "  <tbody>\n",
       "    <tr>\n",
       "      <th>0</th>\n",
       "      <td>99900001</td>\n",
       "      <td>Female</td>\n",
       "      <td>NaN</td>\n",
       "      <td>36.0</td>\n",
       "      <td>Business travel</td>\n",
       "      <td>Business</td>\n",
       "      <td>532</td>\n",
       "      <td>0.0</td>\n",
       "      <td>0.0</td>\n",
       "    </tr>\n",
       "    <tr>\n",
       "      <th>1</th>\n",
       "      <td>99900002</td>\n",
       "      <td>Female</td>\n",
       "      <td>disloyal Customer</td>\n",
       "      <td>21.0</td>\n",
       "      <td>Business travel</td>\n",
       "      <td>Business</td>\n",
       "      <td>1425</td>\n",
       "      <td>9.0</td>\n",
       "      <td>28.0</td>\n",
       "    </tr>\n",
       "    <tr>\n",
       "      <th>2</th>\n",
       "      <td>99900003</td>\n",
       "      <td>Male</td>\n",
       "      <td>Loyal Customer</td>\n",
       "      <td>60.0</td>\n",
       "      <td>Business travel</td>\n",
       "      <td>Business</td>\n",
       "      <td>2832</td>\n",
       "      <td>0.0</td>\n",
       "      <td>0.0</td>\n",
       "    </tr>\n",
       "    <tr>\n",
       "      <th>3</th>\n",
       "      <td>99900004</td>\n",
       "      <td>Female</td>\n",
       "      <td>Loyal Customer</td>\n",
       "      <td>29.0</td>\n",
       "      <td>Personal Travel</td>\n",
       "      <td>Eco</td>\n",
       "      <td>1352</td>\n",
       "      <td>0.0</td>\n",
       "      <td>0.0</td>\n",
       "    </tr>\n",
       "    <tr>\n",
       "      <th>4</th>\n",
       "      <td>99900005</td>\n",
       "      <td>Male</td>\n",
       "      <td>disloyal Customer</td>\n",
       "      <td>18.0</td>\n",
       "      <td>Business travel</td>\n",
       "      <td>Business</td>\n",
       "      <td>1610</td>\n",
       "      <td>17.0</td>\n",
       "      <td>0.0</td>\n",
       "    </tr>\n",
       "  </tbody>\n",
       "</table>\n",
       "</div>"
      ],
      "text/plain": [
       "         ID  Gender       CustomerType   Age       TypeTravel Travel_Class  \\\n",
       "0  99900001  Female                NaN  36.0  Business travel     Business   \n",
       "1  99900002  Female  disloyal Customer  21.0  Business travel     Business   \n",
       "2  99900003    Male     Loyal Customer  60.0  Business travel     Business   \n",
       "3  99900004  Female     Loyal Customer  29.0  Personal Travel          Eco   \n",
       "4  99900005    Male  disloyal Customer  18.0  Business travel     Business   \n",
       "\n",
       "   Travel_Distance  DepartureDelay_in_Mins  ArrivalDelay_in_Mins  \n",
       "0              532                     0.0                   0.0  \n",
       "1             1425                     9.0                  28.0  \n",
       "2             2832                     0.0                   0.0  \n",
       "3             1352                     0.0                   0.0  \n",
       "4             1610                    17.0                   0.0  "
      ]
     },
     "execution_count": 65,
     "metadata": {},
     "output_type": "execute_result"
    }
   ],
   "source": [
    "# Travel data_test_Head\n",
    "df_Traveldata_test.head()"
   ]
  },
  {
   "cell_type": "code",
   "execution_count": 66,
   "id": "48400a0b",
   "metadata": {},
   "outputs": [
    {
     "data": {
      "text/html": [
       "<div>\n",
       "<style scoped>\n",
       "    .dataframe tbody tr th:only-of-type {\n",
       "        vertical-align: middle;\n",
       "    }\n",
       "\n",
       "    .dataframe tbody tr th {\n",
       "        vertical-align: top;\n",
       "    }\n",
       "\n",
       "    .dataframe thead th {\n",
       "        text-align: right;\n",
       "    }\n",
       "</style>\n",
       "<table border=\"1\" class=\"dataframe\">\n",
       "  <thead>\n",
       "    <tr style=\"text-align: right;\">\n",
       "      <th></th>\n",
       "      <th>ID</th>\n",
       "      <th>Gender</th>\n",
       "      <th>CustomerType</th>\n",
       "      <th>Age</th>\n",
       "      <th>TypeTravel</th>\n",
       "      <th>Travel_Class</th>\n",
       "      <th>Travel_Distance</th>\n",
       "      <th>DepartureDelay_in_Mins</th>\n",
       "      <th>ArrivalDelay_in_Mins</th>\n",
       "    </tr>\n",
       "  </thead>\n",
       "  <tbody>\n",
       "    <tr>\n",
       "      <th>35597</th>\n",
       "      <td>99935598</td>\n",
       "      <td>Male</td>\n",
       "      <td>Loyal Customer</td>\n",
       "      <td>8.0</td>\n",
       "      <td>Personal Travel</td>\n",
       "      <td>Eco</td>\n",
       "      <td>1334</td>\n",
       "      <td>0.0</td>\n",
       "      <td>0.0</td>\n",
       "    </tr>\n",
       "    <tr>\n",
       "      <th>35598</th>\n",
       "      <td>99935599</td>\n",
       "      <td>Female</td>\n",
       "      <td>Loyal Customer</td>\n",
       "      <td>53.0</td>\n",
       "      <td>Business travel</td>\n",
       "      <td>Business</td>\n",
       "      <td>1772</td>\n",
       "      <td>0.0</td>\n",
       "      <td>0.0</td>\n",
       "    </tr>\n",
       "    <tr>\n",
       "      <th>35599</th>\n",
       "      <td>99935600</td>\n",
       "      <td>Male</td>\n",
       "      <td>disloyal Customer</td>\n",
       "      <td>22.0</td>\n",
       "      <td>Business travel</td>\n",
       "      <td>Eco</td>\n",
       "      <td>1180</td>\n",
       "      <td>0.0</td>\n",
       "      <td>0.0</td>\n",
       "    </tr>\n",
       "    <tr>\n",
       "      <th>35600</th>\n",
       "      <td>99935601</td>\n",
       "      <td>Female</td>\n",
       "      <td>Loyal Customer</td>\n",
       "      <td>67.0</td>\n",
       "      <td>Personal Travel</td>\n",
       "      <td>Eco</td>\n",
       "      <td>420</td>\n",
       "      <td>23.0</td>\n",
       "      <td>16.0</td>\n",
       "    </tr>\n",
       "    <tr>\n",
       "      <th>35601</th>\n",
       "      <td>99935602</td>\n",
       "      <td>Male</td>\n",
       "      <td>NaN</td>\n",
       "      <td>20.0</td>\n",
       "      <td>Personal Travel</td>\n",
       "      <td>Eco</td>\n",
       "      <td>1680</td>\n",
       "      <td>0.0</td>\n",
       "      <td>0.0</td>\n",
       "    </tr>\n",
       "  </tbody>\n",
       "</table>\n",
       "</div>"
      ],
      "text/plain": [
       "             ID  Gender       CustomerType   Age       TypeTravel  \\\n",
       "35597  99935598    Male     Loyal Customer   8.0  Personal Travel   \n",
       "35598  99935599  Female     Loyal Customer  53.0  Business travel   \n",
       "35599  99935600    Male  disloyal Customer  22.0  Business travel   \n",
       "35600  99935601  Female     Loyal Customer  67.0  Personal Travel   \n",
       "35601  99935602    Male                NaN  20.0  Personal Travel   \n",
       "\n",
       "      Travel_Class  Travel_Distance  DepartureDelay_in_Mins  \\\n",
       "35597          Eco             1334                     0.0   \n",
       "35598     Business             1772                     0.0   \n",
       "35599          Eco             1180                     0.0   \n",
       "35600          Eco              420                    23.0   \n",
       "35601          Eco             1680                     0.0   \n",
       "\n",
       "       ArrivalDelay_in_Mins  \n",
       "35597                   0.0  \n",
       "35598                   0.0  \n",
       "35599                   0.0  \n",
       "35600                  16.0  \n",
       "35601                   0.0  "
      ]
     },
     "execution_count": 66,
     "metadata": {},
     "output_type": "execute_result"
    }
   ],
   "source": [
    "# Travel data_test_tail\n",
    "df_Traveldata_test.tail()"
   ]
  },
  {
   "cell_type": "code",
   "execution_count": 67,
   "id": "727523e5",
   "metadata": {},
   "outputs": [
    {
     "data": {
      "text/plain": [
       "(35602, 16)"
      ]
     },
     "execution_count": 67,
     "metadata": {},
     "output_type": "execute_result"
    }
   ],
   "source": [
    "# shape of surveydata test\n",
    "df_Surveydata_test.shape"
   ]
  },
  {
   "cell_type": "code",
   "execution_count": 68,
   "id": "cf0abdc9",
   "metadata": {},
   "outputs": [
    {
     "data": {
      "text/plain": [
       "(35602, 9)"
      ]
     },
     "execution_count": 68,
     "metadata": {},
     "output_type": "execute_result"
    }
   ],
   "source": [
    "# shape of traveldata test\n",
    "df_Traveldata_test.shape"
   ]
  },
  {
   "cell_type": "code",
   "execution_count": 69,
   "id": "46444c42",
   "metadata": {},
   "outputs": [],
   "source": [
    "# merge Surveydata & travel data for Train and testset\n",
    "df_test = pd.merge (df_Surveydata_test, df_Traveldata_test, on = 'ID' , how = 'outer')"
   ]
  },
  {
   "cell_type": "code",
   "execution_count": 70,
   "id": "2603bac1",
   "metadata": {},
   "outputs": [
    {
     "data": {
      "text/html": [
       "<div>\n",
       "<style scoped>\n",
       "    .dataframe tbody tr th:only-of-type {\n",
       "        vertical-align: middle;\n",
       "    }\n",
       "\n",
       "    .dataframe tbody tr th {\n",
       "        vertical-align: top;\n",
       "    }\n",
       "\n",
       "    .dataframe thead th {\n",
       "        text-align: right;\n",
       "    }\n",
       "</style>\n",
       "<table border=\"1\" class=\"dataframe\">\n",
       "  <thead>\n",
       "    <tr style=\"text-align: right;\">\n",
       "      <th></th>\n",
       "      <th>ID</th>\n",
       "      <th>Seat_comfort</th>\n",
       "      <th>Seat_Class</th>\n",
       "      <th>Arrival_time_convenient</th>\n",
       "      <th>Catering</th>\n",
       "      <th>Platform_location</th>\n",
       "      <th>Onboardwifi_service</th>\n",
       "      <th>Onboard_entertainment</th>\n",
       "      <th>Online_support</th>\n",
       "      <th>Onlinebooking_Ease</th>\n",
       "      <th>...</th>\n",
       "      <th>Cleanliness</th>\n",
       "      <th>Online_boarding</th>\n",
       "      <th>Gender</th>\n",
       "      <th>CustomerType</th>\n",
       "      <th>Age</th>\n",
       "      <th>TypeTravel</th>\n",
       "      <th>Travel_Class</th>\n",
       "      <th>Travel_Distance</th>\n",
       "      <th>DepartureDelay_in_Mins</th>\n",
       "      <th>ArrivalDelay_in_Mins</th>\n",
       "    </tr>\n",
       "  </thead>\n",
       "  <tbody>\n",
       "    <tr>\n",
       "      <th>0</th>\n",
       "      <td>99900001</td>\n",
       "      <td>acceptable</td>\n",
       "      <td>Green Car</td>\n",
       "      <td>acceptable</td>\n",
       "      <td>acceptable</td>\n",
       "      <td>manageable</td>\n",
       "      <td>need improvement</td>\n",
       "      <td>excellent</td>\n",
       "      <td>good</td>\n",
       "      <td>excellent</td>\n",
       "      <td>...</td>\n",
       "      <td>excellent</td>\n",
       "      <td>poor</td>\n",
       "      <td>Female</td>\n",
       "      <td>NaN</td>\n",
       "      <td>36.0</td>\n",
       "      <td>Business travel</td>\n",
       "      <td>Business</td>\n",
       "      <td>532</td>\n",
       "      <td>0.0</td>\n",
       "      <td>0.0</td>\n",
       "    </tr>\n",
       "    <tr>\n",
       "      <th>1</th>\n",
       "      <td>99900002</td>\n",
       "      <td>extremely poor</td>\n",
       "      <td>Ordinary</td>\n",
       "      <td>good</td>\n",
       "      <td>poor</td>\n",
       "      <td>manageable</td>\n",
       "      <td>acceptable</td>\n",
       "      <td>poor</td>\n",
       "      <td>acceptable</td>\n",
       "      <td>acceptable</td>\n",
       "      <td>...</td>\n",
       "      <td>excellent</td>\n",
       "      <td>acceptable</td>\n",
       "      <td>Female</td>\n",
       "      <td>disloyal Customer</td>\n",
       "      <td>21.0</td>\n",
       "      <td>Business travel</td>\n",
       "      <td>Business</td>\n",
       "      <td>1425</td>\n",
       "      <td>9.0</td>\n",
       "      <td>28.0</td>\n",
       "    </tr>\n",
       "    <tr>\n",
       "      <th>2</th>\n",
       "      <td>99900003</td>\n",
       "      <td>excellent</td>\n",
       "      <td>Ordinary</td>\n",
       "      <td>excellent</td>\n",
       "      <td>excellent</td>\n",
       "      <td>very convinient</td>\n",
       "      <td>excellent</td>\n",
       "      <td>excellent</td>\n",
       "      <td>excellent</td>\n",
       "      <td>need improvement</td>\n",
       "      <td>...</td>\n",
       "      <td>need improvement</td>\n",
       "      <td>excellent</td>\n",
       "      <td>Male</td>\n",
       "      <td>Loyal Customer</td>\n",
       "      <td>60.0</td>\n",
       "      <td>Business travel</td>\n",
       "      <td>Business</td>\n",
       "      <td>2832</td>\n",
       "      <td>0.0</td>\n",
       "      <td>0.0</td>\n",
       "    </tr>\n",
       "    <tr>\n",
       "      <th>3</th>\n",
       "      <td>99900004</td>\n",
       "      <td>acceptable</td>\n",
       "      <td>Green Car</td>\n",
       "      <td>excellent</td>\n",
       "      <td>acceptable</td>\n",
       "      <td>very convinient</td>\n",
       "      <td>poor</td>\n",
       "      <td>acceptable</td>\n",
       "      <td>excellent</td>\n",
       "      <td>poor</td>\n",
       "      <td>...</td>\n",
       "      <td>excellent</td>\n",
       "      <td>poor</td>\n",
       "      <td>Female</td>\n",
       "      <td>Loyal Customer</td>\n",
       "      <td>29.0</td>\n",
       "      <td>Personal Travel</td>\n",
       "      <td>Eco</td>\n",
       "      <td>1352</td>\n",
       "      <td>0.0</td>\n",
       "      <td>0.0</td>\n",
       "    </tr>\n",
       "    <tr>\n",
       "      <th>4</th>\n",
       "      <td>99900005</td>\n",
       "      <td>excellent</td>\n",
       "      <td>Ordinary</td>\n",
       "      <td>extremely poor</td>\n",
       "      <td>excellent</td>\n",
       "      <td>need improvement</td>\n",
       "      <td>excellent</td>\n",
       "      <td>excellent</td>\n",
       "      <td>excellent</td>\n",
       "      <td>excellent</td>\n",
       "      <td>...</td>\n",
       "      <td>excellent</td>\n",
       "      <td>excellent</td>\n",
       "      <td>Male</td>\n",
       "      <td>disloyal Customer</td>\n",
       "      <td>18.0</td>\n",
       "      <td>Business travel</td>\n",
       "      <td>Business</td>\n",
       "      <td>1610</td>\n",
       "      <td>17.0</td>\n",
       "      <td>0.0</td>\n",
       "    </tr>\n",
       "  </tbody>\n",
       "</table>\n",
       "<p>5 rows × 24 columns</p>\n",
       "</div>"
      ],
      "text/plain": [
       "         ID    Seat_comfort Seat_Class Arrival_time_convenient    Catering  \\\n",
       "0  99900001      acceptable  Green Car              acceptable  acceptable   \n",
       "1  99900002  extremely poor   Ordinary                    good        poor   \n",
       "2  99900003       excellent   Ordinary               excellent   excellent   \n",
       "3  99900004      acceptable  Green Car               excellent  acceptable   \n",
       "4  99900005       excellent   Ordinary          extremely poor   excellent   \n",
       "\n",
       "  Platform_location Onboardwifi_service Onboard_entertainment Online_support  \\\n",
       "0        manageable    need improvement             excellent           good   \n",
       "1        manageable          acceptable                  poor     acceptable   \n",
       "2   very convinient           excellent             excellent      excellent   \n",
       "3   very convinient                poor            acceptable      excellent   \n",
       "4  need improvement           excellent             excellent      excellent   \n",
       "\n",
       "  Onlinebooking_Ease  ...       Cleanliness Online_boarding  Gender  \\\n",
       "0          excellent  ...         excellent            poor  Female   \n",
       "1         acceptable  ...         excellent      acceptable  Female   \n",
       "2   need improvement  ...  need improvement       excellent    Male   \n",
       "3               poor  ...         excellent            poor  Female   \n",
       "4          excellent  ...         excellent       excellent    Male   \n",
       "\n",
       "        CustomerType   Age       TypeTravel Travel_Class Travel_Distance  \\\n",
       "0                NaN  36.0  Business travel     Business             532   \n",
       "1  disloyal Customer  21.0  Business travel     Business            1425   \n",
       "2     Loyal Customer  60.0  Business travel     Business            2832   \n",
       "3     Loyal Customer  29.0  Personal Travel          Eco            1352   \n",
       "4  disloyal Customer  18.0  Business travel     Business            1610   \n",
       "\n",
       "   DepartureDelay_in_Mins ArrivalDelay_in_Mins  \n",
       "0                     0.0                  0.0  \n",
       "1                     9.0                 28.0  \n",
       "2                     0.0                  0.0  \n",
       "3                     0.0                  0.0  \n",
       "4                    17.0                  0.0  \n",
       "\n",
       "[5 rows x 24 columns]"
      ]
     },
     "execution_count": 70,
     "metadata": {},
     "output_type": "execute_result"
    }
   ],
   "source": [
    "# merged testset first 5 rows\n",
    "df_test.head()"
   ]
  },
  {
   "cell_type": "code",
   "execution_count": 71,
   "id": "f24b60ad",
   "metadata": {},
   "outputs": [
    {
     "data": {
      "text/html": [
       "<div>\n",
       "<style scoped>\n",
       "    .dataframe tbody tr th:only-of-type {\n",
       "        vertical-align: middle;\n",
       "    }\n",
       "\n",
       "    .dataframe tbody tr th {\n",
       "        vertical-align: top;\n",
       "    }\n",
       "\n",
       "    .dataframe thead th {\n",
       "        text-align: right;\n",
       "    }\n",
       "</style>\n",
       "<table border=\"1\" class=\"dataframe\">\n",
       "  <thead>\n",
       "    <tr style=\"text-align: right;\">\n",
       "      <th></th>\n",
       "      <th>ID</th>\n",
       "      <th>Seat_comfort</th>\n",
       "      <th>Seat_Class</th>\n",
       "      <th>Arrival_time_convenient</th>\n",
       "      <th>Catering</th>\n",
       "      <th>Platform_location</th>\n",
       "      <th>Onboardwifi_service</th>\n",
       "      <th>Onboard_entertainment</th>\n",
       "      <th>Online_support</th>\n",
       "      <th>Onlinebooking_Ease</th>\n",
       "      <th>...</th>\n",
       "      <th>Cleanliness</th>\n",
       "      <th>Online_boarding</th>\n",
       "      <th>Gender</th>\n",
       "      <th>CustomerType</th>\n",
       "      <th>Age</th>\n",
       "      <th>TypeTravel</th>\n",
       "      <th>Travel_Class</th>\n",
       "      <th>Travel_Distance</th>\n",
       "      <th>DepartureDelay_in_Mins</th>\n",
       "      <th>ArrivalDelay_in_Mins</th>\n",
       "    </tr>\n",
       "  </thead>\n",
       "  <tbody>\n",
       "    <tr>\n",
       "      <th>35597</th>\n",
       "      <td>99935598</td>\n",
       "      <td>need improvement</td>\n",
       "      <td>Green Car</td>\n",
       "      <td>excellent</td>\n",
       "      <td>need improvement</td>\n",
       "      <td>manageable</td>\n",
       "      <td>acceptable</td>\n",
       "      <td>need improvement</td>\n",
       "      <td>acceptable</td>\n",
       "      <td>acceptable</td>\n",
       "      <td>...</td>\n",
       "      <td>good</td>\n",
       "      <td>acceptable</td>\n",
       "      <td>Male</td>\n",
       "      <td>Loyal Customer</td>\n",
       "      <td>8.0</td>\n",
       "      <td>Personal Travel</td>\n",
       "      <td>Eco</td>\n",
       "      <td>1334</td>\n",
       "      <td>0.0</td>\n",
       "      <td>0.0</td>\n",
       "    </tr>\n",
       "    <tr>\n",
       "      <th>35598</th>\n",
       "      <td>99935599</td>\n",
       "      <td>need improvement</td>\n",
       "      <td>Ordinary</td>\n",
       "      <td>need improvement</td>\n",
       "      <td>good</td>\n",
       "      <td>need improvement</td>\n",
       "      <td>acceptable</td>\n",
       "      <td>excellent</td>\n",
       "      <td>excellent</td>\n",
       "      <td>good</td>\n",
       "      <td>...</td>\n",
       "      <td>good</td>\n",
       "      <td>good</td>\n",
       "      <td>Female</td>\n",
       "      <td>Loyal Customer</td>\n",
       "      <td>53.0</td>\n",
       "      <td>Business travel</td>\n",
       "      <td>Business</td>\n",
       "      <td>1772</td>\n",
       "      <td>0.0</td>\n",
       "      <td>0.0</td>\n",
       "    </tr>\n",
       "    <tr>\n",
       "      <th>35599</th>\n",
       "      <td>99935600</td>\n",
       "      <td>good</td>\n",
       "      <td>Green Car</td>\n",
       "      <td>extremely poor</td>\n",
       "      <td>good</td>\n",
       "      <td>need improvement</td>\n",
       "      <td>need improvement</td>\n",
       "      <td>good</td>\n",
       "      <td>poor</td>\n",
       "      <td>need improvement</td>\n",
       "      <td>...</td>\n",
       "      <td>excellent</td>\n",
       "      <td>need improvement</td>\n",
       "      <td>Male</td>\n",
       "      <td>disloyal Customer</td>\n",
       "      <td>22.0</td>\n",
       "      <td>Business travel</td>\n",
       "      <td>Eco</td>\n",
       "      <td>1180</td>\n",
       "      <td>0.0</td>\n",
       "      <td>0.0</td>\n",
       "    </tr>\n",
       "    <tr>\n",
       "      <th>35600</th>\n",
       "      <td>99935601</td>\n",
       "      <td>excellent</td>\n",
       "      <td>Ordinary</td>\n",
       "      <td>excellent</td>\n",
       "      <td>excellent</td>\n",
       "      <td>Inconvinient</td>\n",
       "      <td>acceptable</td>\n",
       "      <td>excellent</td>\n",
       "      <td>good</td>\n",
       "      <td>excellent</td>\n",
       "      <td>...</td>\n",
       "      <td>excellent</td>\n",
       "      <td>good</td>\n",
       "      <td>Female</td>\n",
       "      <td>Loyal Customer</td>\n",
       "      <td>67.0</td>\n",
       "      <td>Personal Travel</td>\n",
       "      <td>Eco</td>\n",
       "      <td>420</td>\n",
       "      <td>23.0</td>\n",
       "      <td>16.0</td>\n",
       "    </tr>\n",
       "    <tr>\n",
       "      <th>35601</th>\n",
       "      <td>99935602</td>\n",
       "      <td>good</td>\n",
       "      <td>Ordinary</td>\n",
       "      <td>acceptable</td>\n",
       "      <td>good</td>\n",
       "      <td>manageable</td>\n",
       "      <td>poor</td>\n",
       "      <td>good</td>\n",
       "      <td>poor</td>\n",
       "      <td>poor</td>\n",
       "      <td>...</td>\n",
       "      <td>good</td>\n",
       "      <td>poor</td>\n",
       "      <td>Male</td>\n",
       "      <td>NaN</td>\n",
       "      <td>20.0</td>\n",
       "      <td>Personal Travel</td>\n",
       "      <td>Eco</td>\n",
       "      <td>1680</td>\n",
       "      <td>0.0</td>\n",
       "      <td>0.0</td>\n",
       "    </tr>\n",
       "  </tbody>\n",
       "</table>\n",
       "<p>5 rows × 24 columns</p>\n",
       "</div>"
      ],
      "text/plain": [
       "             ID      Seat_comfort Seat_Class Arrival_time_convenient  \\\n",
       "35597  99935598  need improvement  Green Car               excellent   \n",
       "35598  99935599  need improvement   Ordinary        need improvement   \n",
       "35599  99935600              good  Green Car          extremely poor   \n",
       "35600  99935601         excellent   Ordinary               excellent   \n",
       "35601  99935602              good   Ordinary              acceptable   \n",
       "\n",
       "               Catering Platform_location Onboardwifi_service  \\\n",
       "35597  need improvement        manageable          acceptable   \n",
       "35598              good  need improvement          acceptable   \n",
       "35599              good  need improvement    need improvement   \n",
       "35600         excellent      Inconvinient          acceptable   \n",
       "35601              good        manageable                poor   \n",
       "\n",
       "      Onboard_entertainment Online_support Onlinebooking_Ease  ...  \\\n",
       "35597      need improvement     acceptable         acceptable  ...   \n",
       "35598             excellent      excellent               good  ...   \n",
       "35599                  good           poor   need improvement  ...   \n",
       "35600             excellent           good          excellent  ...   \n",
       "35601                  good           poor               poor  ...   \n",
       "\n",
       "      Cleanliness   Online_boarding  Gender       CustomerType   Age  \\\n",
       "35597        good        acceptable    Male     Loyal Customer   8.0   \n",
       "35598        good              good  Female     Loyal Customer  53.0   \n",
       "35599   excellent  need improvement    Male  disloyal Customer  22.0   \n",
       "35600   excellent              good  Female     Loyal Customer  67.0   \n",
       "35601        good              poor    Male                NaN  20.0   \n",
       "\n",
       "            TypeTravel Travel_Class Travel_Distance  DepartureDelay_in_Mins  \\\n",
       "35597  Personal Travel          Eco            1334                     0.0   \n",
       "35598  Business travel     Business            1772                     0.0   \n",
       "35599  Business travel          Eco            1180                     0.0   \n",
       "35600  Personal Travel          Eco             420                    23.0   \n",
       "35601  Personal Travel          Eco            1680                     0.0   \n",
       "\n",
       "      ArrivalDelay_in_Mins  \n",
       "35597                  0.0  \n",
       "35598                  0.0  \n",
       "35599                  0.0  \n",
       "35600                 16.0  \n",
       "35601                  0.0  \n",
       "\n",
       "[5 rows x 24 columns]"
      ]
     },
     "execution_count": 71,
     "metadata": {},
     "output_type": "execute_result"
    }
   ],
   "source": [
    "# merged testset last 5 rows\n",
    "df_test.tail()"
   ]
  },
  {
   "cell_type": "code",
   "execution_count": 72,
   "id": "7426bb08",
   "metadata": {},
   "outputs": [
    {
     "data": {
      "text/plain": [
       "(35602, 24)"
      ]
     },
     "execution_count": 72,
     "metadata": {},
     "output_type": "execute_result"
    }
   ],
   "source": [
    "#shape of merged test dataset\n",
    "df_test.shape"
   ]
  },
  {
   "cell_type": "code",
   "execution_count": 73,
   "id": "3f54b67b",
   "metadata": {},
   "outputs": [
    {
     "name": "stdout",
     "output_type": "stream",
     "text": [
      "<class 'pandas.core.frame.DataFrame'>\n",
      "Int64Index: 35602 entries, 0 to 35601\n",
      "Data columns (total 24 columns):\n",
      " #   Column                   Non-Null Count  Dtype  \n",
      "---  ------                   --------------  -----  \n",
      " 0   ID                       35602 non-null  int64  \n",
      " 1   Seat_comfort             35580 non-null  object \n",
      " 2   Seat_Class               35602 non-null  object \n",
      " 3   Arrival_time_convenient  32277 non-null  object \n",
      " 4   Catering                 32245 non-null  object \n",
      " 5   Platform_location        35590 non-null  object \n",
      " 6   Onboardwifi_service      35590 non-null  object \n",
      " 7   Onboard_entertainment    35594 non-null  object \n",
      " 8   Online_support           35576 non-null  object \n",
      " 9   Onlinebooking_Ease       35584 non-null  object \n",
      " 10  Onboard_service          32730 non-null  object \n",
      " 11  Leg_room                 35577 non-null  object \n",
      " 12  Baggage_handling         35562 non-null  object \n",
      " 13  Checkin_service          35580 non-null  object \n",
      " 14  Cleanliness              35600 non-null  object \n",
      " 15  Online_boarding          35600 non-null  object \n",
      " 16  Gender                   35572 non-null  object \n",
      " 17  CustomerType             32219 non-null  object \n",
      " 18  Age                      35591 non-null  float64\n",
      " 19  TypeTravel               32154 non-null  object \n",
      " 20  Travel_Class             35602 non-null  object \n",
      " 21  Travel_Distance          35602 non-null  int64  \n",
      " 22  DepartureDelay_in_Mins   35573 non-null  float64\n",
      " 23  ArrivalDelay_in_Mins     35479 non-null  float64\n",
      "dtypes: float64(3), int64(2), object(19)\n",
      "memory usage: 6.8+ MB\n"
     ]
    }
   ],
   "source": [
    "#info of merged test dataset\n",
    "df_test.info()"
   ]
  },
  {
   "cell_type": "code",
   "execution_count": 74,
   "id": "876ab228",
   "metadata": {},
   "outputs": [
    {
     "data": {
      "text/html": [
       "<div>\n",
       "<style scoped>\n",
       "    .dataframe tbody tr th:only-of-type {\n",
       "        vertical-align: middle;\n",
       "    }\n",
       "\n",
       "    .dataframe tbody tr th {\n",
       "        vertical-align: top;\n",
       "    }\n",
       "\n",
       "    .dataframe thead th {\n",
       "        text-align: right;\n",
       "    }\n",
       "</style>\n",
       "<table border=\"1\" class=\"dataframe\">\n",
       "  <thead>\n",
       "    <tr style=\"text-align: right;\">\n",
       "      <th></th>\n",
       "      <th>count</th>\n",
       "      <th>mean</th>\n",
       "      <th>std</th>\n",
       "      <th>min</th>\n",
       "      <th>25%</th>\n",
       "      <th>50%</th>\n",
       "      <th>75%</th>\n",
       "      <th>max</th>\n",
       "    </tr>\n",
       "  </thead>\n",
       "  <tbody>\n",
       "    <tr>\n",
       "      <th>ID</th>\n",
       "      <td>35602.0</td>\n",
       "      <td>9.991780e+07</td>\n",
       "      <td>10277.556478</td>\n",
       "      <td>99900001.0</td>\n",
       "      <td>99908901.25</td>\n",
       "      <td>99917801.5</td>\n",
       "      <td>99926701.75</td>\n",
       "      <td>99935602.0</td>\n",
       "    </tr>\n",
       "    <tr>\n",
       "      <th>Age</th>\n",
       "      <td>35591.0</td>\n",
       "      <td>3.944700e+01</td>\n",
       "      <td>15.137554</td>\n",
       "      <td>7.0</td>\n",
       "      <td>27.00</td>\n",
       "      <td>40.0</td>\n",
       "      <td>51.00</td>\n",
       "      <td>85.0</td>\n",
       "    </tr>\n",
       "    <tr>\n",
       "      <th>Travel_Distance</th>\n",
       "      <td>35602.0</td>\n",
       "      <td>1.987152e+03</td>\n",
       "      <td>1024.308863</td>\n",
       "      <td>50.0</td>\n",
       "      <td>1360.00</td>\n",
       "      <td>1929.0</td>\n",
       "      <td>2559.00</td>\n",
       "      <td>6868.0</td>\n",
       "    </tr>\n",
       "    <tr>\n",
       "      <th>DepartureDelay_in_Mins</th>\n",
       "      <td>35573.0</td>\n",
       "      <td>1.488070e+01</td>\n",
       "      <td>37.895453</td>\n",
       "      <td>0.0</td>\n",
       "      <td>0.00</td>\n",
       "      <td>0.0</td>\n",
       "      <td>13.00</td>\n",
       "      <td>978.0</td>\n",
       "    </tr>\n",
       "    <tr>\n",
       "      <th>ArrivalDelay_in_Mins</th>\n",
       "      <td>35479.0</td>\n",
       "      <td>1.530880e+01</td>\n",
       "      <td>38.531293</td>\n",
       "      <td>0.0</td>\n",
       "      <td>0.00</td>\n",
       "      <td>0.0</td>\n",
       "      <td>13.00</td>\n",
       "      <td>970.0</td>\n",
       "    </tr>\n",
       "  </tbody>\n",
       "</table>\n",
       "</div>"
      ],
      "text/plain": [
       "                          count          mean           std         min  \\\n",
       "ID                      35602.0  9.991780e+07  10277.556478  99900001.0   \n",
       "Age                     35591.0  3.944700e+01     15.137554         7.0   \n",
       "Travel_Distance         35602.0  1.987152e+03   1024.308863        50.0   \n",
       "DepartureDelay_in_Mins  35573.0  1.488070e+01     37.895453         0.0   \n",
       "ArrivalDelay_in_Mins    35479.0  1.530880e+01     38.531293         0.0   \n",
       "\n",
       "                                25%         50%          75%         max  \n",
       "ID                      99908901.25  99917801.5  99926701.75  99935602.0  \n",
       "Age                           27.00        40.0        51.00        85.0  \n",
       "Travel_Distance             1360.00      1929.0      2559.00      6868.0  \n",
       "DepartureDelay_in_Mins         0.00         0.0        13.00       978.0  \n",
       "ArrivalDelay_in_Mins           0.00         0.0        13.00       970.0  "
      ]
     },
     "execution_count": 74,
     "metadata": {},
     "output_type": "execute_result"
    }
   ],
   "source": [
    "#five point summary of numerical features of merged test dataset\n",
    "df_test.describe().T"
   ]
  },
  {
   "cell_type": "code",
   "execution_count": 75,
   "id": "a552c293",
   "metadata": {},
   "outputs": [
    {
     "data": {
      "text/html": [
       "<div>\n",
       "<style scoped>\n",
       "    .dataframe tbody tr th:only-of-type {\n",
       "        vertical-align: middle;\n",
       "    }\n",
       "\n",
       "    .dataframe tbody tr th {\n",
       "        vertical-align: top;\n",
       "    }\n",
       "\n",
       "    .dataframe thead th {\n",
       "        text-align: right;\n",
       "    }\n",
       "</style>\n",
       "<table border=\"1\" class=\"dataframe\">\n",
       "  <thead>\n",
       "    <tr style=\"text-align: right;\">\n",
       "      <th></th>\n",
       "      <th>count</th>\n",
       "      <th>unique</th>\n",
       "      <th>top</th>\n",
       "      <th>freq</th>\n",
       "    </tr>\n",
       "  </thead>\n",
       "  <tbody>\n",
       "    <tr>\n",
       "      <th>Seat_comfort</th>\n",
       "      <td>35580</td>\n",
       "      <td>6</td>\n",
       "      <td>acceptable</td>\n",
       "      <td>8003</td>\n",
       "    </tr>\n",
       "    <tr>\n",
       "      <th>Seat_Class</th>\n",
       "      <td>35602</td>\n",
       "      <td>2</td>\n",
       "      <td>Ordinary</td>\n",
       "      <td>17860</td>\n",
       "    </tr>\n",
       "    <tr>\n",
       "      <th>Arrival_time_convenient</th>\n",
       "      <td>32277</td>\n",
       "      <td>6</td>\n",
       "      <td>good</td>\n",
       "      <td>7361</td>\n",
       "    </tr>\n",
       "    <tr>\n",
       "      <th>Catering</th>\n",
       "      <td>32245</td>\n",
       "      <td>6</td>\n",
       "      <td>acceptable</td>\n",
       "      <td>7133</td>\n",
       "    </tr>\n",
       "    <tr>\n",
       "      <th>Platform_location</th>\n",
       "      <td>35590</td>\n",
       "      <td>5</td>\n",
       "      <td>manageable</td>\n",
       "      <td>9364</td>\n",
       "    </tr>\n",
       "    <tr>\n",
       "      <th>Onboardwifi_service</th>\n",
       "      <td>35590</td>\n",
       "      <td>6</td>\n",
       "      <td>good</td>\n",
       "      <td>8743</td>\n",
       "    </tr>\n",
       "    <tr>\n",
       "      <th>Onboard_entertainment</th>\n",
       "      <td>35594</td>\n",
       "      <td>6</td>\n",
       "      <td>good</td>\n",
       "      <td>11436</td>\n",
       "    </tr>\n",
       "    <tr>\n",
       "      <th>Online_support</th>\n",
       "      <td>35576</td>\n",
       "      <td>5</td>\n",
       "      <td>good</td>\n",
       "      <td>11487</td>\n",
       "    </tr>\n",
       "    <tr>\n",
       "      <th>Onlinebooking_Ease</th>\n",
       "      <td>35584</td>\n",
       "      <td>6</td>\n",
       "      <td>good</td>\n",
       "      <td>11025</td>\n",
       "    </tr>\n",
       "    <tr>\n",
       "      <th>Onboard_service</th>\n",
       "      <td>32730</td>\n",
       "      <td>5</td>\n",
       "      <td>good</td>\n",
       "      <td>10222</td>\n",
       "    </tr>\n",
       "    <tr>\n",
       "      <th>Leg_room</th>\n",
       "      <td>35577</td>\n",
       "      <td>6</td>\n",
       "      <td>good</td>\n",
       "      <td>10842</td>\n",
       "    </tr>\n",
       "    <tr>\n",
       "      <th>Baggage_handling</th>\n",
       "      <td>35562</td>\n",
       "      <td>5</td>\n",
       "      <td>good</td>\n",
       "      <td>13291</td>\n",
       "    </tr>\n",
       "    <tr>\n",
       "      <th>Checkin_service</th>\n",
       "      <td>35580</td>\n",
       "      <td>5</td>\n",
       "      <td>good</td>\n",
       "      <td>9982</td>\n",
       "    </tr>\n",
       "    <tr>\n",
       "      <th>Cleanliness</th>\n",
       "      <td>35600</td>\n",
       "      <td>5</td>\n",
       "      <td>good</td>\n",
       "      <td>13421</td>\n",
       "    </tr>\n",
       "    <tr>\n",
       "      <th>Online_boarding</th>\n",
       "      <td>35600</td>\n",
       "      <td>6</td>\n",
       "      <td>good</td>\n",
       "      <td>9680</td>\n",
       "    </tr>\n",
       "    <tr>\n",
       "      <th>Gender</th>\n",
       "      <td>35572</td>\n",
       "      <td>2</td>\n",
       "      <td>Female</td>\n",
       "      <td>18069</td>\n",
       "    </tr>\n",
       "    <tr>\n",
       "      <th>CustomerType</th>\n",
       "      <td>32219</td>\n",
       "      <td>2</td>\n",
       "      <td>Loyal Customer</td>\n",
       "      <td>26349</td>\n",
       "    </tr>\n",
       "    <tr>\n",
       "      <th>TypeTravel</th>\n",
       "      <td>32154</td>\n",
       "      <td>2</td>\n",
       "      <td>Business travel</td>\n",
       "      <td>22313</td>\n",
       "    </tr>\n",
       "    <tr>\n",
       "      <th>Travel_Class</th>\n",
       "      <td>35602</td>\n",
       "      <td>2</td>\n",
       "      <td>Eco</td>\n",
       "      <td>18473</td>\n",
       "    </tr>\n",
       "  </tbody>\n",
       "</table>\n",
       "</div>"
      ],
      "text/plain": [
       "                         count unique              top   freq\n",
       "Seat_comfort             35580      6       acceptable   8003\n",
       "Seat_Class               35602      2         Ordinary  17860\n",
       "Arrival_time_convenient  32277      6             good   7361\n",
       "Catering                 32245      6       acceptable   7133\n",
       "Platform_location        35590      5       manageable   9364\n",
       "Onboardwifi_service      35590      6             good   8743\n",
       "Onboard_entertainment    35594      6             good  11436\n",
       "Online_support           35576      5             good  11487\n",
       "Onlinebooking_Ease       35584      6             good  11025\n",
       "Onboard_service          32730      5             good  10222\n",
       "Leg_room                 35577      6             good  10842\n",
       "Baggage_handling         35562      5             good  13291\n",
       "Checkin_service          35580      5             good   9982\n",
       "Cleanliness              35600      5             good  13421\n",
       "Online_boarding          35600      6             good   9680\n",
       "Gender                   35572      2           Female  18069\n",
       "CustomerType             32219      2   Loyal Customer  26349\n",
       "TypeTravel               32154      2  Business travel  22313\n",
       "Travel_Class             35602      2              Eco  18473"
      ]
     },
     "execution_count": 75,
     "metadata": {},
     "output_type": "execute_result"
    }
   ],
   "source": [
    "#five point summary of Categorical features of merged test dataset\n",
    "df_test.describe(include = ['object']).T"
   ]
  },
  {
   "cell_type": "markdown",
   "id": "c30d2d59",
   "metadata": {},
   "source": [
    "## Checking for duplicate records in the Test dataset"
   ]
  },
  {
   "cell_type": "code",
   "execution_count": 76,
   "id": "bf0118cb",
   "metadata": {},
   "outputs": [
    {
     "name": "stdout",
     "output_type": "stream",
     "text": [
      "Number of duplicate row = 0\n"
     ]
    }
   ],
   "source": [
    "#check for duplicate\n",
    "dups = df_test.duplicated()\n",
    "print('Number of duplicate row = %d' %(dups.sum()))"
   ]
  },
  {
   "cell_type": "code",
   "execution_count": 77,
   "id": "e3228ac1",
   "metadata": {},
   "outputs": [],
   "source": [
    "df_test_num = df_test.select_dtypes(['float64','int64'])\n",
    "df_test_cat = df_test.select_dtypes(['object'])"
   ]
  },
  {
   "cell_type": "code",
   "execution_count": 78,
   "id": "9fcc164b",
   "metadata": {},
   "outputs": [
    {
     "data": {
      "text/plain": [
       "ID                          0\n",
       "Age                        11\n",
       "Travel_Distance             0\n",
       "DepartureDelay_in_Mins     29\n",
       "ArrivalDelay_in_Mins      123\n",
       "dtype: int64"
      ]
     },
     "execution_count": 78,
     "metadata": {},
     "output_type": "execute_result"
    }
   ],
   "source": [
    "df_test_num.isnull().sum()"
   ]
  },
  {
   "cell_type": "code",
   "execution_count": 79,
   "id": "13d4c6eb",
   "metadata": {},
   "outputs": [],
   "source": [
    "imputer = SimpleImputer(missing_values= np.nan, strategy='median')\n",
    "imr = imputer.fit(df_test_num)\n",
    "df_test_num = pd.DataFrame(imr.transform(df_test_num), columns=df_test_num.columns)"
   ]
  },
  {
   "cell_type": "code",
   "execution_count": 80,
   "id": "e6c99ee3",
   "metadata": {},
   "outputs": [
    {
     "data": {
      "text/plain": [
       "ID                        0\n",
       "Age                       0\n",
       "Travel_Distance           0\n",
       "DepartureDelay_in_Mins    0\n",
       "ArrivalDelay_in_Mins      0\n",
       "dtype: int64"
      ]
     },
     "execution_count": 80,
     "metadata": {},
     "output_type": "execute_result"
    }
   ],
   "source": [
    "df_test_num.isnull().sum()"
   ]
  },
  {
   "cell_type": "code",
   "execution_count": 81,
   "id": "294803fe",
   "metadata": {},
   "outputs": [
    {
     "data": {
      "text/plain": [
       "Seat_comfort                 22\n",
       "Seat_Class                    0\n",
       "Arrival_time_convenient    3325\n",
       "Catering                   3357\n",
       "Platform_location            12\n",
       "Onboardwifi_service          12\n",
       "Onboard_entertainment         8\n",
       "Online_support               26\n",
       "Onlinebooking_Ease           18\n",
       "Onboard_service            2872\n",
       "Leg_room                     25\n",
       "Baggage_handling             40\n",
       "Checkin_service              22\n",
       "Cleanliness                   2\n",
       "Online_boarding               2\n",
       "Gender                       30\n",
       "CustomerType               3383\n",
       "TypeTravel                 3448\n",
       "Travel_Class                  0\n",
       "dtype: int64"
      ]
     },
     "execution_count": 81,
     "metadata": {},
     "output_type": "execute_result"
    }
   ],
   "source": [
    "df_test_cat.isnull().sum()"
   ]
  },
  {
   "cell_type": "code",
   "execution_count": 82,
   "id": "acea8e99",
   "metadata": {},
   "outputs": [],
   "source": [
    "df_test_cat = df_test_cat.apply(lambda x: x.fillna(x.value_counts().index[0]))"
   ]
  },
  {
   "cell_type": "code",
   "execution_count": 83,
   "id": "15c42684",
   "metadata": {},
   "outputs": [
    {
     "data": {
      "text/plain": [
       "Seat_comfort               0\n",
       "Seat_Class                 0\n",
       "Arrival_time_convenient    0\n",
       "Catering                   0\n",
       "Platform_location          0\n",
       "Onboardwifi_service        0\n",
       "Onboard_entertainment      0\n",
       "Online_support             0\n",
       "Onlinebooking_Ease         0\n",
       "Onboard_service            0\n",
       "Leg_room                   0\n",
       "Baggage_handling           0\n",
       "Checkin_service            0\n",
       "Cleanliness                0\n",
       "Online_boarding            0\n",
       "Gender                     0\n",
       "CustomerType               0\n",
       "TypeTravel                 0\n",
       "Travel_Class               0\n",
       "dtype: int64"
      ]
     },
     "execution_count": 83,
     "metadata": {},
     "output_type": "execute_result"
    }
   ],
   "source": [
    "df_test_cat.isnull().sum()"
   ]
  },
  {
   "cell_type": "code",
   "execution_count": 84,
   "id": "25c872ae",
   "metadata": {},
   "outputs": [
    {
     "data": {
      "text/html": [
       "<div>\n",
       "<style scoped>\n",
       "    .dataframe tbody tr th:only-of-type {\n",
       "        vertical-align: middle;\n",
       "    }\n",
       "\n",
       "    .dataframe tbody tr th {\n",
       "        vertical-align: top;\n",
       "    }\n",
       "\n",
       "    .dataframe thead th {\n",
       "        text-align: right;\n",
       "    }\n",
       "</style>\n",
       "<table border=\"1\" class=\"dataframe\">\n",
       "  <thead>\n",
       "    <tr style=\"text-align: right;\">\n",
       "      <th></th>\n",
       "      <th>Seat_comfort</th>\n",
       "      <th>Seat_Class</th>\n",
       "      <th>Arrival_time_convenient</th>\n",
       "      <th>Catering</th>\n",
       "      <th>Platform_location</th>\n",
       "      <th>Onboardwifi_service</th>\n",
       "      <th>Onboard_entertainment</th>\n",
       "      <th>Online_support</th>\n",
       "      <th>Onlinebooking_Ease</th>\n",
       "      <th>Onboard_service</th>\n",
       "      <th>Leg_room</th>\n",
       "      <th>Baggage_handling</th>\n",
       "      <th>Checkin_service</th>\n",
       "      <th>Cleanliness</th>\n",
       "      <th>Online_boarding</th>\n",
       "      <th>Gender</th>\n",
       "      <th>CustomerType</th>\n",
       "      <th>TypeTravel</th>\n",
       "      <th>Travel_Class</th>\n",
       "    </tr>\n",
       "  </thead>\n",
       "  <tbody>\n",
       "    <tr>\n",
       "      <th>0</th>\n",
       "      <td>acceptable</td>\n",
       "      <td>Green Car</td>\n",
       "      <td>acceptable</td>\n",
       "      <td>acceptable</td>\n",
       "      <td>manageable</td>\n",
       "      <td>need improvement</td>\n",
       "      <td>excellent</td>\n",
       "      <td>good</td>\n",
       "      <td>excellent</td>\n",
       "      <td>excellent</td>\n",
       "      <td>excellent</td>\n",
       "      <td>excellent</td>\n",
       "      <td>good</td>\n",
       "      <td>excellent</td>\n",
       "      <td>poor</td>\n",
       "      <td>Female</td>\n",
       "      <td>Loyal Customer</td>\n",
       "      <td>Business travel</td>\n",
       "      <td>Business</td>\n",
       "    </tr>\n",
       "    <tr>\n",
       "      <th>1</th>\n",
       "      <td>extremely poor</td>\n",
       "      <td>Ordinary</td>\n",
       "      <td>good</td>\n",
       "      <td>poor</td>\n",
       "      <td>manageable</td>\n",
       "      <td>acceptable</td>\n",
       "      <td>poor</td>\n",
       "      <td>acceptable</td>\n",
       "      <td>acceptable</td>\n",
       "      <td>excellent</td>\n",
       "      <td>acceptable</td>\n",
       "      <td>good</td>\n",
       "      <td>acceptable</td>\n",
       "      <td>excellent</td>\n",
       "      <td>acceptable</td>\n",
       "      <td>Female</td>\n",
       "      <td>disloyal Customer</td>\n",
       "      <td>Business travel</td>\n",
       "      <td>Business</td>\n",
       "    </tr>\n",
       "    <tr>\n",
       "      <th>2</th>\n",
       "      <td>excellent</td>\n",
       "      <td>Ordinary</td>\n",
       "      <td>excellent</td>\n",
       "      <td>excellent</td>\n",
       "      <td>very convinient</td>\n",
       "      <td>excellent</td>\n",
       "      <td>excellent</td>\n",
       "      <td>excellent</td>\n",
       "      <td>need improvement</td>\n",
       "      <td>need improvement</td>\n",
       "      <td>need improvement</td>\n",
       "      <td>need improvement</td>\n",
       "      <td>good</td>\n",
       "      <td>need improvement</td>\n",
       "      <td>excellent</td>\n",
       "      <td>Male</td>\n",
       "      <td>Loyal Customer</td>\n",
       "      <td>Business travel</td>\n",
       "      <td>Business</td>\n",
       "    </tr>\n",
       "    <tr>\n",
       "      <th>3</th>\n",
       "      <td>acceptable</td>\n",
       "      <td>Green Car</td>\n",
       "      <td>excellent</td>\n",
       "      <td>acceptable</td>\n",
       "      <td>very convinient</td>\n",
       "      <td>poor</td>\n",
       "      <td>acceptable</td>\n",
       "      <td>excellent</td>\n",
       "      <td>poor</td>\n",
       "      <td>acceptable</td>\n",
       "      <td>need improvement</td>\n",
       "      <td>excellent</td>\n",
       "      <td>excellent</td>\n",
       "      <td>excellent</td>\n",
       "      <td>poor</td>\n",
       "      <td>Female</td>\n",
       "      <td>Loyal Customer</td>\n",
       "      <td>Personal Travel</td>\n",
       "      <td>Eco</td>\n",
       "    </tr>\n",
       "    <tr>\n",
       "      <th>4</th>\n",
       "      <td>excellent</td>\n",
       "      <td>Ordinary</td>\n",
       "      <td>extremely poor</td>\n",
       "      <td>excellent</td>\n",
       "      <td>need improvement</td>\n",
       "      <td>excellent</td>\n",
       "      <td>excellent</td>\n",
       "      <td>excellent</td>\n",
       "      <td>excellent</td>\n",
       "      <td>good</td>\n",
       "      <td>acceptable</td>\n",
       "      <td>excellent</td>\n",
       "      <td>excellent</td>\n",
       "      <td>excellent</td>\n",
       "      <td>excellent</td>\n",
       "      <td>Male</td>\n",
       "      <td>disloyal Customer</td>\n",
       "      <td>Business travel</td>\n",
       "      <td>Business</td>\n",
       "    </tr>\n",
       "  </tbody>\n",
       "</table>\n",
       "</div>"
      ],
      "text/plain": [
       "     Seat_comfort Seat_Class Arrival_time_convenient    Catering  \\\n",
       "0      acceptable  Green Car              acceptable  acceptable   \n",
       "1  extremely poor   Ordinary                    good        poor   \n",
       "2       excellent   Ordinary               excellent   excellent   \n",
       "3      acceptable  Green Car               excellent  acceptable   \n",
       "4       excellent   Ordinary          extremely poor   excellent   \n",
       "\n",
       "  Platform_location Onboardwifi_service Onboard_entertainment Online_support  \\\n",
       "0        manageable    need improvement             excellent           good   \n",
       "1        manageable          acceptable                  poor     acceptable   \n",
       "2   very convinient           excellent             excellent      excellent   \n",
       "3   very convinient                poor            acceptable      excellent   \n",
       "4  need improvement           excellent             excellent      excellent   \n",
       "\n",
       "  Onlinebooking_Ease   Onboard_service          Leg_room  Baggage_handling  \\\n",
       "0          excellent         excellent         excellent         excellent   \n",
       "1         acceptable         excellent        acceptable              good   \n",
       "2   need improvement  need improvement  need improvement  need improvement   \n",
       "3               poor        acceptable  need improvement         excellent   \n",
       "4          excellent              good        acceptable         excellent   \n",
       "\n",
       "  Checkin_service       Cleanliness Online_boarding  Gender  \\\n",
       "0            good         excellent            poor  Female   \n",
       "1      acceptable         excellent      acceptable  Female   \n",
       "2            good  need improvement       excellent    Male   \n",
       "3       excellent         excellent            poor  Female   \n",
       "4       excellent         excellent       excellent    Male   \n",
       "\n",
       "        CustomerType       TypeTravel Travel_Class  \n",
       "0     Loyal Customer  Business travel     Business  \n",
       "1  disloyal Customer  Business travel     Business  \n",
       "2     Loyal Customer  Business travel     Business  \n",
       "3     Loyal Customer  Personal Travel          Eco  \n",
       "4  disloyal Customer  Business travel     Business  "
      ]
     },
     "execution_count": 84,
     "metadata": {},
     "output_type": "execute_result"
    }
   ],
   "source": [
    "df_test_cat.head()"
   ]
  },
  {
   "cell_type": "code",
   "execution_count": 85,
   "id": "5ee56c84",
   "metadata": {},
   "outputs": [
    {
     "data": {
      "text/html": [
       "<div>\n",
       "<style scoped>\n",
       "    .dataframe tbody tr th:only-of-type {\n",
       "        vertical-align: middle;\n",
       "    }\n",
       "\n",
       "    .dataframe tbody tr th {\n",
       "        vertical-align: top;\n",
       "    }\n",
       "\n",
       "    .dataframe thead th {\n",
       "        text-align: right;\n",
       "    }\n",
       "</style>\n",
       "<table border=\"1\" class=\"dataframe\">\n",
       "  <thead>\n",
       "    <tr style=\"text-align: right;\">\n",
       "      <th></th>\n",
       "      <th>ID</th>\n",
       "      <th>Age</th>\n",
       "      <th>Travel_Distance</th>\n",
       "      <th>DepartureDelay_in_Mins</th>\n",
       "      <th>ArrivalDelay_in_Mins</th>\n",
       "    </tr>\n",
       "  </thead>\n",
       "  <tbody>\n",
       "    <tr>\n",
       "      <th>0</th>\n",
       "      <td>99900001.0</td>\n",
       "      <td>36.0</td>\n",
       "      <td>532.0</td>\n",
       "      <td>0.0</td>\n",
       "      <td>0.0</td>\n",
       "    </tr>\n",
       "    <tr>\n",
       "      <th>1</th>\n",
       "      <td>99900002.0</td>\n",
       "      <td>21.0</td>\n",
       "      <td>1425.0</td>\n",
       "      <td>9.0</td>\n",
       "      <td>28.0</td>\n",
       "    </tr>\n",
       "    <tr>\n",
       "      <th>2</th>\n",
       "      <td>99900003.0</td>\n",
       "      <td>60.0</td>\n",
       "      <td>2832.0</td>\n",
       "      <td>0.0</td>\n",
       "      <td>0.0</td>\n",
       "    </tr>\n",
       "    <tr>\n",
       "      <th>3</th>\n",
       "      <td>99900004.0</td>\n",
       "      <td>29.0</td>\n",
       "      <td>1352.0</td>\n",
       "      <td>0.0</td>\n",
       "      <td>0.0</td>\n",
       "    </tr>\n",
       "    <tr>\n",
       "      <th>4</th>\n",
       "      <td>99900005.0</td>\n",
       "      <td>18.0</td>\n",
       "      <td>1610.0</td>\n",
       "      <td>17.0</td>\n",
       "      <td>0.0</td>\n",
       "    </tr>\n",
       "  </tbody>\n",
       "</table>\n",
       "</div>"
      ],
      "text/plain": [
       "           ID   Age  Travel_Distance  DepartureDelay_in_Mins  \\\n",
       "0  99900001.0  36.0            532.0                     0.0   \n",
       "1  99900002.0  21.0           1425.0                     9.0   \n",
       "2  99900003.0  60.0           2832.0                     0.0   \n",
       "3  99900004.0  29.0           1352.0                     0.0   \n",
       "4  99900005.0  18.0           1610.0                    17.0   \n",
       "\n",
       "   ArrivalDelay_in_Mins  \n",
       "0                   0.0  \n",
       "1                  28.0  \n",
       "2                   0.0  \n",
       "3                   0.0  \n",
       "4                   0.0  "
      ]
     },
     "execution_count": 85,
     "metadata": {},
     "output_type": "execute_result"
    }
   ],
   "source": [
    "df_test_num.head()"
   ]
  },
  {
   "cell_type": "code",
   "execution_count": 86,
   "id": "53987cea",
   "metadata": {},
   "outputs": [],
   "source": [
    "df_test_num_scaled=df_test_num[['Age','Travel_Distance','DepartureDelay_in_Mins','ArrivalDelay_in_Mins']].apply(zscore)"
   ]
  },
  {
   "cell_type": "code",
   "execution_count": 87,
   "id": "66bab79a",
   "metadata": {},
   "outputs": [
    {
     "data": {
      "text/html": [
       "<div>\n",
       "<style scoped>\n",
       "    .dataframe tbody tr th:only-of-type {\n",
       "        vertical-align: middle;\n",
       "    }\n",
       "\n",
       "    .dataframe tbody tr th {\n",
       "        vertical-align: top;\n",
       "    }\n",
       "\n",
       "    .dataframe thead th {\n",
       "        text-align: right;\n",
       "    }\n",
       "</style>\n",
       "<table border=\"1\" class=\"dataframe\">\n",
       "  <thead>\n",
       "    <tr style=\"text-align: right;\">\n",
       "      <th></th>\n",
       "      <th>Age</th>\n",
       "      <th>Travel_Distance</th>\n",
       "      <th>DepartureDelay_in_Mins</th>\n",
       "      <th>ArrivalDelay_in_Mins</th>\n",
       "    </tr>\n",
       "  </thead>\n",
       "  <tbody>\n",
       "    <tr>\n",
       "      <th>0</th>\n",
       "      <td>-0.227761</td>\n",
       "      <td>-1.420638</td>\n",
       "      <td>-0.392499</td>\n",
       "      <td>-0.396519</td>\n",
       "    </tr>\n",
       "    <tr>\n",
       "      <th>1</th>\n",
       "      <td>-1.218841</td>\n",
       "      <td>-0.548819</td>\n",
       "      <td>-0.154918</td>\n",
       "      <td>0.331234</td>\n",
       "    </tr>\n",
       "    <tr>\n",
       "      <th>2</th>\n",
       "      <td>1.357967</td>\n",
       "      <td>0.824810</td>\n",
       "      <td>-0.392499</td>\n",
       "      <td>-0.396519</td>\n",
       "    </tr>\n",
       "    <tr>\n",
       "      <th>3</th>\n",
       "      <td>-0.690265</td>\n",
       "      <td>-0.620087</td>\n",
       "      <td>-0.392499</td>\n",
       "      <td>-0.396519</td>\n",
       "    </tr>\n",
       "    <tr>\n",
       "      <th>4</th>\n",
       "      <td>-1.417057</td>\n",
       "      <td>-0.368206</td>\n",
       "      <td>0.056265</td>\n",
       "      <td>-0.396519</td>\n",
       "    </tr>\n",
       "  </tbody>\n",
       "</table>\n",
       "</div>"
      ],
      "text/plain": [
       "        Age  Travel_Distance  DepartureDelay_in_Mins  ArrivalDelay_in_Mins\n",
       "0 -0.227761        -1.420638               -0.392499             -0.396519\n",
       "1 -1.218841        -0.548819               -0.154918              0.331234\n",
       "2  1.357967         0.824810               -0.392499             -0.396519\n",
       "3 -0.690265        -0.620087               -0.392499             -0.396519\n",
       "4 -1.417057        -0.368206                0.056265             -0.396519"
      ]
     },
     "execution_count": 87,
     "metadata": {},
     "output_type": "execute_result"
    }
   ],
   "source": [
    "df_test_num_scaled.head()"
   ]
  },
  {
   "cell_type": "code",
   "execution_count": 88,
   "id": "3f97c2e9",
   "metadata": {},
   "outputs": [],
   "source": [
    "df_test = pd.concat([df_test_num_scaled, df_test_cat], axis = 1, join = 'inner')"
   ]
  },
  {
   "cell_type": "code",
   "execution_count": 89,
   "id": "7b437819",
   "metadata": {},
   "outputs": [
    {
     "data": {
      "text/html": [
       "<div>\n",
       "<style scoped>\n",
       "    .dataframe tbody tr th:only-of-type {\n",
       "        vertical-align: middle;\n",
       "    }\n",
       "\n",
       "    .dataframe tbody tr th {\n",
       "        vertical-align: top;\n",
       "    }\n",
       "\n",
       "    .dataframe thead th {\n",
       "        text-align: right;\n",
       "    }\n",
       "</style>\n",
       "<table border=\"1\" class=\"dataframe\">\n",
       "  <thead>\n",
       "    <tr style=\"text-align: right;\">\n",
       "      <th></th>\n",
       "      <th>Age</th>\n",
       "      <th>Travel_Distance</th>\n",
       "      <th>DepartureDelay_in_Mins</th>\n",
       "      <th>ArrivalDelay_in_Mins</th>\n",
       "      <th>Seat_comfort</th>\n",
       "      <th>Seat_Class</th>\n",
       "      <th>Arrival_time_convenient</th>\n",
       "      <th>Catering</th>\n",
       "      <th>Platform_location</th>\n",
       "      <th>Onboardwifi_service</th>\n",
       "      <th>...</th>\n",
       "      <th>Onboard_service</th>\n",
       "      <th>Leg_room</th>\n",
       "      <th>Baggage_handling</th>\n",
       "      <th>Checkin_service</th>\n",
       "      <th>Cleanliness</th>\n",
       "      <th>Online_boarding</th>\n",
       "      <th>Gender</th>\n",
       "      <th>CustomerType</th>\n",
       "      <th>TypeTravel</th>\n",
       "      <th>Travel_Class</th>\n",
       "    </tr>\n",
       "  </thead>\n",
       "  <tbody>\n",
       "    <tr>\n",
       "      <th>0</th>\n",
       "      <td>-0.227761</td>\n",
       "      <td>-1.420638</td>\n",
       "      <td>-0.392499</td>\n",
       "      <td>-0.396519</td>\n",
       "      <td>acceptable</td>\n",
       "      <td>Green Car</td>\n",
       "      <td>acceptable</td>\n",
       "      <td>acceptable</td>\n",
       "      <td>manageable</td>\n",
       "      <td>need improvement</td>\n",
       "      <td>...</td>\n",
       "      <td>excellent</td>\n",
       "      <td>excellent</td>\n",
       "      <td>excellent</td>\n",
       "      <td>good</td>\n",
       "      <td>excellent</td>\n",
       "      <td>poor</td>\n",
       "      <td>Female</td>\n",
       "      <td>Loyal Customer</td>\n",
       "      <td>Business travel</td>\n",
       "      <td>Business</td>\n",
       "    </tr>\n",
       "    <tr>\n",
       "      <th>1</th>\n",
       "      <td>-1.218841</td>\n",
       "      <td>-0.548819</td>\n",
       "      <td>-0.154918</td>\n",
       "      <td>0.331234</td>\n",
       "      <td>extremely poor</td>\n",
       "      <td>Ordinary</td>\n",
       "      <td>good</td>\n",
       "      <td>poor</td>\n",
       "      <td>manageable</td>\n",
       "      <td>acceptable</td>\n",
       "      <td>...</td>\n",
       "      <td>excellent</td>\n",
       "      <td>acceptable</td>\n",
       "      <td>good</td>\n",
       "      <td>acceptable</td>\n",
       "      <td>excellent</td>\n",
       "      <td>acceptable</td>\n",
       "      <td>Female</td>\n",
       "      <td>disloyal Customer</td>\n",
       "      <td>Business travel</td>\n",
       "      <td>Business</td>\n",
       "    </tr>\n",
       "    <tr>\n",
       "      <th>2</th>\n",
       "      <td>1.357967</td>\n",
       "      <td>0.824810</td>\n",
       "      <td>-0.392499</td>\n",
       "      <td>-0.396519</td>\n",
       "      <td>excellent</td>\n",
       "      <td>Ordinary</td>\n",
       "      <td>excellent</td>\n",
       "      <td>excellent</td>\n",
       "      <td>very convinient</td>\n",
       "      <td>excellent</td>\n",
       "      <td>...</td>\n",
       "      <td>need improvement</td>\n",
       "      <td>need improvement</td>\n",
       "      <td>need improvement</td>\n",
       "      <td>good</td>\n",
       "      <td>need improvement</td>\n",
       "      <td>excellent</td>\n",
       "      <td>Male</td>\n",
       "      <td>Loyal Customer</td>\n",
       "      <td>Business travel</td>\n",
       "      <td>Business</td>\n",
       "    </tr>\n",
       "    <tr>\n",
       "      <th>3</th>\n",
       "      <td>-0.690265</td>\n",
       "      <td>-0.620087</td>\n",
       "      <td>-0.392499</td>\n",
       "      <td>-0.396519</td>\n",
       "      <td>acceptable</td>\n",
       "      <td>Green Car</td>\n",
       "      <td>excellent</td>\n",
       "      <td>acceptable</td>\n",
       "      <td>very convinient</td>\n",
       "      <td>poor</td>\n",
       "      <td>...</td>\n",
       "      <td>acceptable</td>\n",
       "      <td>need improvement</td>\n",
       "      <td>excellent</td>\n",
       "      <td>excellent</td>\n",
       "      <td>excellent</td>\n",
       "      <td>poor</td>\n",
       "      <td>Female</td>\n",
       "      <td>Loyal Customer</td>\n",
       "      <td>Personal Travel</td>\n",
       "      <td>Eco</td>\n",
       "    </tr>\n",
       "    <tr>\n",
       "      <th>4</th>\n",
       "      <td>-1.417057</td>\n",
       "      <td>-0.368206</td>\n",
       "      <td>0.056265</td>\n",
       "      <td>-0.396519</td>\n",
       "      <td>excellent</td>\n",
       "      <td>Ordinary</td>\n",
       "      <td>extremely poor</td>\n",
       "      <td>excellent</td>\n",
       "      <td>need improvement</td>\n",
       "      <td>excellent</td>\n",
       "      <td>...</td>\n",
       "      <td>good</td>\n",
       "      <td>acceptable</td>\n",
       "      <td>excellent</td>\n",
       "      <td>excellent</td>\n",
       "      <td>excellent</td>\n",
       "      <td>excellent</td>\n",
       "      <td>Male</td>\n",
       "      <td>disloyal Customer</td>\n",
       "      <td>Business travel</td>\n",
       "      <td>Business</td>\n",
       "    </tr>\n",
       "  </tbody>\n",
       "</table>\n",
       "<p>5 rows × 23 columns</p>\n",
       "</div>"
      ],
      "text/plain": [
       "        Age  Travel_Distance  DepartureDelay_in_Mins  ArrivalDelay_in_Mins  \\\n",
       "0 -0.227761        -1.420638               -0.392499             -0.396519   \n",
       "1 -1.218841        -0.548819               -0.154918              0.331234   \n",
       "2  1.357967         0.824810               -0.392499             -0.396519   \n",
       "3 -0.690265        -0.620087               -0.392499             -0.396519   \n",
       "4 -1.417057        -0.368206                0.056265             -0.396519   \n",
       "\n",
       "     Seat_comfort Seat_Class Arrival_time_convenient    Catering  \\\n",
       "0      acceptable  Green Car              acceptable  acceptable   \n",
       "1  extremely poor   Ordinary                    good        poor   \n",
       "2       excellent   Ordinary               excellent   excellent   \n",
       "3      acceptable  Green Car               excellent  acceptable   \n",
       "4       excellent   Ordinary          extremely poor   excellent   \n",
       "\n",
       "  Platform_location Onboardwifi_service  ...   Onboard_service  \\\n",
       "0        manageable    need improvement  ...         excellent   \n",
       "1        manageable          acceptable  ...         excellent   \n",
       "2   very convinient           excellent  ...  need improvement   \n",
       "3   very convinient                poor  ...        acceptable   \n",
       "4  need improvement           excellent  ...              good   \n",
       "\n",
       "           Leg_room  Baggage_handling Checkin_service       Cleanliness  \\\n",
       "0         excellent         excellent            good         excellent   \n",
       "1        acceptable              good      acceptable         excellent   \n",
       "2  need improvement  need improvement            good  need improvement   \n",
       "3  need improvement         excellent       excellent         excellent   \n",
       "4        acceptable         excellent       excellent         excellent   \n",
       "\n",
       "  Online_boarding  Gender       CustomerType       TypeTravel Travel_Class  \n",
       "0            poor  Female     Loyal Customer  Business travel     Business  \n",
       "1      acceptable  Female  disloyal Customer  Business travel     Business  \n",
       "2       excellent    Male     Loyal Customer  Business travel     Business  \n",
       "3            poor  Female     Loyal Customer  Personal Travel          Eco  \n",
       "4       excellent    Male  disloyal Customer  Business travel     Business  \n",
       "\n",
       "[5 rows x 23 columns]"
      ]
     },
     "execution_count": 89,
     "metadata": {},
     "output_type": "execute_result"
    }
   ],
   "source": [
    "df_test.head()"
   ]
  },
  {
   "cell_type": "code",
   "execution_count": 90,
   "id": "92bf078b",
   "metadata": {},
   "outputs": [
    {
     "data": {
      "text/plain": [
       "(35602, 23)"
      ]
     },
     "execution_count": 90,
     "metadata": {},
     "output_type": "execute_result"
    }
   ],
   "source": [
    "df_test.shape"
   ]
  },
  {
   "cell_type": "code",
   "execution_count": 91,
   "id": "5c2bf5d6",
   "metadata": {},
   "outputs": [
    {
     "name": "stdout",
     "output_type": "stream",
     "text": [
      "<class 'pandas.core.frame.DataFrame'>\n",
      "RangeIndex: 35602 entries, 0 to 35601\n",
      "Data columns (total 23 columns):\n",
      " #   Column                   Non-Null Count  Dtype  \n",
      "---  ------                   --------------  -----  \n",
      " 0   Age                      35602 non-null  float64\n",
      " 1   Travel_Distance          35602 non-null  float64\n",
      " 2   DepartureDelay_in_Mins   35602 non-null  float64\n",
      " 3   ArrivalDelay_in_Mins     35602 non-null  float64\n",
      " 4   Seat_comfort             35602 non-null  object \n",
      " 5   Seat_Class               35602 non-null  object \n",
      " 6   Arrival_time_convenient  35602 non-null  object \n",
      " 7   Catering                 35602 non-null  object \n",
      " 8   Platform_location        35602 non-null  object \n",
      " 9   Onboardwifi_service      35602 non-null  object \n",
      " 10  Onboard_entertainment    35602 non-null  object \n",
      " 11  Online_support           35602 non-null  object \n",
      " 12  Onlinebooking_Ease       35602 non-null  object \n",
      " 13  Onboard_service          35602 non-null  object \n",
      " 14  Leg_room                 35602 non-null  object \n",
      " 15  Baggage_handling         35602 non-null  object \n",
      " 16  Checkin_service          35602 non-null  object \n",
      " 17  Cleanliness              35602 non-null  object \n",
      " 18  Online_boarding          35602 non-null  object \n",
      " 19  Gender                   35602 non-null  object \n",
      " 20  CustomerType             35602 non-null  object \n",
      " 21  TypeTravel               35602 non-null  object \n",
      " 22  Travel_Class             35602 non-null  object \n",
      "dtypes: float64(4), object(19)\n",
      "memory usage: 6.2+ MB\n"
     ]
    }
   ],
   "source": [
    "df_test.info()"
   ]
  },
  {
   "cell_type": "code",
   "execution_count": 92,
   "id": "1ccac0fe",
   "metadata": {},
   "outputs": [
    {
     "name": "stdout",
     "output_type": "stream",
     "text": [
      "Seat_comfort\n",
      "acceptable          8025\n",
      "need improvement    7831\n",
      "good                7808\n",
      "poor                5755\n",
      "excellent           4854\n",
      "extremely poor      1329\n",
      "Name: Seat_comfort, dtype: int64\n",
      "\n",
      "\n",
      "Seat_Class\n",
      "Ordinary     17860\n",
      "Green Car    17742\n",
      "Name: Seat_Class, dtype: int64\n",
      "\n",
      "\n",
      "Arrival_time_convenient\n",
      "good                10686\n",
      "excellent            6589\n",
      "acceptable           5844\n",
      "need improvement     5684\n",
      "poor                 5131\n",
      "extremely poor       1668\n",
      "Name: Arrival_time_convenient, dtype: int64\n",
      "\n",
      "\n",
      "Catering\n",
      "acceptable          10490\n",
      "need improvement     6701\n",
      "good                 6701\n",
      "poor                 5178\n",
      "excellent            5025\n",
      "extremely poor       1507\n",
      "Name: Catering, dtype: int64\n",
      "\n",
      "\n",
      "Platform_location\n",
      "manageable          9376\n",
      "Convinient          8178\n",
      "need improvement    6703\n",
      "Inconvinient        6134\n",
      "very convinient     5211\n",
      "Name: Platform_location, dtype: int64\n",
      "\n",
      "\n",
      "Onboardwifi_service\n",
      "good                8755\n",
      "excellent           7875\n",
      "acceptable          7495\n",
      "need improvement    7456\n",
      "poor                3980\n",
      "extremely poor        41\n",
      "Name: Onboardwifi_service, dtype: int64\n",
      "\n",
      "\n",
      "Onboard_entertainment\n",
      "good                11444\n",
      "excellent            8204\n",
      "acceptable           6675\n",
      "need improvement     5279\n",
      "poor                 3167\n",
      "extremely poor        833\n",
      "Name: Onboard_entertainment, dtype: int64\n",
      "\n",
      "\n",
      "Online_support\n",
      "good                11513\n",
      "excellent            9665\n",
      "acceptable           5902\n",
      "need improvement     4755\n",
      "poor                 3767\n",
      "Name: Online_support, dtype: int64\n",
      "\n",
      "\n",
      "Onlinebooking_Ease\n",
      "good                11043\n",
      "excellent            9380\n",
      "acceptable           6029\n",
      "need improvement     5474\n",
      "poor                 3674\n",
      "extremely poor          2\n",
      "Name: Onlinebooking_Ease, dtype: int64\n",
      "\n",
      "\n",
      "Onboard_service\n",
      "good                13094\n",
      "excellent            7941\n",
      "acceptable           6770\n",
      "need improvement     4385\n",
      "poor                 3412\n",
      "Name: Onboard_service, dtype: int64\n",
      "\n",
      "\n",
      "Leg_room\n",
      "good                10867\n",
      "excellent            9536\n",
      "acceptable           6079\n",
      "need improvement     5992\n",
      "poor                 3025\n",
      "extremely poor        103\n",
      "Name: Leg_room, dtype: int64\n",
      "\n",
      "\n",
      "Baggage_handling\n",
      "good                13331\n",
      "excellent            9729\n",
      "acceptable           6683\n",
      "need improvement     3659\n",
      "poor                 2200\n",
      "Name: Baggage_handling, dtype: int64\n",
      "\n",
      "\n",
      "Checkin_service\n",
      "good                10004\n",
      "acceptable           9740\n",
      "excellent            7375\n",
      "need improvement     4262\n",
      "poor                 4221\n",
      "Name: Checkin_service, dtype: int64\n",
      "\n",
      "\n",
      "Cleanliness\n",
      "good                13423\n",
      "excellent            9900\n",
      "acceptable           6534\n",
      "need improvement     3607\n",
      "poor                 2138\n",
      "Name: Cleanliness, dtype: int64\n",
      "\n",
      "\n",
      "Online_boarding\n",
      "good                9682\n",
      "acceptable          8323\n",
      "excellent           8250\n",
      "need improvement    5134\n",
      "poor                4211\n",
      "extremely poor         2\n",
      "Name: Online_boarding, dtype: int64\n",
      "\n",
      "\n",
      "Gender\n",
      "Female    18099\n",
      "Male      17503\n",
      "Name: Gender, dtype: int64\n",
      "\n",
      "\n",
      "CustomerType\n",
      "Loyal Customer       29732\n",
      "disloyal Customer     5870\n",
      "Name: CustomerType, dtype: int64\n",
      "\n",
      "\n",
      "TypeTravel\n",
      "Business travel    25761\n",
      "Personal Travel     9841\n",
      "Name: TypeTravel, dtype: int64\n",
      "\n",
      "\n",
      "Travel_Class\n",
      "Eco         18473\n",
      "Business    17129\n",
      "Name: Travel_Class, dtype: int64\n",
      "\n",
      "\n"
     ]
    }
   ],
   "source": [
    "for feature in df_test.columns:\n",
    "    if df_test[feature].dtype == 'object':\n",
    "        print(feature)\n",
    "        print(df_test[feature].value_counts())\n",
    "        print('\\n') "
   ]
  },
  {
   "cell_type": "code",
   "execution_count": 93,
   "id": "001a7898",
   "metadata": {},
   "outputs": [
    {
     "data": {
      "text/plain": [
       "Index(['Age', 'Travel_Distance', 'DepartureDelay_in_Mins',\n",
       "       'ArrivalDelay_in_Mins', 'Seat_comfort', 'Seat_Class',\n",
       "       'Arrival_time_convenient', 'Catering', 'Platform_location',\n",
       "       'Onboardwifi_service', 'Onboard_entertainment', 'Online_support',\n",
       "       'Onlinebooking_Ease', 'Onboard_service', 'Leg_room', 'Baggage_handling',\n",
       "       'Checkin_service', 'Cleanliness', 'Online_boarding', 'Gender',\n",
       "       'CustomerType', 'TypeTravel', 'Travel_Class'],\n",
       "      dtype='object')"
      ]
     },
     "execution_count": 93,
     "metadata": {},
     "output_type": "execute_result"
    }
   ],
   "source": [
    "df_test.columns"
   ]
  },
  {
   "cell_type": "code",
   "execution_count": 94,
   "id": "55baaacb",
   "metadata": {},
   "outputs": [],
   "source": [
    "df_test['Seat_comfort'] = np.where(df_test['Seat_comfort'] == 'extremely poor', '0',df_test['Seat_comfort'])\n",
    "df_test['Seat_comfort'] = np.where(df_test['Seat_comfort'] == 'poor', '1',df_test['Seat_comfort'])\n",
    "df_test['Seat_comfort'] = np.where(df_test['Seat_comfort'] == 'need improvement', '2',df_test['Seat_comfort'])\n",
    "df_test['Seat_comfort'] = np.where(df_test['Seat_comfort'] == 'acceptable', '3',df_test['Seat_comfort'])\n",
    "df_test['Seat_comfort'] = np.where(df_test['Seat_comfort'] == 'good', '4',df_test['Seat_comfort'])\n",
    "df_test['Seat_comfort'] = np.where(df_test['Seat_comfort'] == 'excellent', '5',df_test['Seat_comfort'])"
   ]
  },
  {
   "cell_type": "code",
   "execution_count": 95,
   "id": "3b9508c2",
   "metadata": {},
   "outputs": [],
   "source": [
    "df_test['Seat_Class'] = np.where(df_test['Seat_Class'] == 'Ordinary', '0',df_test['Seat_Class'])\n",
    "df_test['Seat_Class'] = np.where(df_test['Seat_Class'] == 'Green Car', '1',df_test['Seat_Class'])"
   ]
  },
  {
   "cell_type": "code",
   "execution_count": 96,
   "id": "2223b9ad",
   "metadata": {},
   "outputs": [],
   "source": [
    "df_test['Arrival_time_convenient'] = np.where(df_test['Arrival_time_convenient'] == 'extremely poor', '0',df_test['Arrival_time_convenient'])\n",
    "df_test['Arrival_time_convenient'] = np.where(df_test['Arrival_time_convenient'] == 'poor', '1',df_test['Arrival_time_convenient'])\n",
    "df_test['Arrival_time_convenient'] = np.where(df_test['Arrival_time_convenient'] == 'need improvement', '2',df_test['Arrival_time_convenient'])\n",
    "df_test['Arrival_time_convenient'] = np.where(df_test['Arrival_time_convenient'] == 'acceptable', '3',df_test['Arrival_time_convenient'])\n",
    "df_test['Arrival_time_convenient'] = np.where(df_test['Arrival_time_convenient'] == 'good', '4',df_test['Arrival_time_convenient'])\n",
    "df_test['Arrival_time_convenient'] = np.where(df_test['Arrival_time_convenient'] == 'excellent', '5',df_test['Arrival_time_convenient'])"
   ]
  },
  {
   "cell_type": "code",
   "execution_count": 97,
   "id": "13fabea9",
   "metadata": {},
   "outputs": [],
   "source": [
    "df_test['Catering'] = np.where(df_test['Catering'] == 'extremely poor', '0',df_test['Catering'])\n",
    "df_test['Catering'] = np.where(df_test['Catering'] == 'poor', '1',df_test['Catering'])\n",
    "df_test['Catering'] = np.where(df_test['Catering'] == 'need improvement', '2',df_test['Catering'])\n",
    "df_test['Catering'] = np.where(df_test['Catering'] == 'acceptable', '3',df_test['Catering'])\n",
    "df_test['Catering'] = np.where(df_test['Catering'] == 'good', '4',df_test['Catering'])\n",
    "df_test['Catering'] = np.where(df_test['Catering'] == 'excellent', '5',df_test['Catering'])"
   ]
  },
  {
   "cell_type": "code",
   "execution_count": 98,
   "id": "5a028c01",
   "metadata": {},
   "outputs": [],
   "source": [
    "df_test['Platform_location'] = np.where(df_test['Platform_location'] == 'very inconvinient', '0',df_test['Platform_location'])\n",
    "df_test['Platform_location'] = np.where(df_test['Platform_location'] == 'Inconvinient', '1',df_test['Platform_location'])\n",
    "df_test['Platform_location'] = np.where(df_test['Platform_location'] == 'need improvement', '2',df_test['Platform_location'])\n",
    "df_test['Platform_location'] = np.where(df_test['Platform_location'] == 'manageable', '3',df_test['Platform_location'])\n",
    "df_test['Platform_location'] = np.where(df_test['Platform_location'] == 'Convinient', '4',df_test['Platform_location'])\n",
    "df_test['Platform_location'] = np.where(df_test['Platform_location'] == 'very convinient', '5',df_test['Platform_location'])"
   ]
  },
  {
   "cell_type": "code",
   "execution_count": 99,
   "id": "9a7b0a5a",
   "metadata": {},
   "outputs": [],
   "source": [
    "df_test['Onboardwifi_service'] = np.where(df_test['Onboardwifi_service'] == 'extremely poor', '0',df_test['Onboardwifi_service'])\n",
    "df_test['Onboardwifi_service'] = np.where(df_test['Onboardwifi_service'] == 'poor', '1',df_test['Onboardwifi_service'])\n",
    "df_test['Onboardwifi_service'] = np.where(df_test['Onboardwifi_service'] == 'need improvement', '2',df_test['Onboardwifi_service'])\n",
    "df_test['Onboardwifi_service'] = np.where(df_test['Onboardwifi_service'] == 'acceptable', '3',df_test['Onboardwifi_service'])\n",
    "df_test['Onboardwifi_service'] = np.where(df_test['Onboardwifi_service'] == 'good', '4',df_test['Onboardwifi_service'])\n",
    "df_test['Onboardwifi_service'] = np.where(df_test['Onboardwifi_service'] == 'excellent', '5',df_test['Onboardwifi_service'])"
   ]
  },
  {
   "cell_type": "code",
   "execution_count": 100,
   "id": "3b502ba0",
   "metadata": {},
   "outputs": [],
   "source": [
    "df_test['Onboard_entertainment'] = np.where(df_test['Onboard_entertainment'] == 'extremely poor', '0',df_test['Onboard_entertainment'])\n",
    "df_test['Onboard_entertainment'] = np.where(df_test['Onboard_entertainment'] == 'poor', '1',df_test['Onboard_entertainment'])\n",
    "df_test['Onboard_entertainment'] = np.where(df_test['Onboard_entertainment'] == 'need improvement', '2',df_test['Onboard_entertainment'])\n",
    "df_test['Onboard_entertainment'] = np.where(df_test['Onboard_entertainment'] == 'acceptable', '3',df_test['Onboard_entertainment'])\n",
    "df_test['Onboard_entertainment'] = np.where(df_test['Onboard_entertainment'] == 'good', '4',df_test['Onboard_entertainment'])\n",
    "df_test['Onboard_entertainment'] = np.where(df_test['Onboard_entertainment'] == 'excellent', '5',df_test['Onboard_entertainment'])"
   ]
  },
  {
   "cell_type": "code",
   "execution_count": 101,
   "id": "6316b9ef",
   "metadata": {},
   "outputs": [],
   "source": [
    "df_test['Online_support'] = np.where(df_test['Online_support'] == 'extremely poor', '0',df_test['Online_support'])\n",
    "df_test['Online_support'] = np.where(df_test['Online_support'] == 'poor', '1',df_test['Online_support'])\n",
    "df_test['Online_support'] = np.where(df_test['Online_support'] == 'need improvement', '2',df_test['Online_support'])\n",
    "df_test['Online_support'] = np.where(df_test['Online_support'] == 'acceptable', '3',df_test['Online_support'])\n",
    "df_test['Online_support'] = np.where(df_test['Online_support'] == 'good', '4',df_test['Online_support'])\n",
    "df_test['Online_support'] = np.where(df_test['Online_support'] == 'excellent', '5',df_test['Online_support'])"
   ]
  },
  {
   "cell_type": "code",
   "execution_count": 102,
   "id": "fd43cfe3",
   "metadata": {},
   "outputs": [],
   "source": [
    "df_test['Onlinebooking_Ease'] = np.where(df_test['Onlinebooking_Ease'] == 'extremely poor', '0',df_test['Onlinebooking_Ease'])\n",
    "df_test['Onlinebooking_Ease'] = np.where(df_test['Onlinebooking_Ease'] == 'poor', '1',df_test['Onlinebooking_Ease'])\n",
    "df_test['Onlinebooking_Ease'] = np.where(df_test['Onlinebooking_Ease'] == 'need improvement', '2',df_test['Onlinebooking_Ease'])\n",
    "df_test['Onlinebooking_Ease'] = np.where(df_test['Onlinebooking_Ease'] == 'acceptable', '3',df_test['Onlinebooking_Ease'])\n",
    "df_test['Onlinebooking_Ease'] = np.where(df_test['Onlinebooking_Ease'] == 'good', '4',df_test['Onlinebooking_Ease'])\n",
    "df_test['Onlinebooking_Ease'] = np.where(df_test['Onlinebooking_Ease'] == 'excellent', '5',df_test['Onlinebooking_Ease'])"
   ]
  },
  {
   "cell_type": "code",
   "execution_count": 103,
   "id": "85cfe75c",
   "metadata": {},
   "outputs": [],
   "source": [
    "df_test['Onboard_service'] = np.where(df_test['Onboard_service'] == 'extremely poor', '0',df_test['Onboard_service'])\n",
    "df_test['Onboard_service'] = np.where(df_test['Onboard_service'] == 'poor', '1',df_test['Onboard_service'])\n",
    "df_test['Onboard_service'] = np.where(df_test['Onboard_service'] == 'need improvement', '2',df_test['Onboard_service'])\n",
    "df_test['Onboard_service'] = np.where(df_test['Onboard_service'] == 'acceptable', '3',df_test['Onboard_service'])\n",
    "df_test['Onboard_service'] = np.where(df_test['Onboard_service'] == 'good', '4',df_test['Onboard_service'])\n",
    "df_test['Onboard_service'] = np.where(df_test['Onboard_service'] == 'excellent', '5',df_test['Onboard_service'])"
   ]
  },
  {
   "cell_type": "code",
   "execution_count": 104,
   "id": "bb68dfbd",
   "metadata": {},
   "outputs": [],
   "source": [
    "df_test['Leg_room'] = np.where(df_test['Leg_room'] == 'extremely poor', '0',df_test['Leg_room'])\n",
    "df_test['Leg_room'] = np.where(df_test['Leg_room'] == 'poor', '1',df_test['Leg_room'])\n",
    "df_test['Leg_room'] = np.where(df_test['Leg_room'] == 'need improvement', '2',df_test['Leg_room'])\n",
    "df_test['Leg_room'] = np.where(df_test['Leg_room'] == 'acceptable', '3',df_test['Leg_room'])\n",
    "df_test['Leg_room'] = np.where(df_test['Leg_room'] == 'good', '4',df_test['Leg_room'])\n",
    "df_test['Leg_room'] = np.where(df_test['Leg_room'] == 'excellent', '5',df_test['Leg_room'])"
   ]
  },
  {
   "cell_type": "code",
   "execution_count": 105,
   "id": "209dadee",
   "metadata": {},
   "outputs": [],
   "source": [
    "df_test['Baggage_handling'] = np.where(df_test['Baggage_handling'] == 'extremely poor', '0',df_test['Baggage_handling'])\n",
    "df_test['Baggage_handling'] = np.where(df_test['Baggage_handling'] == 'poor', '1',df_test['Baggage_handling'])\n",
    "df_test['Baggage_handling'] = np.where(df_test['Baggage_handling'] == 'need improvement', '2',df_test['Baggage_handling'])\n",
    "df_test['Baggage_handling'] = np.where(df_test['Baggage_handling'] == 'acceptable', '3',df_test['Baggage_handling'])\n",
    "df_test['Baggage_handling'] = np.where(df_test['Baggage_handling'] == 'good', '4',df_test['Baggage_handling'])\n",
    "df_test['Baggage_handling'] = np.where(df_test['Baggage_handling'] == 'excellent', '5',df_test['Baggage_handling'])"
   ]
  },
  {
   "cell_type": "code",
   "execution_count": 106,
   "id": "3a5de979",
   "metadata": {},
   "outputs": [],
   "source": [
    "df_test['Checkin_service'] = np.where(df_test['Checkin_service'] == 'extremely poor', '0',df_test['Checkin_service'])\n",
    "df_test['Checkin_service'] = np.where(df_test['Checkin_service'] == 'poor', '1',df_test['Checkin_service'])\n",
    "df_test['Checkin_service'] = np.where(df_test['Checkin_service'] == 'need improvement', '2',df_test['Checkin_service'])\n",
    "df_test['Checkin_service'] = np.where(df_test['Checkin_service'] == 'acceptable', '3',df_test['Checkin_service'])\n",
    "df_test['Checkin_service'] = np.where(df_test['Checkin_service'] == 'good', '4',df_test['Checkin_service'])\n",
    "df_test['Checkin_service'] = np.where(df_test['Checkin_service'] == 'excellent', '5',df_test['Checkin_service'])"
   ]
  },
  {
   "cell_type": "code",
   "execution_count": 107,
   "id": "0bf864a5",
   "metadata": {},
   "outputs": [],
   "source": [
    "df_test['Cleanliness'] = np.where(df_test['Cleanliness'] == 'extremely poor', '0',df_test['Cleanliness'])\n",
    "df_test['Cleanliness'] = np.where(df_test['Cleanliness'] == 'poor', '1',df_test['Cleanliness'])\n",
    "df_test['Cleanliness'] = np.where(df_test['Cleanliness'] == 'need improvement', '2',df_test['Cleanliness'])\n",
    "df_test['Cleanliness'] = np.where(df_test['Cleanliness'] == 'acceptable', '3',df_test['Cleanliness'])\n",
    "df_test['Cleanliness'] = np.where(df_test['Cleanliness'] == 'good', '4',df_test['Cleanliness'])\n",
    "df_test['Cleanliness'] = np.where(df_test['Cleanliness'] == 'excellent', '5',df_test['Cleanliness'])"
   ]
  },
  {
   "cell_type": "code",
   "execution_count": 108,
   "id": "d1090b69",
   "metadata": {},
   "outputs": [],
   "source": [
    "df_test['Online_boarding'] = np.where(df_test['Online_boarding'] == 'extremely poor', '0',df_test['Online_boarding'])\n",
    "df_test['Online_boarding'] = np.where(df_test['Online_boarding'] == 'poor', '1',df_test['Online_boarding'])\n",
    "df_test['Online_boarding'] = np.where(df_test['Online_boarding'] == 'need improvement', '2',df_test['Online_boarding'])\n",
    "df_test['Online_boarding'] = np.where(df_test['Online_boarding'] == 'acceptable', '3',df_test['Online_boarding'])\n",
    "df_test['Online_boarding'] = np.where(df_test['Online_boarding'] == 'good', '4',df_test['Online_boarding'])\n",
    "df_test['Online_boarding'] = np.where(df_test['Online_boarding'] == 'excellent', '5',df_test['Online_boarding'])"
   ]
  },
  {
   "cell_type": "code",
   "execution_count": 109,
   "id": "4f6ca17c",
   "metadata": {},
   "outputs": [],
   "source": [
    "df_test['CustomerType'] = np.where(df_test['CustomerType'] == 'disloyal Customer', '0',df_test['CustomerType'])\n",
    "df_test['CustomerType'] = np.where(df_test['CustomerType'] == 'Loyal Customer', '1',df_test['CustomerType'])"
   ]
  },
  {
   "cell_type": "code",
   "execution_count": 110,
   "id": "ea3ffef5",
   "metadata": {},
   "outputs": [],
   "source": [
    "df_test['Travel_Class'] = np.where(df_test['Travel_Class'] == 'Eco', '0',df_test['Travel_Class'])\n",
    "df_test['Travel_Class'] = np.where(df_test['Travel_Class'] == 'Business', '1',df_test['Travel_Class'])"
   ]
  },
  {
   "cell_type": "code",
   "execution_count": 111,
   "id": "68220101",
   "metadata": {},
   "outputs": [],
   "source": [
    "df_test['TypeTravel'] = np.where(df_test['TypeTravel'] == 'Personal Travel', '0',df_test['TypeTravel'])\n",
    "df_test['TypeTravel'] = np.where(df_test['TypeTravel'] == 'Business travel', '1',df_test['TypeTravel'])"
   ]
  },
  {
   "cell_type": "code",
   "execution_count": 112,
   "id": "c5c6cae1",
   "metadata": {},
   "outputs": [],
   "source": [
    "df_test['Gender'] = np.where(df_test['Gender'] == 'Female', '0',df_test['Gender'])\n",
    "df_test['Gender'] = np.where(df_test['Gender'] == 'Male', '1',df_test['Gender'])"
   ]
  },
  {
   "cell_type": "code",
   "execution_count": 113,
   "id": "655107fc",
   "metadata": {},
   "outputs": [],
   "source": [
    "df_test['Seat_comfort'] = df_test['Seat_comfort'].astype('int64')\n",
    "df_test['Seat_Class'] = df_test['Seat_Class'].astype('int64')\n",
    "df_test['Arrival_time_convenient'] = df_test['Arrival_time_convenient'].astype('int64')\n",
    "df_test['Catering'] = df_test['Catering'].astype('int64')\n",
    "df_test['Platform_location'] = df_test['Platform_location'].astype('int64')\n",
    "df_test['Onboardwifi_service'] = df_test['Onboardwifi_service'].astype('int64')\n",
    "df_test['Onboard_entertainment'] = df_test['Onboard_entertainment'].astype('int64')\n",
    "df_test['Online_support'] = df_test['Online_support'].astype('int64')\n",
    "df_test['Onlinebooking_Ease'] = df_test['Onlinebooking_Ease'].astype('int64')\n",
    "df_test['Onboard_service'] = df_test['Onboard_service'].astype('int64')\n",
    "df_test['Leg_room'] = df_test['Leg_room'].astype('int64')\n",
    "df_test['Baggage_handling'] = df_test['Baggage_handling'].astype('int64')\n",
    "df_test['Checkin_service'] = df_test['Checkin_service'].astype('int64')\n",
    "df_test['Cleanliness'] = df_test['Cleanliness'].astype('int64')\n",
    "df_test['Online_boarding'] = df_test['Online_boarding'].astype('int64')\n",
    "df_test['Gender'] = df_test['Gender'].astype('int64')\n",
    "df_test['CustomerType'] = df_test['CustomerType'].astype('int64')\n",
    "df_test['TypeTravel'] = df_test['TypeTravel'].astype('int64')\n",
    "df_test['Travel_Class'] = df_test['Travel_Class'].astype('int64')"
   ]
  },
  {
   "cell_type": "code",
   "execution_count": 114,
   "id": "df2ffcab",
   "metadata": {},
   "outputs": [
    {
     "data": {
      "text/plain": [
       "(35602, 23)"
      ]
     },
     "execution_count": 114,
     "metadata": {},
     "output_type": "execute_result"
    }
   ],
   "source": [
    "df_test.shape"
   ]
  },
  {
   "cell_type": "code",
   "execution_count": 115,
   "id": "a8d795a6",
   "metadata": {},
   "outputs": [
    {
     "name": "stdout",
     "output_type": "stream",
     "text": [
      "<class 'pandas.core.frame.DataFrame'>\n",
      "RangeIndex: 35602 entries, 0 to 35601\n",
      "Data columns (total 23 columns):\n",
      " #   Column                   Non-Null Count  Dtype  \n",
      "---  ------                   --------------  -----  \n",
      " 0   Age                      35602 non-null  float64\n",
      " 1   Travel_Distance          35602 non-null  float64\n",
      " 2   DepartureDelay_in_Mins   35602 non-null  float64\n",
      " 3   ArrivalDelay_in_Mins     35602 non-null  float64\n",
      " 4   Seat_comfort             35602 non-null  int64  \n",
      " 5   Seat_Class               35602 non-null  int64  \n",
      " 6   Arrival_time_convenient  35602 non-null  int64  \n",
      " 7   Catering                 35602 non-null  int64  \n",
      " 8   Platform_location        35602 non-null  int64  \n",
      " 9   Onboardwifi_service      35602 non-null  int64  \n",
      " 10  Onboard_entertainment    35602 non-null  int64  \n",
      " 11  Online_support           35602 non-null  int64  \n",
      " 12  Onlinebooking_Ease       35602 non-null  int64  \n",
      " 13  Onboard_service          35602 non-null  int64  \n",
      " 14  Leg_room                 35602 non-null  int64  \n",
      " 15  Baggage_handling         35602 non-null  int64  \n",
      " 16  Checkin_service          35602 non-null  int64  \n",
      " 17  Cleanliness              35602 non-null  int64  \n",
      " 18  Online_boarding          35602 non-null  int64  \n",
      " 19  Gender                   35602 non-null  int64  \n",
      " 20  CustomerType             35602 non-null  int64  \n",
      " 21  TypeTravel               35602 non-null  int64  \n",
      " 22  Travel_Class             35602 non-null  int64  \n",
      "dtypes: float64(4), int64(19)\n",
      "memory usage: 6.2 MB\n"
     ]
    }
   ],
   "source": [
    "df_test.info()"
   ]
  },
  {
   "cell_type": "code",
   "execution_count": 116,
   "id": "51dfb247",
   "metadata": {},
   "outputs": [
    {
     "data": {
      "text/plain": [
       "Age                        0\n",
       "Travel_Distance            0\n",
       "DepartureDelay_in_Mins     0\n",
       "ArrivalDelay_in_Mins       0\n",
       "Seat_comfort               0\n",
       "Seat_Class                 0\n",
       "Arrival_time_convenient    0\n",
       "Catering                   0\n",
       "Platform_location          0\n",
       "Onboardwifi_service        0\n",
       "Onboard_entertainment      0\n",
       "Online_support             0\n",
       "Onlinebooking_Ease         0\n",
       "Onboard_service            0\n",
       "Leg_room                   0\n",
       "Baggage_handling           0\n",
       "Checkin_service            0\n",
       "Cleanliness                0\n",
       "Online_boarding            0\n",
       "Gender                     0\n",
       "CustomerType               0\n",
       "TypeTravel                 0\n",
       "Travel_Class               0\n",
       "dtype: int64"
      ]
     },
     "execution_count": 116,
     "metadata": {},
     "output_type": "execute_result"
    }
   ],
   "source": [
    "df_test.isnull().sum()"
   ]
  },
  {
   "cell_type": "markdown",
   "id": "a73d9809",
   "metadata": {},
   "source": [
    "## Univariate Analysis on Numerical variables"
   ]
  },
  {
   "cell_type": "code",
   "execution_count": 117,
   "id": "d3a4372e",
   "metadata": {},
   "outputs": [
    {
     "data": {
      "text/plain": [
       "24"
      ]
     },
     "execution_count": 117,
     "metadata": {},
     "output_type": "execute_result"
    }
   ],
   "source": [
    "df_train_num = df_train.select_dtypes(include = ['int64','float64'])\n",
    "listnumericcolumns = list(df_train_num.columns.values)\n",
    "len(listnumericcolumns)"
   ]
  },
  {
   "cell_type": "code",
   "execution_count": 118,
   "id": "c2940f38",
   "metadata": {},
   "outputs": [],
   "source": [
    "def univariateAnalysis_numeric (column, nbins):\n",
    "    print('Description of '+ column)\n",
    "    print('---------------------------------------')\n",
    "    print(df_train_num[column].describe(), end = '')\n",
    "    print('\\n-------------------------------------')\n",
    "    \n",
    "    plt.figure()\n",
    "    print('Distribution of '+ column)\n",
    "    print('---------------------------------------')\n",
    "    sns.distplot(df_train_num[column], kde = True, color = 'g')\n",
    "    plt.show()\n",
    "    \n",
    "    plt.figure()\n",
    "    print('BoxPlot of' + column)\n",
    "    print('-----------------------------------------')\n",
    "    sns.boxplot(df_train_num[column])\n",
    "    plt.show()"
   ]
  },
  {
   "cell_type": "code",
   "execution_count": 119,
   "id": "0d233182",
   "metadata": {},
   "outputs": [
    {
     "name": "stdout",
     "output_type": "stream",
     "text": [
      "Description of Overall_Experience\n",
      "---------------------------------------\n",
      "count    94379.000000\n",
      "mean         0.546658\n",
      "std          0.497821\n",
      "min          0.000000\n",
      "25%          0.000000\n",
      "50%          1.000000\n",
      "75%          1.000000\n",
      "max          1.000000\n",
      "Name: Overall_Experience, dtype: float64\n",
      "-------------------------------------\n",
      "Distribution of Overall_Experience\n",
      "---------------------------------------\n"
     ]
    },
    {
     "data": {
      "image/png": "[encoded data removed]",
      "text/plain": [
       "<Figure size 432x288 with 1 Axes>"
      ]
     },
     "metadata": {
      "needs_background": "light"
     },
     "output_type": "display_data"
    },
    {
     "name": "stdout",
     "output_type": "stream",
     "text": [
      "BoxPlot ofOverall_Experience\n",
      "-----------------------------------------\n"
     ]
    },
    {
     "data": {
      "image/png": "[encoded data removed]",
      "text/plain": [
       "<Figure size 432x288 with 1 Axes>"
      ]
     },
     "metadata": {
      "needs_background": "light"
     },
     "output_type": "display_data"
    },
    {
     "name": "stdout",
     "output_type": "stream",
     "text": [
      "Description of Age\n",
      "---------------------------------------\n",
      "count    9.437900e+04\n",
      "mean     3.849002e-17\n",
      "std      1.000005e+00\n",
      "min     -2.145034e+00\n",
      "25%     -8.217495e-01\n",
      "50%      3.838518e-02\n",
      "75%      7.661914e-01\n",
      "max      3.015774e+00\n",
      "Name: Age, dtype: float64\n",
      "-------------------------------------\n",
      "Distribution of Age\n",
      "---------------------------------------\n"
     ]
    },
    {
     "data": {
      "image/png": "[encoded data removed]",
      "text/plain": [
       "<Figure size 432x288 with 1 Axes>"
      ]
     },
     "metadata": {
      "needs_background": "light"
     },
     "output_type": "display_data"
    },
    {
     "name": "stdout",
     "output_type": "stream",
     "text": [
      "BoxPlot ofAge\n",
      "-----------------------------------------\n"
     ]
    },
    {
     "data": {
      "image/png": "[encoded data removed]",
      "text/plain": [
       "<Figure size 432x288 with 1 Axes>"
      ]
     },
     "metadata": {
      "needs_background": "light"
     },
     "output_type": "display_data"
    },
    {
     "name": "stdout",
     "output_type": "stream",
     "text": [
      "Description of Travel_Distance\n",
      "---------------------------------------\n",
      "count    9.437900e+04\n",
      "mean    -3.625982e-17\n",
      "std      1.000005e+00\n",
      "min     -1.876431e+00\n",
      "25%     -6.030301e-01\n",
      "50%     -5.436829e-02\n",
      "75%      5.439066e-01\n",
      "max      4.836894e+00\n",
      "Name: Travel_Distance, dtype: float64\n",
      "-------------------------------------\n",
      "Distribution of Travel_Distance\n",
      "---------------------------------------\n"
     ]
    },
    {
     "data": {
      "image/png": "[encoded data removed]",
      "text/plain": [
       "<Figure size 432x288 with 1 Axes>"
      ]
     },
     "metadata": {
      "needs_background": "light"
     },
     "output_type": "display_data"
    },
    {
     "name": "stdout",
     "output_type": "stream",
     "text": [
      "BoxPlot ofTravel_Distance\n",
      "-----------------------------------------\n"
     ]
    },
    {
     "data": {
      "image/png": "[encoded data removed]",
      "text/plain": [
       "<Figure size 432x288 with 1 Axes>"
      ]
     },
     "metadata": {
      "needs_background": "light"
     },
     "output_type": "display_data"
    },
    {
     "name": "stdout",
     "output_type": "stream",
     "text": [
      "Description of DepartureDelay_in_Mins\n",
      "---------------------------------------\n",
      "count    9.437900e+04\n",
      "mean    -3.658434e-17\n",
      "std      1.000005e+00\n",
      "min     -3.839161e-01\n",
      "25%     -3.839161e-01\n",
      "50%     -3.839161e-01\n",
      "75%     -6.919307e-02\n",
      "max      4.136934e+01\n",
      "Name: DepartureDelay_in_Mins, dtype: float64\n",
      "-------------------------------------\n",
      "Distribution of DepartureDelay_in_Mins\n",
      "---------------------------------------\n"
     ]
    },
    {
     "data": {
      "image/png": "[encoded data removed]",
      "text/plain": [
       "<Figure size 432x288 with 1 Axes>"
      ]
     },
     "metadata": {
      "needs_background": "light"
     },
     "output_type": "display_data"
    },
    {
     "name": "stdout",
     "output_type": "stream",
     "text": [
      "BoxPlot ofDepartureDelay_in_Mins\n",
      "-----------------------------------------\n"
     ]
    },
    {
     "data": {
      "image/png": "[encoded data removed]",
      "text/plain": [
       "<Figure size 432x288 with 1 Axes>"
      ]
     },
     "metadata": {
      "needs_background": "light"
     },
     "output_type": "display_data"
    },
    {
     "name": "stdout",
     "output_type": "stream",
     "text": [
      "Description of ArrivalDelay_in_Mins\n",
      "---------------------------------------\n",
      "count    9.437900e+04\n",
      "mean    -8.125124e-16\n",
      "std      1.000005e+00\n",
      "min     -3.895112e-01\n",
      "25%     -3.895112e-01\n",
      "50%     -3.895112e-01\n",
      "75%     -5.077099e-02\n",
      "max      4.088468e+01\n",
      "Name: ArrivalDelay_in_Mins, dtype: float64\n",
      "-------------------------------------\n",
      "Distribution of ArrivalDelay_in_Mins\n",
      "---------------------------------------\n"
     ]
    },
    {
     "data": {
      "image/png": "[encoded data removed]",
      "text/plain": [
       "<Figure size 432x288 with 1 Axes>"
      ]
     },
     "metadata": {
      "needs_background": "light"
     },
     "output_type": "display_data"
    },
    {
     "name": "stdout",
     "output_type": "stream",
     "text": [
      "BoxPlot ofArrivalDelay_in_Mins\n",
      "-----------------------------------------\n"
     ]
    },
    {
     "data": {
      "image/png": "[encoded data removed]",
      "text/plain": [
       "<Figure size 432x288 with 1 Axes>"
      ]
     },
     "metadata": {
      "needs_background": "light"
     },
     "output_type": "display_data"
    },
    {
     "name": "stdout",
     "output_type": "stream",
     "text": [
      "Description of Seat_comfort\n",
      "---------------------------------------\n",
      "count    94379.000000\n",
      "mean         2.839286\n",
      "std          1.392082\n",
      "min          0.000000\n",
      "25%          2.000000\n",
      "50%          3.000000\n",
      "75%          4.000000\n",
      "max          5.000000\n",
      "Name: Seat_comfort, dtype: float64\n",
      "-------------------------------------\n",
      "Distribution of Seat_comfort\n",
      "---------------------------------------\n"
     ]
    },
    {
     "data": {
      "image/png": "[encoded data removed]",
      "text/plain": [
       "<Figure size 432x288 with 1 Axes>"
      ]
     },
     "metadata": {
      "needs_background": "light"
     },
     "output_type": "display_data"
    },
    {
     "name": "stdout",
     "output_type": "stream",
     "text": [
      "BoxPlot ofSeat_comfort\n",
      "-----------------------------------------\n"
     ]
    },
    {
     "data": {
      "image/png": "[encoded data removed]",
      "text/plain": [
       "<Figure size 432x288 with 1 Axes>"
      ]
     },
     "metadata": {
      "needs_background": "light"
     },
     "output_type": "display_data"
    },
    {
     "name": "stdout",
     "output_type": "stream",
     "text": [
      "Description of Seat_Class\n",
      "---------------------------------------\n",
      "count    94379.000000\n",
      "mean         0.502601\n",
      "std          0.499996\n",
      "min          0.000000\n",
      "25%          0.000000\n",
      "50%          1.000000\n",
      "75%          1.000000\n",
      "max          1.000000\n",
      "Name: Seat_Class, dtype: float64\n",
      "-------------------------------------\n",
      "Distribution of Seat_Class\n",
      "---------------------------------------\n"
     ]
    },
    {
     "data": {
      "image/png": "[encoded data removed]",
      "text/plain": [
       "<Figure size 432x288 with 1 Axes>"
      ]
     },
     "metadata": {
      "needs_background": "light"
     },
     "output_type": "display_data"
    },
    {
     "name": "stdout",
     "output_type": "stream",
     "text": [
      "BoxPlot ofSeat_Class\n",
      "-----------------------------------------\n"
     ]
    },
    {
     "data": {
      "image/png": "[encoded data removed]",
      "text/plain": [
       "<Figure size 432x288 with 1 Axes>"
      ]
     },
     "metadata": {
      "needs_background": "light"
     },
     "output_type": "display_data"
    },
    {
     "name": "stdout",
     "output_type": "stream",
     "text": [
      "Description of Arrival_time_convenient\n",
      "---------------------------------------\n",
      "count    94379.000000\n",
      "mean         3.090084\n",
      "std          1.481769\n",
      "min          0.000000\n",
      "25%          2.000000\n",
      "50%          3.000000\n",
      "75%          4.000000\n",
      "max          5.000000\n",
      "Name: Arrival_time_convenient, dtype: float64\n",
      "-------------------------------------\n",
      "Distribution of Arrival_time_convenient\n",
      "---------------------------------------\n"
     ]
    },
    {
     "data": {
      "image/png": "[encoded data removed]",
      "text/plain": [
       "<Figure size 432x288 with 1 Axes>"
      ]
     },
     "metadata": {
      "needs_background": "light"
     },
     "output_type": "display_data"
    },
    {
     "name": "stdout",
     "output_type": "stream",
     "text": [
      "BoxPlot ofArrival_time_convenient\n",
      "-----------------------------------------\n"
     ]
    },
    {
     "data": {
      "image/png": "[encoded data removed]",
      "text/plain": [
       "<Figure size 432x288 with 1 Axes>"
      ]
     },
     "metadata": {
      "needs_background": "light"
     },
     "output_type": "display_data"
    },
    {
     "name": "stdout",
     "output_type": "stream",
     "text": [
      "Description of Catering\n",
      "---------------------------------------\n",
      "count    94379.000000\n",
      "mean         2.867078\n",
      "std          1.376110\n",
      "min          0.000000\n",
      "25%          2.000000\n",
      "50%          3.000000\n",
      "75%          4.000000\n",
      "max          5.000000\n",
      "Name: Catering, dtype: float64\n",
      "-------------------------------------\n",
      "Distribution of Catering\n",
      "---------------------------------------\n"
     ]
    },
    {
     "data": {
      "image/png": "[encoded data removed]",
      "text/plain": [
       "<Figure size 432x288 with 1 Axes>"
      ]
     },
     "metadata": {
      "needs_background": "light"
     },
     "output_type": "display_data"
    },
    {
     "name": "stdout",
     "output_type": "stream",
     "text": [
      "BoxPlot ofCatering\n",
      "-----------------------------------------\n"
     ]
    },
    {
     "data": {
      "image/png": "[encoded data removed]",
      "text/plain": [
       "<Figure size 432x288 with 1 Axes>"
      ]
     },
     "metadata": {
      "needs_background": "light"
     },
     "output_type": "display_data"
    },
    {
     "name": "stdout",
     "output_type": "stream",
     "text": [
      "Description of Platform_location\n",
      "---------------------------------------\n",
      "count    94379.000000\n",
      "mean         2.990867\n",
      "std          1.308025\n",
      "min          0.000000\n",
      "25%          2.000000\n",
      "50%          3.000000\n",
      "75%          4.000000\n",
      "max          5.000000\n",
      "Name: Platform_location, dtype: float64\n",
      "-------------------------------------\n",
      "Distribution of Platform_location\n",
      "---------------------------------------\n"
     ]
    },
    {
     "data": {
      "image/png": "[encoded data removed]",
      "text/plain": [
       "<Figure size 432x288 with 1 Axes>"
      ]
     },
     "metadata": {
      "needs_background": "light"
     },
     "output_type": "display_data"
    },
    {
     "name": "stdout",
     "output_type": "stream",
     "text": [
      "BoxPlot ofPlatform_location\n",
      "-----------------------------------------\n"
     ]
    },
    {
     "data": {
      "image/png": "[encoded data removed]",
      "text/plain": [
       "<Figure size 432x288 with 1 Axes>"
      ]
     },
     "metadata": {
      "needs_background": "light"
     },
     "output_type": "display_data"
    },
    {
     "name": "stdout",
     "output_type": "stream",
     "text": [
      "Description of Onboardwifi_service\n",
      "---------------------------------------\n",
      "count    94379.000000\n",
      "mean         3.248466\n",
      "std          1.319379\n",
      "min          0.000000\n",
      "25%          2.000000\n",
      "50%          3.000000\n",
      "75%          4.000000\n",
      "max          5.000000\n",
      "Name: Onboardwifi_service, dtype: float64\n",
      "-------------------------------------\n",
      "Distribution of Onboardwifi_service\n",
      "---------------------------------------\n"
     ]
    },
    {
     "data": {
      "image/png": "[encoded data removed]",
      "text/plain": [
       "<Figure size 432x288 with 1 Axes>"
      ]
     },
     "metadata": {
      "needs_background": "light"
     },
     "output_type": "display_data"
    },
    {
     "name": "stdout",
     "output_type": "stream",
     "text": [
      "BoxPlot ofOnboardwifi_service\n",
      "-----------------------------------------\n"
     ]
    },
    {
     "data": {
      "image/png": "[encoded data removed]",
      "text/plain": [
       "<Figure size 432x288 with 1 Axes>"
      ]
     },
     "metadata": {
      "needs_background": "light"
     },
     "output_type": "display_data"
    },
    {
     "name": "stdout",
     "output_type": "stream",
     "text": [
      "Description of Onboard_entertainment\n",
      "---------------------------------------\n",
      "count    94379.000000\n",
      "mean         3.382627\n",
      "std          1.346088\n",
      "min          0.000000\n",
      "25%          2.000000\n",
      "50%          4.000000\n",
      "75%          4.000000\n",
      "max          5.000000\n",
      "Name: Onboard_entertainment, dtype: float64\n",
      "-------------------------------------\n",
      "Distribution of Onboard_entertainment\n",
      "---------------------------------------\n"
     ]
    },
    {
     "data": {
      "image/png": "[encoded data removed]",
      "text/plain": [
       "<Figure size 432x288 with 1 Axes>"
      ]
     },
     "metadata": {
      "needs_background": "light"
     },
     "output_type": "display_data"
    },
    {
     "name": "stdout",
     "output_type": "stream",
     "text": [
      "BoxPlot ofOnboard_entertainment\n",
      "-----------------------------------------\n"
     ]
    },
    {
     "data": {
      "image/png": "[encoded data removed]",
      "text/plain": [
       "<Figure size 432x288 with 1 Axes>"
      ]
     },
     "metadata": {
      "needs_background": "light"
     },
     "output_type": "display_data"
    },
    {
     "name": "stdout",
     "output_type": "stream",
     "text": [
      "Description of Online_support\n",
      "---------------------------------------\n",
      "count    94379.000000\n",
      "mean         3.519713\n",
      "std          1.307628\n",
      "min          0.000000\n",
      "25%          3.000000\n",
      "50%          4.000000\n",
      "75%          5.000000\n",
      "max          5.000000\n",
      "Name: Online_support, dtype: float64\n",
      "-------------------------------------\n",
      "Distribution of Online_support\n",
      "---------------------------------------\n"
     ]
    },
    {
     "data": {
      "image/png": "[encoded data removed]",
      "text/plain": [
       "<Figure size 432x288 with 1 Axes>"
      ]
     },
     "metadata": {
      "needs_background": "light"
     },
     "output_type": "display_data"
    },
    {
     "name": "stdout",
     "output_type": "stream",
     "text": [
      "BoxPlot ofOnline_support\n",
      "-----------------------------------------\n"
     ]
    },
    {
     "data": {
      "image/png": "[encoded data removed]",
      "text/plain": [
       "<Figure size 432x288 with 1 Axes>"
      ]
     },
     "metadata": {
      "needs_background": "light"
     },
     "output_type": "display_data"
    },
    {
     "name": "stdout",
     "output_type": "stream",
     "text": [
      "Description of Onlinebooking_Ease\n",
      "---------------------------------------\n",
      "count    94379.000000\n",
      "mean         3.470518\n",
      "std          1.305124\n",
      "min          0.000000\n",
      "25%          2.000000\n",
      "50%          4.000000\n",
      "75%          5.000000\n",
      "max          5.000000\n",
      "Name: Onlinebooking_Ease, dtype: float64\n",
      "-------------------------------------\n",
      "Distribution of Onlinebooking_Ease\n",
      "---------------------------------------\n"
     ]
    },
    {
     "data": {
      "image/png": "[encoded data removed]",
      "text/plain": [
       "<Figure size 432x288 with 1 Axes>"
      ]
     },
     "metadata": {
      "needs_background": "light"
     },
     "output_type": "display_data"
    },
    {
     "name": "stdout",
     "output_type": "stream",
     "text": [
      "BoxPlot ofOnlinebooking_Ease\n",
      "-----------------------------------------\n"
     ]
    },
    {
     "data": {
      "image/png": "[encoded data removed]",
      "text/plain": [
       "<Figure size 432x288 with 1 Axes>"
      ]
     },
     "metadata": {
      "needs_background": "light"
     },
     "output_type": "display_data"
    },
    {
     "name": "stdout",
     "output_type": "stream",
     "text": [
      "Description of Onboard_service\n",
      "---------------------------------------\n",
      "count    94379.000000\n",
      "mean         3.513419\n",
      "std          1.224912\n",
      "min          0.000000\n",
      "25%          3.000000\n",
      "50%          4.000000\n",
      "75%          4.000000\n",
      "max          5.000000\n",
      "Name: Onboard_service, dtype: float64\n",
      "-------------------------------------\n",
      "Distribution of Onboard_service\n",
      "---------------------------------------\n"
     ]
    },
    {
     "data": {
      "image/png": "[encoded data removed]",
      "text/plain": [
       "<Figure size 432x288 with 1 Axes>"
      ]
     },
     "metadata": {
      "needs_background": "light"
     },
     "output_type": "display_data"
    },
    {
     "name": "stdout",
     "output_type": "stream",
     "text": [
      "BoxPlot ofOnboard_service\n",
      "-----------------------------------------\n"
     ]
    },
    {
     "data": {
      "image/png": "[encoded data removed]",
      "text/plain": [
       "<Figure size 432x288 with 1 Axes>"
      ]
     },
     "metadata": {
      "needs_background": "light"
     },
     "output_type": "display_data"
    },
    {
     "name": "stdout",
     "output_type": "stream",
     "text": [
      "Description of Leg_room\n",
      "---------------------------------------\n",
      "count    94379.000000\n",
      "mean         3.483487\n",
      "std          1.291743\n",
      "min          0.000000\n",
      "25%          2.000000\n",
      "50%          4.000000\n",
      "75%          5.000000\n",
      "max          5.000000\n",
      "Name: Leg_room, dtype: float64\n",
      "-------------------------------------\n",
      "Distribution of Leg_room\n",
      "---------------------------------------\n"
     ]
    },
    {
     "data": {
      "image/png": "[encoded data removed]",
      "text/plain": [
       "<Figure size 432x288 with 1 Axes>"
      ]
     },
     "metadata": {
      "needs_background": "light"
     },
     "output_type": "display_data"
    },
    {
     "name": "stdout",
     "output_type": "stream",
     "text": [
      "BoxPlot ofLeg_room\n",
      "-----------------------------------------\n"
     ]
    },
    {
     "data": {
      "image/png": "[encoded data removed]",
      "text/plain": [
       "<Figure size 432x288 with 1 Axes>"
      ]
     },
     "metadata": {
      "needs_background": "light"
     },
     "output_type": "display_data"
    },
    {
     "name": "stdout",
     "output_type": "stream",
     "text": [
      "Description of Baggage_handling\n",
      "---------------------------------------\n",
      "count    94379.000000\n",
      "mean         3.697242\n",
      "std          1.155589\n",
      "min          1.000000\n",
      "25%          3.000000\n",
      "50%          4.000000\n",
      "75%          5.000000\n",
      "max          5.000000\n",
      "Name: Baggage_handling, dtype: float64\n",
      "-------------------------------------\n",
      "Distribution of Baggage_handling\n",
      "---------------------------------------\n"
     ]
    },
    {
     "data": {
      "image/png": "[encoded data removed]",
      "text/plain": [
       "<Figure size 432x288 with 1 Axes>"
      ]
     },
     "metadata": {
      "needs_background": "light"
     },
     "output_type": "display_data"
    },
    {
     "name": "stdout",
     "output_type": "stream",
     "text": [
      "BoxPlot ofBaggage_handling\n",
      "-----------------------------------------\n"
     ]
    },
    {
     "data": {
      "image/png": "[encoded data removed]",
      "text/plain": [
       "<Figure size 432x288 with 1 Axes>"
      ]
     },
     "metadata": {
      "needs_background": "light"
     },
     "output_type": "display_data"
    },
    {
     "name": "stdout",
     "output_type": "stream",
     "text": [
      "Description of Checkin_service\n",
      "---------------------------------------\n",
      "count    94379.000000\n",
      "mean         3.342936\n",
      "std          1.259933\n",
      "min          0.000000\n",
      "25%          3.000000\n",
      "50%          3.000000\n",
      "75%          4.000000\n",
      "max          5.000000\n",
      "Name: Checkin_service, dtype: float64\n",
      "-------------------------------------\n",
      "Distribution of Checkin_service\n",
      "---------------------------------------\n"
     ]
    },
    {
     "data": {
      "image/png": "[encoded data removed]",
      "text/plain": [
       "<Figure size 432x288 with 1 Axes>"
      ]
     },
     "metadata": {
      "needs_background": "light"
     },
     "output_type": "display_data"
    },
    {
     "name": "stdout",
     "output_type": "stream",
     "text": [
      "BoxPlot ofCheckin_service\n",
      "-----------------------------------------\n"
     ]
    },
    {
     "data": {
      "image/png": "[encoded data removed]",
      "text/plain": [
       "<Figure size 432x288 with 1 Axes>"
      ]
     },
     "metadata": {
      "needs_background": "light"
     },
     "output_type": "display_data"
    },
    {
     "name": "stdout",
     "output_type": "stream",
     "text": [
      "Description of Cleanliness\n",
      "---------------------------------------\n",
      "count    94379.000000\n",
      "mean         3.704097\n",
      "std          1.151954\n",
      "min          0.000000\n",
      "25%          3.000000\n",
      "50%          4.000000\n",
      "75%          5.000000\n",
      "max          5.000000\n",
      "Name: Cleanliness, dtype: float64\n",
      "-------------------------------------\n",
      "Distribution of Cleanliness\n",
      "---------------------------------------\n"
     ]
    },
    {
     "data": {
      "image/png": "[encoded data removed]",
      "text/plain": [
       "<Figure size 432x288 with 1 Axes>"
      ]
     },
     "metadata": {
      "needs_background": "light"
     },
     "output_type": "display_data"
    },
    {
     "name": "stdout",
     "output_type": "stream",
     "text": [
      "BoxPlot ofCleanliness\n",
      "-----------------------------------------\n"
     ]
    },
    {
     "data": {
      "image/png": "[encoded data removed]",
      "text/plain": [
       "<Figure size 432x288 with 1 Axes>"
      ]
     },
     "metadata": {
      "needs_background": "light"
     },
     "output_type": "display_data"
    },
    {
     "name": "stdout",
     "output_type": "stream",
     "text": [
      "Description of Online_boarding\n",
      "---------------------------------------\n",
      "count    94379.000000\n",
      "mean         3.351943\n",
      "std          1.298030\n",
      "min          0.000000\n",
      "25%          2.000000\n",
      "50%          4.000000\n",
      "75%          4.000000\n",
      "max          5.000000\n",
      "Name: Online_boarding, dtype: float64\n",
      "-------------------------------------\n",
      "Distribution of Online_boarding\n",
      "---------------------------------------\n"
     ]
    },
    {
     "data": {
      "image/png": "[encoded data removed]",
      "text/plain": [
       "<Figure size 432x288 with 1 Axes>"
      ]
     },
     "metadata": {
      "needs_background": "light"
     },
     "output_type": "display_data"
    },
    {
     "name": "stdout",
     "output_type": "stream",
     "text": [
      "BoxPlot ofOnline_boarding\n",
      "-----------------------------------------\n"
     ]
    },
    {
     "data": {
      "image/png": "[encoded data removed]",
      "text/plain": [
       "<Figure size 432x288 with 1 Axes>"
      ]
     },
     "metadata": {
      "needs_background": "light"
     },
     "output_type": "display_data"
    },
    {
     "name": "stdout",
     "output_type": "stream",
     "text": [
      "Description of Gender\n",
      "---------------------------------------\n",
      "count    94379.000000\n",
      "mean         0.492557\n",
      "std          0.499947\n",
      "min          0.000000\n",
      "25%          0.000000\n",
      "50%          0.000000\n",
      "75%          1.000000\n",
      "max          1.000000\n",
      "Name: Gender, dtype: float64\n",
      "-------------------------------------\n",
      "Distribution of Gender\n",
      "---------------------------------------\n"
     ]
    },
    {
     "data": {
      "image/png": "[encoded data removed]",
      "text/plain": [
       "<Figure size 432x288 with 1 Axes>"
      ]
     },
     "metadata": {
      "needs_background": "light"
     },
     "output_type": "display_data"
    },
    {
     "name": "stdout",
     "output_type": "stream",
     "text": [
      "BoxPlot ofGender\n",
      "-----------------------------------------\n"
     ]
    },
    {
     "data": {
      "image/png": "[encoded data removed]",
      "text/plain": [
       "<Figure size 432x288 with 1 Axes>"
      ]
     },
     "metadata": {
      "needs_background": "light"
     },
     "output_type": "display_data"
    },
    {
     "name": "stdout",
     "output_type": "stream",
     "text": [
      "Description of CustomerType\n",
      "---------------------------------------\n",
      "count    94379.000000\n",
      "mean         0.834656\n",
      "std          0.371493\n",
      "min          0.000000\n",
      "25%          1.000000\n",
      "50%          1.000000\n",
      "75%          1.000000\n",
      "max          1.000000\n",
      "Name: CustomerType, dtype: float64\n",
      "-------------------------------------\n",
      "Distribution of CustomerType\n",
      "---------------------------------------\n"
     ]
    },
    {
     "data": {
      "image/png": "[encoded data removed]",
      "text/plain": [
       "<Figure size 432x288 with 1 Axes>"
      ]
     },
     "metadata": {
      "needs_background": "light"
     },
     "output_type": "display_data"
    },
    {
     "name": "stdout",
     "output_type": "stream",
     "text": [
      "BoxPlot ofCustomerType\n",
      "-----------------------------------------\n"
     ]
    },
    {
     "data": {
      "image/png": "[encoded data removed]",
      "text/plain": [
       "<Figure size 432x288 with 1 Axes>"
      ]
     },
     "metadata": {
      "needs_background": "light"
     },
     "output_type": "display_data"
    },
    {
     "name": "stdout",
     "output_type": "stream",
     "text": [
      "Description of TypeTravel\n",
      "---------------------------------------\n",
      "count    94379.000000\n",
      "mean         0.718836\n",
      "std          0.449570\n",
      "min          0.000000\n",
      "25%          0.000000\n",
      "50%          1.000000\n",
      "75%          1.000000\n",
      "max          1.000000\n",
      "Name: TypeTravel, dtype: float64\n",
      "-------------------------------------\n",
      "Distribution of TypeTravel\n",
      "---------------------------------------\n"
     ]
    },
    {
     "data": {
      "image/png": "[encoded data removed]",
      "text/plain": [
       "<Figure size 432x288 with 1 Axes>"
      ]
     },
     "metadata": {
      "needs_background": "light"
     },
     "output_type": "display_data"
    },
    {
     "name": "stdout",
     "output_type": "stream",
     "text": [
      "BoxPlot ofTypeTravel\n",
      "-----------------------------------------\n"
     ]
    },
    {
     "data": {
      "image/png": "[encoded data removed]",
      "text/plain": [
       "<Figure size 432x288 with 1 Axes>"
      ]
     },
     "metadata": {
      "needs_background": "light"
     },
     "output_type": "display_data"
    },
    {
     "name": "stdout",
     "output_type": "stream",
     "text": [
      "Description of Travel_Class\n",
      "---------------------------------------\n",
      "count    94379.000000\n",
      "mean         0.477193\n",
      "std          0.499482\n",
      "min          0.000000\n",
      "25%          0.000000\n",
      "50%          0.000000\n",
      "75%          1.000000\n",
      "max          1.000000\n",
      "Name: Travel_Class, dtype: float64\n",
      "-------------------------------------\n",
      "Distribution of Travel_Class\n",
      "---------------------------------------\n"
     ]
    },
    {
     "data": {
      "image/png": "[encoded data removed]",
      "text/plain": [
       "<Figure size 432x288 with 1 Axes>"
      ]
     },
     "metadata": {
      "needs_background": "light"
     },
     "output_type": "display_data"
    },
    {
     "name": "stdout",
     "output_type": "stream",
     "text": [
      "BoxPlot ofTravel_Class\n",
      "-----------------------------------------\n"
     ]
    },
    {
     "data": {
      "image/png": "[encoded data removed]",
      "text/plain": [
       "<Figure size 432x288 with 1 Axes>"
      ]
     },
     "metadata": {
      "needs_background": "light"
     },
     "output_type": "display_data"
    }
   ],
   "source": [
    "for x in listnumericcolumns:\n",
    "    univariateAnalysis_numeric(x, 30)"
   ]
  },
  {
   "cell_type": "code",
   "execution_count": 120,
   "id": "274b875d",
   "metadata": {},
   "outputs": [
    {
     "data": {
      "text/plain": [
       "Index(['Overall_Experience', 'Age', 'Travel_Distance',\n",
       "       'DepartureDelay_in_Mins', 'ArrivalDelay_in_Mins', 'Seat_comfort',\n",
       "       'Seat_Class', 'Arrival_time_convenient', 'Catering',\n",
       "       'Platform_location', 'Onboardwifi_service', 'Onboard_entertainment',\n",
       "       'Online_support', 'Onlinebooking_Ease', 'Onboard_service', 'Leg_room',\n",
       "       'Baggage_handling', 'Checkin_service', 'Cleanliness', 'Online_boarding',\n",
       "       'Gender', 'CustomerType', 'TypeTravel', 'Travel_Class'],\n",
       "      dtype='object')"
      ]
     },
     "execution_count": 120,
     "metadata": {},
     "output_type": "execute_result"
    }
   ],
   "source": [
    "df_train.columns"
   ]
  },
  {
   "cell_type": "markdown",
   "id": "70a3e05a",
   "metadata": {},
   "source": [
    "## Pairplot"
   ]
  },
  {
   "cell_type": "code",
   "execution_count": 121,
   "id": "2f733421",
   "metadata": {},
   "outputs": [],
   "source": [
    "#sns.pairplot(df_train, hue = 'Overall_Experience',diag_kind='kde' );"
   ]
  },
  {
   "cell_type": "markdown",
   "id": "ca688f98",
   "metadata": {},
   "source": [
    "## Proportion of Delighted customers:"
   ]
  },
  {
   "cell_type": "code",
   "execution_count": 122,
   "id": "6ac216ac",
   "metadata": {},
   "outputs": [
    {
     "data": {
      "text/plain": [
       "1    0.546658\n",
       "0    0.453342\n",
       "Name: Overall_Experience, dtype: float64"
      ]
     },
     "execution_count": 122,
     "metadata": {},
     "output_type": "execute_result"
    }
   ],
   "source": [
    "df_train['Overall_Experience'].value_counts(normalize = True)"
   ]
  },
  {
   "cell_type": "markdown",
   "id": "87f69458",
   "metadata": {},
   "source": [
    "**0's and 1's are approimately in same proportions, So dataset is not a biased**"
   ]
  },
  {
   "cell_type": "markdown",
   "id": "d288e78b",
   "metadata": {},
   "source": [
    "## Checking for Correlation"
   ]
  },
  {
   "cell_type": "code",
   "execution_count": 123,
   "id": "8373a363",
   "metadata": {},
   "outputs": [],
   "source": [
    "#plt.figure(figsize=(12,7))\n",
    "#sns.heatmap(df_train.corr(), annot = True , fmt = '.2f');"
   ]
  },
  {
   "cell_type": "code",
   "execution_count": 124,
   "id": "31ed71fd",
   "metadata": {},
   "outputs": [],
   "source": [
    "# making copies of dataset\n",
    "df_train_1 = df_train.copy()\n",
    "df_train_2 = df_train.copy()"
   ]
  },
  {
   "cell_type": "markdown",
   "id": "ee1aad7f",
   "metadata": {},
   "source": [
    "## Extracting the target column into separate vectors for training set and test set"
   ]
  },
  {
   "cell_type": "code",
   "execution_count": 125,
   "id": "35026510",
   "metadata": {},
   "outputs": [],
   "source": [
    "X = df_train_1.drop('Overall_Experience', axis = 1)\n",
    "\n",
    "y = df_train_1.pop('Overall_Experience')"
   ]
  },
  {
   "cell_type": "markdown",
   "id": "d9b1d026",
   "metadata": {},
   "source": [
    "## Splitting data into training and Validation set"
   ]
  },
  {
   "cell_type": "code",
   "execution_count": 126,
   "id": "9fa68f14",
   "metadata": {},
   "outputs": [],
   "source": [
    "X_train, X_test, y_train, y_test = train_test_split(X, y, test_size = 0.3, random_state = 1)"
   ]
  },
  {
   "cell_type": "code",
   "execution_count": 127,
   "id": "cc703094",
   "metadata": {},
   "outputs": [
    {
     "name": "stdout",
     "output_type": "stream",
     "text": [
      "X_train (66065, 23)\n",
      "X_test (28314, 23)\n",
      "y_train (66065,)\n",
      "y_test (28314,)\n"
     ]
    }
   ],
   "source": [
    "print('X_train',X_train.shape)\n",
    "print('X_test',X_test.shape)\n",
    "print('y_train',y_train.shape)\n",
    "print('y_test',y_test.shape)"
   ]
  },
  {
   "cell_type": "markdown",
   "id": "coastal-wagner",
   "metadata": {},
   "source": [
    "## Logistic Regression"
   ]
  },
  {
   "cell_type": "code",
   "execution_count": 128,
   "id": "0e648488",
   "metadata": {},
   "outputs": [
    {
     "name": "stdout",
     "output_type": "stream",
     "text": [
      "Accuracy of Train data for Logistic Regression:  0.8316506470899871\n",
      "Accuracy of Test data for Logistic Regression: 0.8319206046478774\n"
     ]
    }
   ],
   "source": [
    "lr = LogisticRegression(random_state= 1)\n",
    "lr.fit(X_train, y_train)\n",
    "\n",
    "ytrain_predict = lr.predict(X_train)\n",
    "print('Accuracy of Train data for Logistic Regression: ',accuracy_score(y_train, ytrain_predict))\n",
    "\n",
    "ytest_predict = lr.predict(X_test)\n",
    "print('Accuracy of Test data for Logistic Regression:' ,accuracy_score(y_test, ytest_predict))"
   ]
  },
  {
   "cell_type": "markdown",
   "id": "f431bf82",
   "metadata": {},
   "source": [
    "# Applying GridSearchCV for Logistic Regression"
   ]
  },
  {
   "cell_type": "code",
   "execution_count": 129,
   "id": "73790fce",
   "metadata": {},
   "outputs": [],
   "source": [
    "grid={'penalty':['l1','l2','none'],\n",
    "      'solver':['lbfgs', 'liblinear','newton-cg'],\n",
    "      'max_iter':[1000,5000,10000,100000],\n",
    "      'tol':[0.0001,0.000001]}"
   ]
  },
  {
   "cell_type": "code",
   "execution_count": 130,
   "id": "2b71c033",
   "metadata": {},
   "outputs": [],
   "source": [
    "model = LogisticRegression(n_jobs=-1)"
   ]
  },
  {
   "cell_type": "code",
   "execution_count": 131,
   "id": "a2b2afe3",
   "metadata": {},
   "outputs": [
    {
     "data": {
      "text/plain": [
       "GridSearchCV(cv=5, estimator=LogisticRegression(n_jobs=-1), n_jobs=-1,\n",
       "             param_grid={'max_iter': [1000, 5000, 10000, 100000],\n",
       "                         'penalty': ['l1', 'l2', 'none'],\n",
       "                         'solver': ['lbfgs', 'liblinear', 'newton-cg'],\n",
       "                         'tol': [0.0001, 1e-06]},\n",
       "             scoring='f1')"
      ]
     },
     "execution_count": 131,
     "metadata": {},
     "output_type": "execute_result"
    }
   ],
   "source": [
    "grid_search = GridSearchCV(estimator = model, param_grid = grid, cv = 5,n_jobs=-1,scoring='f1')\n",
    "grid_search.fit(X_train, y_train)"
   ]
  },
  {
   "cell_type": "code",
   "execution_count": 132,
   "id": "73be3b79",
   "metadata": {},
   "outputs": [
    {
     "name": "stdout",
     "output_type": "stream",
     "text": [
      "{'max_iter': 1000, 'penalty': 'l1', 'solver': 'liblinear', 'tol': 1e-06} \n",
      "\n",
      "LogisticRegression(max_iter=1000, n_jobs=-1, penalty='l1', solver='liblinear',\n",
      "                   tol=1e-06)\n"
     ]
    }
   ],
   "source": [
    "print(grid_search.best_params_,'\\n')\n",
    "print(grid_search.best_estimator_)"
   ]
  },
  {
   "cell_type": "code",
   "execution_count": 133,
   "id": "7f4fcaad",
   "metadata": {},
   "outputs": [],
   "source": [
    "LR = grid_search.best_estimator_"
   ]
  },
  {
   "cell_type": "code",
   "execution_count": 134,
   "id": "5294b6cd",
   "metadata": {},
   "outputs": [
    {
     "data": {
      "text/plain": [
       "0.8316960569136457"
      ]
     },
     "metadata": {},
     "output_type": "display_data"
    },
    {
     "data": {
      "text/plain": [
       "0.8317793317793318"
      ]
     },
     "metadata": {},
     "output_type": "display_data"
    }
   ],
   "source": [
    "ytrain_predict = LR.predict(X_train)\n",
    "display(accuracy_score(y_train, ytrain_predict))\n",
    "ytest_predict = LR.predict(X_test)\n",
    "display(accuracy_score(y_test, ytest_predict))"
   ]
  },
  {
   "cell_type": "markdown",
   "id": "according-desire",
   "metadata": {},
   "source": [
    "## Linear Discriminant Analysis - LDA"
   ]
  },
  {
   "cell_type": "code",
   "execution_count": 135,
   "id": "55f095d7",
   "metadata": {},
   "outputs": [
    {
     "data": {
      "text/plain": [
       "LinearDiscriminantAnalysis()"
      ]
     },
     "execution_count": 135,
     "metadata": {},
     "output_type": "execute_result"
    }
   ],
   "source": [
    "#Build LDA Model\n",
    "LDA = LinearDiscriminantAnalysis()\n",
    "LDA.fit(X_train,y_train)"
   ]
  },
  {
   "cell_type": "code",
   "execution_count": 136,
   "id": "2f563573",
   "metadata": {},
   "outputs": [
    {
     "data": {
      "text/plain": [
       "0.8329372587603118"
      ]
     },
     "metadata": {},
     "output_type": "display_data"
    },
    {
     "data": {
      "text/plain": [
       "0.8322737868192414"
      ]
     },
     "metadata": {},
     "output_type": "display_data"
    }
   ],
   "source": [
    "pred_class_train = LDA.predict(X_train)\n",
    "display(accuracy_score(y_train, pred_class_train))\n",
    "pred_class_test = LDA.predict(X_test)\n",
    "display(accuracy_score(y_test, pred_class_test))"
   ]
  },
  {
   "cell_type": "markdown",
   "id": "continuous-register",
   "metadata": {},
   "source": [
    "## Naïve Bayes Model"
   ]
  },
  {
   "cell_type": "code",
   "execution_count": 137,
   "id": "91b07545",
   "metadata": {},
   "outputs": [
    {
     "data": {
      "text/plain": [
       "GaussianNB()"
      ]
     },
     "execution_count": 137,
     "metadata": {},
     "output_type": "execute_result"
    }
   ],
   "source": [
    "# Build GaussianNB model\n",
    "NB_model = GaussianNB()\n",
    "NB_model.fit(X_train, y_train)"
   ]
  },
  {
   "cell_type": "code",
   "execution_count": 138,
   "id": "1cbc554a",
   "metadata": {},
   "outputs": [
    {
     "data": {
      "text/plain": [
       "0.8161356240066601"
      ]
     },
     "metadata": {},
     "output_type": "display_data"
    },
    {
     "data": {
      "text/plain": [
       "0.8178639542275906"
      ]
     },
     "metadata": {},
     "output_type": "display_data"
    }
   ],
   "source": [
    "ytrain_predict_NB = NB_model.predict(X_train)\n",
    "display(accuracy_score(y_train, ytrain_predict_NB))\n",
    "ytest_predict_NB = NB_model.predict(X_test)\n",
    "display(accuracy_score(y_test, ytest_predict_NB))"
   ]
  },
  {
   "cell_type": "code",
   "execution_count": 139,
   "id": "ee4401c8",
   "metadata": {},
   "outputs": [
    {
     "data": {
      "text/plain": [
       "RandomForestClassifier(max_depth=20, max_features=15, n_estimators=220,\n",
       "                       random_state=1)"
      ]
     },
     "execution_count": 139,
     "metadata": {},
     "output_type": "execute_result"
    }
   ],
   "source": [
    "rf = RandomForestClassifier(n_estimators=220, max_depth= 20, max_features= 15, random_state = 1)\n",
    "rf.fit(X_train, y_train)"
   ]
  },
  {
   "cell_type": "code",
   "execution_count": 140,
   "id": "60871a69",
   "metadata": {},
   "outputs": [
    {
     "data": {
      "text/plain": [
       "0.996927268599107"
      ]
     },
     "metadata": {},
     "output_type": "display_data"
    },
    {
     "data": {
      "text/plain": [
       "0.9524969979515434"
      ]
     },
     "metadata": {},
     "output_type": "display_data"
    }
   ],
   "source": [
    "ytrain_predict_rf = rf.predict(X_train)\n",
    "display(accuracy_score(y_train, ytrain_predict_rf))\n",
    "ytest_predict_rf = rf.predict(X_test)\n",
    "display(accuracy_score(y_test, ytest_predict_rf))"
   ]
  },
  {
   "cell_type": "code",
   "execution_count": 141,
   "id": "127ba926",
   "metadata": {},
   "outputs": [
    {
     "data": {
      "text/plain": [
       "0.9968818587754484"
      ]
     },
     "metadata": {},
     "output_type": "display_data"
    },
    {
     "data": {
      "text/plain": [
       "0.9529914529914529"
      ]
     },
     "metadata": {},
     "output_type": "display_data"
    }
   ],
   "source": [
    "rf1 = RandomForestClassifier(n_estimators=300, max_depth= 20, max_features= 15, random_state = 1)\n",
    "rf1.fit(X_train, y_train)\n",
    "ytrain_predict_rf1 = rf1.predict(X_train)\n",
    "display(accuracy_score(y_train, ytrain_predict_rf1))\n",
    "ytest_predict_rf1 = rf1.predict(X_test)\n",
    "display(accuracy_score(y_test, ytest_predict_rf1))"
   ]
  },
  {
   "cell_type": "code",
   "execution_count": 142,
   "id": "9f637360",
   "metadata": {},
   "outputs": [],
   "source": [
    "##-------Best model-------### \n",
    "df_test1 = df_test_num.copy()\n",
    "prediction = rf1.predict(df_test)\n",
    "df_test1['Overall_Experience'] = prediction\n",
    "sample = df_test1[['ID', 'Overall_Experience']]\n",
    "sample.to_csv('Prediction1.csv')"
   ]
  },
  {
   "cell_type": "code",
   "execution_count": 143,
   "id": "38f76ef8",
   "metadata": {},
   "outputs": [
    {
     "data": {
      "text/plain": [
       "0.9988496178006508"
      ]
     },
     "metadata": {},
     "output_type": "display_data"
    },
    {
     "data": {
      "text/plain": [
       "0.9537684537684538"
      ]
     },
     "metadata": {},
     "output_type": "display_data"
    }
   ],
   "source": [
    "ada = AdaBoostClassifier(base_estimator=rf, n_estimators=22, learning_rate=0.1, random_state= 88)\n",
    "ada.fit(X_train, y_train)\n",
    "ytrain_predict_ada = ada.predict(X_train)\n",
    "display(accuracy_score(y_train, ytrain_predict_ada))\n",
    "ytest_predict_ada = ada.predict(X_test)\n",
    "display(accuracy_score(y_test, ytest_predict_ada))"
   ]
  },
  {
   "cell_type": "code",
   "execution_count": 144,
   "id": "dd9ad32b",
   "metadata": {},
   "outputs": [],
   "source": [
    "##-------Best model-------### \n",
    "df_test1 = df_test_num.copy()\n",
    "prediction = ada.predict(df_test)\n",
    "df_test1['Overall_Experience'] = prediction\n",
    "sample = df_test1[['ID', 'Overall_Experience']]\n",
    "sample.to_csv('Prediction2.csv')"
   ]
  },
  {
   "cell_type": "code",
   "execution_count": 145,
   "id": "ff49d983",
   "metadata": {},
   "outputs": [
    {
     "data": {
      "text/plain": [
       "0.9988344811927647"
      ]
     },
     "metadata": {},
     "output_type": "display_data"
    },
    {
     "data": {
      "text/plain": [
       "0.9539803630712722"
      ]
     },
     "metadata": {},
     "output_type": "display_data"
    }
   ],
   "source": [
    "ada1 = AdaBoostClassifier(base_estimator=rf1, n_estimators=32, learning_rate=0.1, random_state= 88)\n",
    "ada1.fit(X_train , y_train)\n",
    "\n",
    "ytrain_predict_ada1 = ada1.predict(X_train)\n",
    "display(accuracy_score(y_train, ytrain_predict_ada1))\n",
    "ytest_predict_ada1 = ada1.predict(X_test)\n",
    "display(accuracy_score(y_test, ytest_predict_ada1))"
   ]
  },
  {
   "cell_type": "code",
   "execution_count": 146,
   "id": "96ec47e0",
   "metadata": {},
   "outputs": [],
   "source": [
    "LR = LogisticRegression(random_state = 1)"
   ]
  },
  {
   "cell_type": "markdown",
   "id": "a7d88721",
   "metadata": {},
   "source": [
    "# Decision Tree model"
   ]
  },
  {
   "cell_type": "code",
   "execution_count": 147,
   "id": "074fc407",
   "metadata": {},
   "outputs": [
    {
     "data": {
      "text/plain": [
       "DecisionTreeClassifier()"
      ]
     },
     "execution_count": 147,
     "metadata": {},
     "output_type": "execute_result"
    }
   ],
   "source": [
    "dt = DecisionTreeClassifier(criterion = 'gini')\n",
    "dt.fit(X_train , y_train)"
   ]
  },
  {
   "cell_type": "code",
   "execution_count": 148,
   "id": "6e43ea51",
   "metadata": {},
   "outputs": [
    {
     "data": {
      "text/plain": [
       "1.0"
      ]
     },
     "metadata": {},
     "output_type": "display_data"
    },
    {
     "data": {
      "text/plain": [
       "0.9283040192131101"
      ]
     },
     "metadata": {},
     "output_type": "display_data"
    }
   ],
   "source": [
    "ytrain_predict_dt = dt.predict(X_train)\n",
    "display(accuracy_score(y_train, ytrain_predict_dt))\n",
    "ytest_predict_dt = dt.predict(X_test)\n",
    "display(accuracy_score(y_test, ytest_predict_dt))"
   ]
  },
  {
   "cell_type": "code",
   "execution_count": 149,
   "id": "b008b821",
   "metadata": {},
   "outputs": [],
   "source": [
    "from sklearn import tree\n",
    "\n",
    "train_char_label = ['No', 'Yes']\n",
    "ld_Tree_File = open('D:\\Courses\\PGPDSBA\\Hackathons\\Bullet Train\\ld_Tree_File.dot','w')\n",
    "dot_data = tree.export_graphviz(dt, \n",
    "                                out_file=ld_Tree_File, \n",
    "                                feature_names = list(X_train), \n",
    "                                class_names = list(train_char_label))\n",
    "\n",
    "ld_Tree_File.close()"
   ]
  },
  {
   "cell_type": "code",
   "execution_count": 150,
   "id": "b19711bd",
   "metadata": {},
   "outputs": [
    {
     "data": {
      "text/plain": [
       "DecisionTreeClassifier(max_depth=25, min_samples_leaf=5, min_samples_split=15,\n",
       "                       random_state=1)"
      ]
     },
     "execution_count": 150,
     "metadata": {},
     "output_type": "execute_result"
    }
   ],
   "source": [
    "reg_dt_model = DecisionTreeClassifier(criterion = 'gini', max_depth = 25,min_samples_leaf=5,min_samples_split=15,random_state = 1)\n",
    "reg_dt_model.fit(X_train, y_train)"
   ]
  },
  {
   "cell_type": "code",
   "execution_count": 151,
   "id": "3f88b52f",
   "metadata": {},
   "outputs": [
    {
     "data": {
      "text/plain": [
       "0.9646106107621282"
      ]
     },
     "metadata": {},
     "output_type": "display_data"
    },
    {
     "data": {
      "text/plain": [
       "0.9324362506180688"
      ]
     },
     "metadata": {},
     "output_type": "display_data"
    }
   ],
   "source": [
    "ytrain_predict_reg_dt_model = reg_dt_model.predict(X_train)\n",
    "display(accuracy_score(y_train, ytrain_predict_reg_dt_model))\n",
    "ytest_predict_reg_dt_model = reg_dt_model.predict(X_test)\n",
    "display(accuracy_score(y_test, ytest_predict_reg_dt_model))"
   ]
  },
  {
   "cell_type": "code",
   "execution_count": 152,
   "id": "3a5569dd",
   "metadata": {},
   "outputs": [],
   "source": [
    "ytrain_predict = reg_dt_model.predict(X_train)\n",
    "ytest_predict = reg_dt_model.predict(X_test)"
   ]
  },
  {
   "cell_type": "markdown",
   "id": "322f5595",
   "metadata": {},
   "source": [
    "# Random Forest Classifier"
   ]
  },
  {
   "cell_type": "code",
   "execution_count": 153,
   "id": "89475e13",
   "metadata": {},
   "outputs": [
    {
     "data": {
      "text/plain": [
       "0.9994399455082116"
      ]
     },
     "metadata": {},
     "output_type": "display_data"
    },
    {
     "data": {
      "text/plain": [
       "0.9532033622942714"
      ]
     },
     "metadata": {},
     "output_type": "display_data"
    }
   ],
   "source": [
    "rfcl = RandomForestClassifier(random_state=0,n_estimators=300,max_depth = 25,max_features = 15,n_jobs = -1 )\n",
    "rfcl = rfcl.fit(X_train, y_train)\n",
    "ytrain_predict_rfcl = rfcl.predict(X_train)\n",
    "display(accuracy_score(y_train, ytrain_predict_rfcl))\n",
    "ytest_predict_rfcl = rfcl.predict(X_test)\n",
    "display(accuracy_score(y_test, ytest_predict_rfcl))"
   ]
  },
  {
   "cell_type": "code",
   "execution_count": 154,
   "id": "ec6c61a8",
   "metadata": {},
   "outputs": [
    {
     "data": {
      "text/plain": [
       "0.9994096722924393"
      ]
     },
     "metadata": {},
     "output_type": "display_data"
    },
    {
     "data": {
      "text/plain": [
       "0.9532739987285442"
      ]
     },
     "metadata": {},
     "output_type": "display_data"
    }
   ],
   "source": [
    "rf1 = RandomForestClassifier(n_estimators=280, max_depth= 25, \n",
    "                             max_features= 15, random_state = 0,\n",
    "                             n_jobs = -1)\n",
    "\n",
    "\n",
    "rf1.fit(X_train, y_train)\n",
    "ytrain_predict_rf1 = rf1.predict(X_train)\n",
    "display(accuracy_score(y_train, ytrain_predict_rf1))\n",
    "ytest_predict_rf1 = rf1.predict(X_test)\n",
    "display(accuracy_score(y_test, ytest_predict_rf1))"
   ]
  },
  {
   "cell_type": "markdown",
   "id": "e658b3bd",
   "metadata": {},
   "source": [
    "## Ada Boost"
   ]
  },
  {
   "cell_type": "code",
   "execution_count": 155,
   "id": "1979525d",
   "metadata": {},
   "outputs": [
    {
     "data": {
      "text/plain": [
       "0.9997275410580488"
      ]
     },
     "metadata": {},
     "output_type": "display_data"
    },
    {
     "data": {
      "text/plain": [
       "0.954050999505545"
      ]
     },
     "metadata": {},
     "output_type": "display_data"
    }
   ],
   "source": [
    "ada1 = AdaBoostClassifier(base_estimator=rf1, n_estimators=22, learning_rate=0.1, random_state= 0)\n",
    "\n",
    "ada1.fit(X_train, y_train)\n",
    "ytrain_predict_ada1 = ada1.predict(X_train)\n",
    "display(accuracy_score(y_train, ytrain_predict_ada1))\n",
    "ytest_predict_ada1 = ada1.predict(X_test)\n",
    "display(accuracy_score(y_test, ytest_predict_ada1))"
   ]
  },
  {
   "cell_type": "code",
   "execution_count": 156,
   "id": "51ee8625",
   "metadata": {},
   "outputs": [],
   "source": [
    "df_test1 = df_test_num.copy()\n",
    "prediction = ada1.predict(df_test)\n",
    "df_test1['Overall_Experience'] = prediction\n",
    "sample = df_test1[['ID', 'Overall_Experience']]\n",
    "sample.to_csv('Prediction5.csv')"
   ]
  },
  {
   "cell_type": "code",
   "execution_count": 157,
   "id": "5455c799",
   "metadata": {},
   "outputs": [
    {
     "data": {
      "text/plain": [
       "0.999379399076667"
      ]
     },
     "metadata": {},
     "output_type": "display_data"
    },
    {
     "data": {
      "text/plain": [
       "0.9535918626827717"
      ]
     },
     "metadata": {},
     "output_type": "display_data"
    }
   ],
   "source": [
    "ada2 = AdaBoostClassifier(base_estimator=rf1, n_estimators=22, learning_rate=0.01, random_state= 0)\n",
    "\n",
    "ada2.fit(X_train, y_train)\n",
    "ytrain_predict_ada2 = ada2.predict(X_train)\n",
    "display(accuracy_score(y_train, ytrain_predict_ada2))\n",
    "ytest_predict_ada2 = ada2.predict(X_test)\n",
    "display(accuracy_score(y_test, ytest_predict_ada2))"
   ]
  },
  {
   "cell_type": "code",
   "execution_count": 158,
   "id": "cfa6d656",
   "metadata": {},
   "outputs": [],
   "source": [
    "df_test1 = df_test_num.copy()\n",
    "prediction = ada2.predict(df_test)\n",
    "df_test1['Overall_Experience'] = prediction\n",
    "sample = df_test1[['ID', 'Overall_Experience']]\n",
    "sample.to_csv('Prediction9.csv')"
   ]
  },
  {
   "cell_type": "code",
   "execution_count": 159,
   "id": "8756a044",
   "metadata": {},
   "outputs": [
    {
     "data": {
      "text/plain": [
       "0.9997124044501627"
      ]
     },
     "metadata": {},
     "output_type": "display_data"
    },
    {
     "data": {
      "text/plain": [
       "0.9542982270254997"
      ]
     },
     "metadata": {},
     "output_type": "display_data"
    }
   ],
   "source": [
    "ada3 = AdaBoostClassifier(base_estimator=rf1, n_estimators=32, learning_rate=0.1, random_state= 0)\n",
    "\n",
    "ada3.fit(X_train, y_train)\n",
    "ytrain_predict_ada3 = ada3.predict(X_train)\n",
    "display(accuracy_score(y_train, ytrain_predict_ada3))\n",
    "ytest_predict_ada3 = ada3.predict(X_test)\n",
    "display(accuracy_score(y_test, ytest_predict_ada3))"
   ]
  },
  {
   "cell_type": "code",
   "execution_count": 160,
   "id": "9dbd04ba",
   "metadata": {},
   "outputs": [],
   "source": [
    "df_test1 = df_test_num.copy()\n",
    "prediction = ada3.predict(df_test)\n",
    "df_test1['Overall_Experience'] = prediction\n",
    "sample = df_test1[['ID', 'Overall_Experience']]\n",
    "sample.to_csv('Prediction6.csv')"
   ]
  },
  {
   "cell_type": "code",
   "execution_count": 161,
   "id": "b07166da",
   "metadata": {},
   "outputs": [
    {
     "data": {
      "text/plain": [
       "0.9999545901763415"
      ]
     },
     "metadata": {},
     "output_type": "display_data"
    },
    {
     "data": {
      "text/plain": [
       "0.9541569541569541"
      ]
     },
     "metadata": {},
     "output_type": "display_data"
    }
   ],
   "source": [
    "ada4 = AdaBoostClassifier(base_estimator=rf1, n_estimators=32, learning_rate=1.0, random_state= 0)\n",
    "\n",
    "ada4.fit(X_train, y_train)\n",
    "ytrain_predict_ada4 = ada4.predict(X_train)\n",
    "display(accuracy_score(y_train, ytrain_predict_ada4))\n",
    "ytest_predict_ada4 = ada4.predict(X_test)\n",
    "display(accuracy_score(y_test, ytest_predict_ada4))"
   ]
  },
  {
   "cell_type": "code",
   "execution_count": 162,
   "id": "6ce2c08a",
   "metadata": {},
   "outputs": [
    {
     "data": {
      "text/plain": [
       "0.9999545901763415"
      ]
     },
     "metadata": {},
     "output_type": "display_data"
    },
    {
     "data": {
      "text/plain": [
       "0.954227590591227"
      ]
     },
     "metadata": {},
     "output_type": "display_data"
    }
   ],
   "source": [
    "ada5 = AdaBoostClassifier(base_estimator=rf1, n_estimators=22, learning_rate=1.0, random_state= 0)\n",
    "\n",
    "ada5.fit(X_train, y_train)\n",
    "ytrain_predict_ada5 = ada5.predict(X_train)\n",
    "display(accuracy_score(y_train, ytrain_predict_ada5))\n",
    "ytest_predict_ada5 = ada5.predict(X_test)\n",
    "display(accuracy_score(y_test, ytest_predict_ada5))"
   ]
  },
  {
   "cell_type": "code",
   "execution_count": 163,
   "id": "978f2374",
   "metadata": {},
   "outputs": [
    {
     "data": {
      "text/plain": [
       "0.9997124044501627"
      ]
     },
     "metadata": {},
     "output_type": "display_data"
    },
    {
     "data": {
      "text/plain": [
       "0.9536624991170446"
      ]
     },
     "metadata": {},
     "output_type": "display_data"
    }
   ],
   "source": [
    "ada6 = AdaBoostClassifier(base_estimator=rf1, n_estimators=35, learning_rate=0.1, random_state= 0)\n",
    "\n",
    "ada6.fit(X_train, y_train)\n",
    "ytrain_predict_ada6 = ada6.predict(X_train)\n",
    "display(accuracy_score(y_train, ytrain_predict_ada6))\n",
    "ytest_predict_ada6 = ada6.predict(X_test)\n",
    "display(accuracy_score(y_test, ytest_predict_ada6))"
   ]
  },
  {
   "cell_type": "code",
   "execution_count": 164,
   "id": "c8213e80",
   "metadata": {},
   "outputs": [],
   "source": [
    "df_test1 = df_test_num.copy()\n",
    "prediction = ada6.predict(df_test)\n",
    "df_test1['Overall_Experience'] = prediction\n",
    "sample = df_test1[['ID', 'Overall_Experience']]\n",
    "sample.to_csv('Prediction8.csv')"
   ]
  },
  {
   "cell_type": "code",
   "execution_count": 165,
   "id": "05b305d2",
   "metadata": {},
   "outputs": [
    {
     "data": {
      "text/plain": [
       "0.9999394535684553"
      ]
     },
     "metadata": {},
     "output_type": "display_data"
    },
    {
     "data": {
      "text/plain": [
       "0.9539803630712722"
      ]
     },
     "metadata": {},
     "output_type": "display_data"
    }
   ],
   "source": [
    "ada7 = AdaBoostClassifier(base_estimator=rf1, n_estimators=35, learning_rate=1.0, random_state= 0)\n",
    "\n",
    "ada7.fit(X_train, y_train)\n",
    "ytrain_predict_ada7 = ada7.predict(X_train)\n",
    "display(accuracy_score(y_train, ytrain_predict_ada7))\n",
    "ytest_predict_ada7 = ada7.predict(X_test)\n",
    "display(accuracy_score(y_test, ytest_predict_ada7))"
   ]
  },
  {
   "cell_type": "code",
   "execution_count": 166,
   "id": "6816ae09",
   "metadata": {},
   "outputs": [],
   "source": [
    "df_test1 = df_test_num.copy()\n",
    "prediction = ada7.predict(df_test)\n",
    "df_test1['Overall_Experience'] = prediction\n",
    "sample = df_test1[['ID', 'Overall_Experience']]\n",
    "sample.to_csv('Prediction7.csv')"
   ]
  },
  {
   "cell_type": "code",
   "execution_count": 167,
   "id": "01845eb3",
   "metadata": {},
   "outputs": [
    {
     "data": {
      "text/plain": [
       "0.9996821312343904"
      ]
     },
     "metadata": {},
     "output_type": "display_data"
    },
    {
     "data": {
      "text/plain": [
       "0.9538390902027266"
      ]
     },
     "metadata": {},
     "output_type": "display_data"
    }
   ],
   "source": [
    "ada8 = AdaBoostClassifier(base_estimator=rf1, n_estimators=20, learning_rate=0.1, random_state= 0)\n",
    "\n",
    "ada8.fit(X_train, y_train)\n",
    "ytrain_predict_ada8 = ada8.predict(X_train)\n",
    "display(accuracy_score(y_train, ytrain_predict_ada8))\n",
    "ytest_predict_ada8 = ada8.predict(X_test)\n",
    "display(accuracy_score(y_test, ytest_predict_ada8))"
   ]
  },
  {
   "cell_type": "code",
   "execution_count": 168,
   "id": "b073f8f3",
   "metadata": {},
   "outputs": [],
   "source": [
    "df_test1 = df_test_num.copy()\n",
    "prediction = ada8.predict(df_test)\n",
    "df_test1['Overall_Experience'] = prediction\n",
    "sample = df_test1[['ID', 'Overall_Experience']]\n",
    "sample.to_csv('Prediction10.csv')"
   ]
  },
  {
   "cell_type": "code",
   "execution_count": 169,
   "id": "c86268ff",
   "metadata": {},
   "outputs": [
    {
     "data": {
      "text/plain": [
       "0.9997124044501627"
      ]
     },
     "metadata": {},
     "output_type": "display_data"
    },
    {
     "data": {
      "text/plain": [
       "0.9540156812884085"
      ]
     },
     "metadata": {},
     "output_type": "display_data"
    }
   ],
   "source": [
    "ada9 = AdaBoostClassifier(base_estimator=rf1, n_estimators=18, learning_rate=0.1, random_state= 0)\n",
    "\n",
    "ada9.fit(X_train, y_train)\n",
    "ytrain_predict_ada9 = ada9.predict(X_train)\n",
    "display(accuracy_score(y_train, ytrain_predict_ada9))\n",
    "ytest_predict_ada9 = ada9.predict(X_test)\n",
    "display(accuracy_score(y_test, ytest_predict_ada9))"
   ]
  },
  {
   "cell_type": "code",
   "execution_count": 170,
   "id": "f0f32bed",
   "metadata": {},
   "outputs": [
    {
     "data": {
      "text/plain": [
       "0.9994096722924393"
      ]
     },
     "metadata": {},
     "output_type": "display_data"
    },
    {
     "data": {
      "text/plain": [
       "0.9532739987285442"
      ]
     },
     "metadata": {},
     "output_type": "display_data"
    }
   ],
   "source": [
    "rf1 = RandomForestClassifier(n_estimators=280, max_depth= 25, \n",
    "                             max_features= 15, random_state = 0,\n",
    "                             n_jobs = -1)\n",
    "rf1.fit(X_train, y_train)\n",
    "ytrain_predict_rf1 = rf1.predict(X_train)\n",
    "display(accuracy_score(y_train, ytrain_predict_rf1))\n",
    "ytest_predict_rf1 = rf1.predict(X_test)\n",
    "display(accuracy_score(y_test, ytest_predict_rf1))"
   ]
  },
  {
   "cell_type": "code",
   "execution_count": 171,
   "id": "6a14a7a0",
   "metadata": {},
   "outputs": [
    {
     "data": {
      "text/plain": [
       "0.9994096722924393"
      ]
     },
     "metadata": {},
     "output_type": "display_data"
    },
    {
     "data": {
      "text/plain": [
       "0.9533799533799534"
      ]
     },
     "metadata": {},
     "output_type": "display_data"
    }
   ],
   "source": [
    "rf2 = RandomForestClassifier(n_estimators=270, max_depth= 25, \n",
    "                             max_features= 15, random_state = 0,\n",
    "                             n_jobs = -1)\n",
    "\n",
    "\n",
    "rf2.fit(X_train, y_train)\n",
    "ytrain_predict_rf2 = rf2.predict(X_train)\n",
    "display(accuracy_score(y_train, ytrain_predict_rf2))\n",
    "ytest_predict_rf2 = rf2.predict(X_test)\n",
    "display(accuracy_score(y_test, ytest_predict_rf2))"
   ]
  },
  {
   "cell_type": "code",
   "execution_count": 172,
   "id": "42b863b0",
   "metadata": {},
   "outputs": [
    {
     "data": {
      "text/plain": [
       "0.9993339892530084"
      ]
     },
     "metadata": {},
     "output_type": "display_data"
    },
    {
     "data": {
      "text/plain": [
       "0.9538037719855902"
      ]
     },
     "metadata": {},
     "output_type": "display_data"
    }
   ],
   "source": [
    "rf3 = RandomForestClassifier(n_estimators=270, max_depth= 25, \n",
    "                             max_features= 13, random_state = 0,\n",
    "                             n_jobs = -1)\n",
    "rf3.fit(X_train, y_train)\n",
    "ytrain_predict_rf3 = rf3.predict(X_train)\n",
    "display(accuracy_score(y_train, ytrain_predict_rf3))\n",
    "ytest_predict_rf3 = rf3.predict(X_test)\n",
    "display(accuracy_score(y_test, ytest_predict_rf3))"
   ]
  },
  {
   "cell_type": "code",
   "execution_count": 173,
   "id": "631014d1",
   "metadata": {},
   "outputs": [],
   "source": [
    "df_test1 = df_test_num.copy()\n",
    "prediction = rf3.predict(df_test)\n",
    "df_test1['Overall_Experience'] = prediction\n",
    "sample = df_test1[['ID', 'Overall_Experience']]\n",
    "sample.to_csv('Prediction13.csv')"
   ]
  },
  {
   "cell_type": "code",
   "execution_count": 174,
   "id": "e0f523bf",
   "metadata": {},
   "outputs": [
    {
     "data": {
      "text/plain": [
       "0.9956860667524408"
      ]
     },
     "metadata": {},
     "output_type": "display_data"
    },
    {
     "data": {
      "text/plain": [
       "0.9517906336088154"
      ]
     },
     "metadata": {},
     "output_type": "display_data"
    }
   ],
   "source": [
    "rf4 = RandomForestClassifier(n_estimators=270, max_depth= 25, \n",
    "                             max_features= 13, random_state = 0,\n",
    "                             min_samples_leaf = 2 , min_samples_split = 2,\n",
    "                             n_jobs = -1)\n",
    "\n",
    "\n",
    "rf4.fit(X_train, y_train)\n",
    "ytrain_predict_rf4 = rf4.predict(X_train)\n",
    "display(accuracy_score(y_train, ytrain_predict_rf4))\n",
    "ytest_predict_rf4 = rf4.predict(X_test)\n",
    "display(accuracy_score(y_test, ytest_predict_rf4))"
   ]
  },
  {
   "cell_type": "code",
   "execution_count": 175,
   "id": "b0dfcb91",
   "metadata": {},
   "outputs": [],
   "source": [
    "df_test1 = df_test_num.copy()\n",
    "prediction = rf4.predict(df_test)\n",
    "df_test1['Overall_Experience'] = prediction\n",
    "sample = df_test1[['ID', 'Overall_Experience']]\n",
    "sample.to_csv('Prediction14.csv')"
   ]
  },
  {
   "cell_type": "code",
   "execution_count": 176,
   "id": "861e437a",
   "metadata": {},
   "outputs": [
    {
     "data": {
      "text/plain": [
       "0.9997124044501627"
      ]
     },
     "metadata": {},
     "output_type": "display_data"
    },
    {
     "data": {
      "text/plain": [
       "0.9539097266369994"
      ]
     },
     "metadata": {},
     "output_type": "display_data"
    }
   ],
   "source": [
    "ada10 = AdaBoostClassifier(base_estimator=rf3, n_estimators=25, learning_rate=0.25, random_state= 0)\n",
    "\n",
    "ada10.fit(X_train, y_train)\n",
    "ytrain_predict_ada10 = ada10.predict(X_train)\n",
    "display(accuracy_score(y_train, ytrain_predict_ada10))\n",
    "ytest_predict_ada10 = ada10.predict(X_test)\n",
    "display(accuracy_score(y_test, ytest_predict_ada10))"
   ]
  },
  {
   "cell_type": "code",
   "execution_count": 177,
   "id": "e080f59d",
   "metadata": {},
   "outputs": [],
   "source": [
    "df_test1 = df_test_num.copy()\n",
    "prediction = ada10.predict(df_test)\n",
    "df_test1['Overall_Experience'] = prediction\n",
    "sample = df_test1[['ID', 'Overall_Experience']]\n",
    "sample.to_csv('Prediction12.csv')"
   ]
  },
  {
   "cell_type": "code",
   "execution_count": null,
   "id": "20ee8766",
   "metadata": {},
   "outputs": [],
   "source": []
  }
 ],
 "metadata": {
  "kernelspec": {
   "display_name": "Python 3 (ipykernel)",
   "language": "python",
   "name": "python3"
  },
  "language_info": {
   "codemirror_mode": {
    "name": "ipython",
    "version": 3
   },
   "file_extension": ".py",
   "mimetype": "text/x-python",
   "name": "python",
   "nbconvert_exporter": "python",
   "pygments_lexer": "ipython3",
   "version": "3.9.12"
  }
 },
 "nbformat": 4,
 "nbformat_minor": 5
}
