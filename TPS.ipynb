{
 "cells": [
  {
   "cell_type": "code",
   "execution_count": 1,
   "id": "511bc944",
   "metadata": {},
   "outputs": [],
   "source": [
    "import pandas as pd\n",
    "import numpy as np\n",
    "import seaborn as sns\n",
    "import matplotlib.pyplot as plt\n",
    "%matplotlib inline\n",
    "import scipy.stats as stats\n",
    "from scipy.stats import ttest_1samp, ttest_ind\n",
    "from scipy.stats import shapiro"
   ]
  },
  {
   "cell_type": "code",
   "execution_count": 2,
   "id": "3a0fb753",
   "metadata": {},
   "outputs": [
    {
     "data": {
      "text/html": [
       "<div>\n",
       "<style scoped>\n",
       "    .dataframe tbody tr th:only-of-type {\n",
       "        vertical-align: middle;\n",
       "    }\n",
       "\n",
       "    .dataframe tbody tr th {\n",
       "        vertical-align: top;\n",
       "    }\n",
       "\n",
       "    .dataframe thead th {\n",
       "        text-align: right;\n",
       "    }\n",
       "</style>\n",
       "<table border=\"1\" class=\"dataframe\">\n",
       "  <thead>\n",
       "    <tr style=\"text-align: right;\">\n",
       "      <th></th>\n",
       "      <th>Above Town</th>\n",
       "      <th>Below Town</th>\n",
       "    </tr>\n",
       "  </thead>\n",
       "  <tbody>\n",
       "    <tr>\n",
       "      <th>0</th>\n",
       "      <td>5.2</td>\n",
       "      <td>4.2</td>\n",
       "    </tr>\n",
       "    <tr>\n",
       "      <th>1</th>\n",
       "      <td>4.8</td>\n",
       "      <td>4.4</td>\n",
       "    </tr>\n",
       "    <tr>\n",
       "      <th>2</th>\n",
       "      <td>5.1</td>\n",
       "      <td>4.7</td>\n",
       "    </tr>\n",
       "    <tr>\n",
       "      <th>3</th>\n",
       "      <td>5.0</td>\n",
       "      <td>4.9</td>\n",
       "    </tr>\n",
       "    <tr>\n",
       "      <th>4</th>\n",
       "      <td>4.9</td>\n",
       "      <td>4.6</td>\n",
       "    </tr>\n",
       "  </tbody>\n",
       "</table>\n",
       "</div>"
      ],
      "text/plain": [
       "   Above Town  Below Town\n",
       "0         5.2         4.2\n",
       "1         4.8         4.4\n",
       "2         5.1         4.7\n",
       "3         5.0         4.9\n",
       "4         4.9         4.6"
      ]
     },
     "execution_count": 2,
     "metadata": {},
     "output_type": "execute_result"
    }
   ],
   "source": [
    "df=pd.read_excel(\"air_pollution.xlsx\")\n",
    "df.head()"
   ]
  },
  {
   "cell_type": "code",
   "execution_count": 3,
   "id": "147578cb",
   "metadata": {},
   "outputs": [
    {
     "data": {
      "text/html": [
       "<div>\n",
       "<style scoped>\n",
       "    .dataframe tbody tr th:only-of-type {\n",
       "        vertical-align: middle;\n",
       "    }\n",
       "\n",
       "    .dataframe tbody tr th {\n",
       "        vertical-align: top;\n",
       "    }\n",
       "\n",
       "    .dataframe thead th {\n",
       "        text-align: right;\n",
       "    }\n",
       "</style>\n",
       "<table border=\"1\" class=\"dataframe\">\n",
       "  <thead>\n",
       "    <tr style=\"text-align: right;\">\n",
       "      <th></th>\n",
       "      <th>Above Town</th>\n",
       "      <th>Below Town</th>\n",
       "    </tr>\n",
       "  </thead>\n",
       "  <tbody>\n",
       "    <tr>\n",
       "      <th>count</th>\n",
       "      <td>15.000000</td>\n",
       "      <td>15.000000</td>\n",
       "    </tr>\n",
       "    <tr>\n",
       "      <th>mean</th>\n",
       "      <td>4.920000</td>\n",
       "      <td>4.740000</td>\n",
       "    </tr>\n",
       "    <tr>\n",
       "      <th>std</th>\n",
       "      <td>0.156753</td>\n",
       "      <td>0.320268</td>\n",
       "    </tr>\n",
       "    <tr>\n",
       "      <th>min</th>\n",
       "      <td>4.700000</td>\n",
       "      <td>4.200000</td>\n",
       "    </tr>\n",
       "    <tr>\n",
       "      <th>25%</th>\n",
       "      <td>4.800000</td>\n",
       "      <td>4.600000</td>\n",
       "    </tr>\n",
       "    <tr>\n",
       "      <th>50%</th>\n",
       "      <td>4.900000</td>\n",
       "      <td>4.700000</td>\n",
       "    </tr>\n",
       "    <tr>\n",
       "      <th>75%</th>\n",
       "      <td>5.000000</td>\n",
       "      <td>4.900000</td>\n",
       "    </tr>\n",
       "    <tr>\n",
       "      <th>max</th>\n",
       "      <td>5.200000</td>\n",
       "      <td>5.500000</td>\n",
       "    </tr>\n",
       "  </tbody>\n",
       "</table>\n",
       "</div>"
      ],
      "text/plain": [
       "       Above Town  Below Town\n",
       "count   15.000000   15.000000\n",
       "mean     4.920000    4.740000\n",
       "std      0.156753    0.320268\n",
       "min      4.700000    4.200000\n",
       "25%      4.800000    4.600000\n",
       "50%      4.900000    4.700000\n",
       "75%      5.000000    4.900000\n",
       "max      5.200000    5.500000"
      ]
     },
     "execution_count": 3,
     "metadata": {},
     "output_type": "execute_result"
    }
   ],
   "source": [
    "df.describe()"
   ]
  },
  {
   "cell_type": "code",
   "execution_count": 4,
   "id": "76fcb2a3",
   "metadata": {},
   "outputs": [
    {
     "data": {
      "text/plain": [
       "array([[<AxesSubplot:title={'center':'Above Town'}>,\n",
       "        <AxesSubplot:title={'center':'Below Town'}>]], dtype=object)"
      ]
     },
     "execution_count": 4,
     "metadata": {},
     "output_type": "execute_result"
    },
    {
     "data": {
      "image/png": "[encoded data removed]",
      "text/plain": [
       "<Figure size 432x288 with 2 Axes>"
      ]
     },
     "metadata": {
      "needs_background": "light"
     },
     "output_type": "display_data"
    }
   ],
   "source": [
    "df.iloc[:,0:2].hist()"
   ]
  },
  {
   "cell_type": "code",
   "execution_count": 5,
   "id": "0986c317",
   "metadata": {},
   "outputs": [
    {
     "data": {
      "text/plain": [
       "<AxesSubplot:xlabel='Above Town'>"
      ]
     },
     "execution_count": 5,
     "metadata": {},
     "output_type": "execute_result"
    },
    {
     "data": {
      "image/png": "[encoded data removed]",
      "text/plain": [
       "<Figure size 432x288 with 1 Axes>"
      ]
     },
     "metadata": {
      "needs_background": "light"
     },
     "output_type": "display_data"
    }
   ],
   "source": [
    "sns.boxplot(x=df['Above Town'],palette=\"Set3\",showmeans=True)"
   ]
  },
  {
   "cell_type": "code",
   "execution_count": 6,
   "id": "ceee9c80",
   "metadata": {},
   "outputs": [
    {
     "data": {
      "text/plain": [
       "<AxesSubplot:xlabel='Below Town'>"
      ]
     },
     "execution_count": 6,
     "metadata": {},
     "output_type": "execute_result"
    },
    {
     "data": {
      "image/png": "[encoded data removed]",
      "text/plain": [
       "<Figure size 432x288 with 1 Axes>"
      ]
     },
     "metadata": {
      "needs_background": "light"
     },
     "output_type": "display_data"
    }
   ],
   "source": [
    "sns.boxplot(x=df['Below Town'],palette='Set3',showmeans=True)"
   ]
  },
  {
   "cell_type": "code",
   "execution_count": 7,
   "id": "6318383f",
   "metadata": {},
   "outputs": [
    {
     "data": {
      "text/plain": [
       "(1.9551142959204162, 0.060618246562833475)"
      ]
     },
     "execution_count": 7,
     "metadata": {},
     "output_type": "execute_result"
    }
   ],
   "source": [
    "t_Statistics,p_value=stats.ttest_ind(df['Above Town'],df['Below Town'])\n",
    "t_Statistics,p_value"
   ]
  },
  {
   "cell_type": "code",
   "execution_count": 8,
   "id": "a642e028",
   "metadata": {},
   "outputs": [
    {
     "data": {
      "text/plain": [
       "0.030309123281416737"
      ]
     },
     "execution_count": 8,
     "metadata": {},
     "output_type": "execute_result"
    }
   ],
   "source": [
    "p_value/2"
   ]
  },
  {
   "cell_type": "code",
   "execution_count": 9,
   "id": "c0a6f1d8",
   "metadata": {},
   "outputs": [
    {
     "data": {
      "text/plain": [
       "Ttest_indResult(statistic=1.9551142959204162, pvalue=0.06444806606116672)"
      ]
     },
     "execution_count": 9,
     "metadata": {},
     "output_type": "execute_result"
    }
   ],
   "source": [
    "stats.ttest_ind(df['Above Town'],df['Below Town'], equal_var=False)"
   ]
  },
  {
   "cell_type": "code",
   "execution_count": 10,
   "id": "fd8d1a4c",
   "metadata": {},
   "outputs": [],
   "source": [
    "#Given Probabilities\n",
    "four_letters = 1/3        #Probability of transfer AAAA, BBBB and CCCC\n",
    "two_letters=1/6           #Probability of transfer two letters\n",
    "Correct_letter = 0.6         #Probability of correct reception of transmitted letters\n",
    "Incorrect_letter = 0.2       #Probability of incorrect reception of transmitted letters"
   ]
  },
  {
   "cell_type": "code",
   "execution_count": 11,
   "id": "a31f6851",
   "metadata": {},
   "outputs": [],
   "source": [
    "#Calculate When AA is transmitted,AB is received on the receiver\n",
    "probabilityAB=two_letters*(Correct_letter*Correct_letter*Incorrect_letter*Incorrect_letter)+ \\\n",
    "                two_letters*(Incorrect_letter*Correct_letter*Correct_letter*Incorrect_letter)+ \\\n",
    "                two_letters*(Incorrect_letter*Incorrect_letter*Correct_letter*Correct_letter)+ \\\n",
    "                two_letters*(Correct_letter*Correct_letter*Correct_letter*Correct_letter)+ \\\n",
    "                two_letters*(Incorrect_letter*Incorrect_letter*Incorrect_letter*Incorrect_letter)"
   ]
  },
  {
   "cell_type": "code",
   "execution_count": 12,
   "id": "06e974a7",
   "metadata": {},
   "outputs": [],
   "source": [
    "#Calculate probability that AAAA transmitted given ABCA receieved             \n",
    "RequiredProbabilityAB = two_letters*(Correct_letter*Correct_letter*Correct_letter*Correct_letter) / probabilityAB"
   ]
  },
  {
   "cell_type": "code",
   "execution_count": 13,
   "id": "ae4943a0",
   "metadata": {},
   "outputs": [],
   "source": [
    "#Calculate Probability that ABCA was received \n",
    "probabilityABCA =  four_letters * (Correct_letter*Incorrect_letter*Incorrect_letter*Correct_letter)+ \\\n",
    "                   four_letters * (Incorrect_letter*Correct_letter*Incorrect_letter*Incorrect_letter)+ \\\n",
    "                   four_letters * (Incorrect_letter*Incorrect_letter*Correct_letter*Incorrect_letter) "
   ]
  },
  {
   "cell_type": "code",
   "execution_count": 14,
   "id": "2b1dedc7",
   "metadata": {},
   "outputs": [],
   "source": [
    "#Calculate probability that AAAA transmitted given ABCA receieved             \n",
    "RequiredProbability = four_letters*(Correct_letter*Incorrect_letter*Correct_letter*Incorrect_letter) / probabilityABCA"
   ]
  },
  {
   "cell_type": "code",
   "execution_count": 15,
   "id": "8f698f1b",
   "metadata": {},
   "outputs": [
    {
     "name": "stdout",
     "output_type": "stream",
     "text": [
      "Probability of transmission of each sequence: 0.3333333333333333\n",
      "Probability of correct receiption of a letter: 0.6\n",
      "Probability of Inorrect receiption of a letter: 0.2\n",
      "Probability that ABCA was received: 0.008\n",
      "Probability that AB was received : 0.029066666666666664\n",
      "Probability that AAAA transmitted given ABCA receieved: 0.6\n",
      "Probability that AA transmitted given AB receieved: 0.7431192660550459\n"
     ]
    }
   ],
   "source": [
    "#Print Output\n",
    "print(\"Probability of transmission of each sequence:\",four_letters)\n",
    "print(\"Probability of correct receiption of a letter:\",Correct_letter)\n",
    "print(\"Probability of Inorrect receiption of a letter:\",Incorrect_letter)\n",
    "\n",
    "print(\"Probability that ABCA was received:\",probabilityABCA)\n",
    "print(\"Probability that AB was received :\",probabilityAB)\n",
    "print(\"Probability that AAAA transmitted given ABCA receieved:\",RequiredProbability)\n",
    "print(\"Probability that AA transmitted given AB receieved:\",RequiredProbabilityAB)"
   ]
  },
  {
   "cell_type": "code",
   "execution_count": null,
   "id": "fbe1ba27",
   "metadata": {},
   "outputs": [],
   "source": []
  }
 ],
 "metadata": {
  "kernelspec": {
   "display_name": "Python 3 (ipykernel)",
   "language": "python",
   "name": "python3"
  },
  "language_info": {
   "codemirror_mode": {
    "name": "ipython",
    "version": 3
   },
   "file_extension": ".py",
   "mimetype": "text/x-python",
   "name": "python",
   "nbconvert_exporter": "python",
   "pygments_lexer": "ipython3",
   "version": "3.7.11"
  }
 },
 "nbformat": 4,
 "nbformat_minor": 5
}
